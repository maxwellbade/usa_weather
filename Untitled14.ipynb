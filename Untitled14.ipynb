{
 "cells": [
  {
   "cell_type": "code",
   "execution_count": 1,
   "metadata": {},
   "outputs": [],
   "source": [
    "import pandas as pd\n",
    "import plotly\n",
    "import numpy as np\n",
    "import seaborn as sns"
   ]
  },
  {
   "cell_type": "code",
   "execution_count": 4,
   "metadata": {},
   "outputs": [
    {
     "name": "stdout",
     "output_type": "stream",
     "text": [
      "snow.csv\r\n",
      "snow.xlsx\r\n"
     ]
    }
   ],
   "source": [
    "ls -a | grep snow"
   ]
  },
  {
   "cell_type": "code",
   "execution_count": 11,
   "metadata": {},
   "outputs": [],
   "source": [
    "temperature = pd.read_csv('temperature.csv')\n",
    "sun = pd.read_csv('sun.csv')\n",
    "snow = pd.read_csv('snow.csv')\n",
    "wind = pd.read_csv('wind.csv')\n",
    "humidity = pd.read_csv('humidity.csv')\n",
    "precipitation = pd.read_csv('precipitation.csv')"
   ]
  },
  {
   "cell_type": "code",
   "execution_count": 34,
   "metadata": {},
   "outputs": [
    {
     "data": {
      "text/html": [
       "<style  type=\"text/css\" >\n",
       "    #T_383f3ee6_c188_11ea_8078_6c40088c216arow0_col0 {\n",
       "            background-color:  #08306b;\n",
       "            color:  #f1f1f1;\n",
       "        }    #T_383f3ee6_c188_11ea_8078_6c40088c216arow0_col1 {\n",
       "            background-color:  #125ea6;\n",
       "            color:  #f1f1f1;\n",
       "        }    #T_383f3ee6_c188_11ea_8078_6c40088c216arow0_col2 {\n",
       "            background-color:  #08306b;\n",
       "            color:  #f1f1f1;\n",
       "        }    #T_383f3ee6_c188_11ea_8078_6c40088c216arow0_col4 {\n",
       "            background-color:  #1764ab;\n",
       "            color:  #f1f1f1;\n",
       "        }    #T_383f3ee6_c188_11ea_8078_6c40088c216arow0_col5 {\n",
       "            background-color:  #08306b;\n",
       "            color:  #f1f1f1;\n",
       "        }    #T_383f3ee6_c188_11ea_8078_6c40088c216arow0_col6 {\n",
       "            background-color:  #f7fbff;\n",
       "            color:  #000000;\n",
       "        }    #T_383f3ee6_c188_11ea_8078_6c40088c216arow1_col0 {\n",
       "            background-color:  #08509b;\n",
       "            color:  #f1f1f1;\n",
       "        }    #T_383f3ee6_c188_11ea_8078_6c40088c216arow1_col1 {\n",
       "            background-color:  #08306b;\n",
       "            color:  #f1f1f1;\n",
       "        }    #T_383f3ee6_c188_11ea_8078_6c40088c216arow1_col2 {\n",
       "            background-color:  #3383be;\n",
       "            color:  #000000;\n",
       "        }    #T_383f3ee6_c188_11ea_8078_6c40088c216arow1_col4 {\n",
       "            background-color:  #08306b;\n",
       "            color:  #f1f1f1;\n",
       "        }    #T_383f3ee6_c188_11ea_8078_6c40088c216arow1_col5 {\n",
       "            background-color:  #3787c0;\n",
       "            color:  #000000;\n",
       "        }    #T_383f3ee6_c188_11ea_8078_6c40088c216arow1_col6 {\n",
       "            background-color:  #edf4fc;\n",
       "            color:  #000000;\n",
       "        }    #T_383f3ee6_c188_11ea_8078_6c40088c216arow2_col0 {\n",
       "            background-color:  #1a68ae;\n",
       "            color:  #f1f1f1;\n",
       "        }    #T_383f3ee6_c188_11ea_8078_6c40088c216arow2_col1 {\n",
       "            background-color:  #2d7dbb;\n",
       "            color:  #000000;\n",
       "        }    #T_383f3ee6_c188_11ea_8078_6c40088c216arow2_col2 {\n",
       "            background-color:  #1c6bb0;\n",
       "            color:  #f1f1f1;\n",
       "        }    #T_383f3ee6_c188_11ea_8078_6c40088c216arow2_col4 {\n",
       "            background-color:  #2e7ebc;\n",
       "            color:  #000000;\n",
       "        }    #T_383f3ee6_c188_11ea_8078_6c40088c216arow2_col5 {\n",
       "            background-color:  #2070b4;\n",
       "            color:  #f1f1f1;\n",
       "        }    #T_383f3ee6_c188_11ea_8078_6c40088c216arow2_col6 {\n",
       "            background-color:  #e3eef8;\n",
       "            color:  #000000;\n",
       "        }    #T_383f3ee6_c188_11ea_8078_6c40088c216arow3_col0 {\n",
       "            background-color:  #2070b4;\n",
       "            color:  #f1f1f1;\n",
       "        }    #T_383f3ee6_c188_11ea_8078_6c40088c216arow3_col1 {\n",
       "            background-color:  #1e6db2;\n",
       "            color:  #f1f1f1;\n",
       "        }    #T_383f3ee6_c188_11ea_8078_6c40088c216arow3_col2 {\n",
       "            background-color:  #3383be;\n",
       "            color:  #000000;\n",
       "        }    #T_383f3ee6_c188_11ea_8078_6c40088c216arow3_col4 {\n",
       "            background-color:  #2e7ebc;\n",
       "            color:  #000000;\n",
       "        }    #T_383f3ee6_c188_11ea_8078_6c40088c216arow3_col5 {\n",
       "            background-color:  #3787c0;\n",
       "            color:  #000000;\n",
       "        }    #T_383f3ee6_c188_11ea_8078_6c40088c216arow3_col6 {\n",
       "            background-color:  #d8e7f5;\n",
       "            color:  #000000;\n",
       "        }    #T_383f3ee6_c188_11ea_8078_6c40088c216arow4_col0 {\n",
       "            background-color:  #56a0ce;\n",
       "            color:  #000000;\n",
       "        }    #T_383f3ee6_c188_11ea_8078_6c40088c216arow4_col1 {\n",
       "            background-color:  #4e9acb;\n",
       "            color:  #000000;\n",
       "        }    #T_383f3ee6_c188_11ea_8078_6c40088c216arow4_col2 {\n",
       "            background-color:  #5ca4d0;\n",
       "            color:  #000000;\n",
       "        }    #T_383f3ee6_c188_11ea_8078_6c40088c216arow4_col4 {\n",
       "            background-color:  #4a98c9;\n",
       "            color:  #000000;\n",
       "        }    #T_383f3ee6_c188_11ea_8078_6c40088c216arow4_col5 {\n",
       "            background-color:  #4f9bcb;\n",
       "            color:  #000000;\n",
       "        }    #T_383f3ee6_c188_11ea_8078_6c40088c216arow4_col6 {\n",
       "            background-color:  #cee0f2;\n",
       "            color:  #000000;\n",
       "        }    #T_383f3ee6_c188_11ea_8078_6c40088c216arow5_col0 {\n",
       "            background-color:  #60a7d2;\n",
       "            color:  #000000;\n",
       "        }    #T_383f3ee6_c188_11ea_8078_6c40088c216arow5_col1 {\n",
       "            background-color:  #4e9acb;\n",
       "            color:  #000000;\n",
       "        }    #T_383f3ee6_c188_11ea_8078_6c40088c216arow5_col2 {\n",
       "            background-color:  #6aaed6;\n",
       "            color:  #000000;\n",
       "        }    #T_383f3ee6_c188_11ea_8078_6c40088c216arow5_col4 {\n",
       "            background-color:  #4a98c9;\n",
       "            color:  #000000;\n",
       "        }    #T_383f3ee6_c188_11ea_8078_6c40088c216arow5_col5 {\n",
       "            background-color:  #6aaed6;\n",
       "            color:  #000000;\n",
       "        }    #T_383f3ee6_c188_11ea_8078_6c40088c216arow5_col6 {\n",
       "            background-color:  #c2d9ee;\n",
       "            color:  #000000;\n",
       "        }    #T_383f3ee6_c188_11ea_8078_6c40088c216arow6_col0 {\n",
       "            background-color:  #60a7d2;\n",
       "            color:  #000000;\n",
       "        }    #T_383f3ee6_c188_11ea_8078_6c40088c216arow6_col1 {\n",
       "            background-color:  #4e9acb;\n",
       "            color:  #000000;\n",
       "        }    #T_383f3ee6_c188_11ea_8078_6c40088c216arow6_col2 {\n",
       "            background-color:  #6aaed6;\n",
       "            color:  #000000;\n",
       "        }    #T_383f3ee6_c188_11ea_8078_6c40088c216arow6_col4 {\n",
       "            background-color:  #4a98c9;\n",
       "            color:  #000000;\n",
       "        }    #T_383f3ee6_c188_11ea_8078_6c40088c216arow6_col5 {\n",
       "            background-color:  #6aaed6;\n",
       "            color:  #000000;\n",
       "        }    #T_383f3ee6_c188_11ea_8078_6c40088c216arow6_col6 {\n",
       "            background-color:  #b2d2e8;\n",
       "            color:  #000000;\n",
       "        }    #T_383f3ee6_c188_11ea_8078_6c40088c216arow7_col0 {\n",
       "            background-color:  #60a7d2;\n",
       "            color:  #000000;\n",
       "        }    #T_383f3ee6_c188_11ea_8078_6c40088c216arow7_col1 {\n",
       "            background-color:  #77b5d9;\n",
       "            color:  #000000;\n",
       "        }    #T_383f3ee6_c188_11ea_8078_6c40088c216arow7_col2 {\n",
       "            background-color:  #4d99ca;\n",
       "            color:  #000000;\n",
       "        }    #T_383f3ee6_c188_11ea_8078_6c40088c216arow7_col4 {\n",
       "            background-color:  #6aaed6;\n",
       "            color:  #000000;\n",
       "        }    #T_383f3ee6_c188_11ea_8078_6c40088c216arow7_col5 {\n",
       "            background-color:  #4f9bcb;\n",
       "            color:  #000000;\n",
       "        }    #T_383f3ee6_c188_11ea_8078_6c40088c216arow7_col6 {\n",
       "            background-color:  #a0cbe2;\n",
       "            color:  #000000;\n",
       "        }    #T_383f3ee6_c188_11ea_8078_6c40088c216arow8_col0 {\n",
       "            background-color:  #60a7d2;\n",
       "            color:  #000000;\n",
       "        }    #T_383f3ee6_c188_11ea_8078_6c40088c216arow8_col1 {\n",
       "            background-color:  #4e9acb;\n",
       "            color:  #000000;\n",
       "        }    #T_383f3ee6_c188_11ea_8078_6c40088c216arow8_col2 {\n",
       "            background-color:  #6aaed6;\n",
       "            color:  #000000;\n",
       "        }    #T_383f3ee6_c188_11ea_8078_6c40088c216arow8_col4 {\n",
       "            background-color:  #4a98c9;\n",
       "            color:  #000000;\n",
       "        }    #T_383f3ee6_c188_11ea_8078_6c40088c216arow8_col5 {\n",
       "            background-color:  #6aaed6;\n",
       "            color:  #000000;\n",
       "        }    #T_383f3ee6_c188_11ea_8078_6c40088c216arow8_col6 {\n",
       "            background-color:  #8cc0dd;\n",
       "            color:  #000000;\n",
       "        }    #T_383f3ee6_c188_11ea_8078_6c40088c216arow9_col0 {\n",
       "            background-color:  #77b5d9;\n",
       "            color:  #000000;\n",
       "        }    #T_383f3ee6_c188_11ea_8078_6c40088c216arow9_col1 {\n",
       "            background-color:  #61a7d2;\n",
       "            color:  #000000;\n",
       "        }    #T_383f3ee6_c188_11ea_8078_6c40088c216arow9_col2 {\n",
       "            background-color:  #7db8da;\n",
       "            color:  #000000;\n",
       "        }    #T_383f3ee6_c188_11ea_8078_6c40088c216arow9_col4 {\n",
       "            background-color:  #6aaed6;\n",
       "            color:  #000000;\n",
       "        }    #T_383f3ee6_c188_11ea_8078_6c40088c216arow9_col5 {\n",
       "            background-color:  #8dc1dd;\n",
       "            color:  #000000;\n",
       "        }    #T_383f3ee6_c188_11ea_8078_6c40088c216arow9_col6 {\n",
       "            background-color:  #75b4d8;\n",
       "            color:  #000000;\n",
       "        }    #T_383f3ee6_c188_11ea_8078_6c40088c216arow10_col0 {\n",
       "            background-color:  #9dcae1;\n",
       "            color:  #000000;\n",
       "        }    #T_383f3ee6_c188_11ea_8078_6c40088c216arow10_col1 {\n",
       "            background-color:  #8fc2de;\n",
       "            color:  #000000;\n",
       "        }    #T_383f3ee6_c188_11ea_8078_6c40088c216arow10_col2 {\n",
       "            background-color:  #91c3de;\n",
       "            color:  #000000;\n",
       "        }    #T_383f3ee6_c188_11ea_8078_6c40088c216arow10_col4 {\n",
       "            background-color:  #94c4df;\n",
       "            color:  #000000;\n",
       "        }    #T_383f3ee6_c188_11ea_8078_6c40088c216arow10_col5 {\n",
       "            background-color:  #8dc1dd;\n",
       "            color:  #000000;\n",
       "        }    #T_383f3ee6_c188_11ea_8078_6c40088c216arow10_col6 {\n",
       "            background-color:  #63a8d3;\n",
       "            color:  #000000;\n",
       "        }    #T_383f3ee6_c188_11ea_8078_6c40088c216arow11_col0 {\n",
       "            background-color:  #9dcae1;\n",
       "            color:  #000000;\n",
       "        }    #T_383f3ee6_c188_11ea_8078_6c40088c216arow11_col1 {\n",
       "            background-color:  #3c8cc3;\n",
       "            color:  #000000;\n",
       "        }    #T_383f3ee6_c188_11ea_8078_6c40088c216arow11_col2 {\n",
       "            background-color:  #cadef0;\n",
       "            color:  #000000;\n",
       "        }    #T_383f3ee6_c188_11ea_8078_6c40088c216arow11_col4 {\n",
       "            background-color:  #4a98c9;\n",
       "            color:  #000000;\n",
       "        }    #T_383f3ee6_c188_11ea_8078_6c40088c216arow11_col5 {\n",
       "            background-color:  #d6e6f4;\n",
       "            color:  #000000;\n",
       "        }    #T_383f3ee6_c188_11ea_8078_6c40088c216arow11_col6 {\n",
       "            background-color:  #519ccc;\n",
       "            color:  #000000;\n",
       "        }    #T_383f3ee6_c188_11ea_8078_6c40088c216arow12_col0 {\n",
       "            background-color:  #bcd7eb;\n",
       "            color:  #000000;\n",
       "        }    #T_383f3ee6_c188_11ea_8078_6c40088c216arow12_col1 {\n",
       "            background-color:  #b8d5ea;\n",
       "            color:  #000000;\n",
       "        }    #T_383f3ee6_c188_11ea_8078_6c40088c216arow12_col2 {\n",
       "            background-color:  #a1cbe2;\n",
       "            color:  #000000;\n",
       "        }    #T_383f3ee6_c188_11ea_8078_6c40088c216arow12_col4 {\n",
       "            background-color:  #b7d4ea;\n",
       "            color:  #000000;\n",
       "        }    #T_383f3ee6_c188_11ea_8078_6c40088c216arow12_col5 {\n",
       "            background-color:  #abd0e6;\n",
       "            color:  #000000;\n",
       "        }    #T_383f3ee6_c188_11ea_8078_6c40088c216arow12_col6 {\n",
       "            background-color:  #4090c5;\n",
       "            color:  #000000;\n",
       "        }    #T_383f3ee6_c188_11ea_8078_6c40088c216arow13_col0 {\n",
       "            background-color:  #d2e3f3;\n",
       "            color:  #000000;\n",
       "        }    #T_383f3ee6_c188_11ea_8078_6c40088c216arow13_col1 {\n",
       "            background-color:  #f7fbff;\n",
       "            color:  #000000;\n",
       "        }    #T_383f3ee6_c188_11ea_8078_6c40088c216arow13_col2 {\n",
       "            background-color:  #7db8da;\n",
       "            color:  #000000;\n",
       "        }    #T_383f3ee6_c188_11ea_8078_6c40088c216arow13_col4 {\n",
       "            background-color:  #f7fbff;\n",
       "            color:  #000000;\n",
       "        }    #T_383f3ee6_c188_11ea_8078_6c40088c216arow13_col5 {\n",
       "            background-color:  #8dc1dd;\n",
       "            color:  #000000;\n",
       "        }    #T_383f3ee6_c188_11ea_8078_6c40088c216arow13_col6 {\n",
       "            background-color:  #3282be;\n",
       "            color:  #000000;\n",
       "        }    #T_383f3ee6_c188_11ea_8078_6c40088c216arow14_col0 {\n",
       "            background-color:  #d8e7f5;\n",
       "            color:  #000000;\n",
       "        }    #T_383f3ee6_c188_11ea_8078_6c40088c216arow14_col1 {\n",
       "            background-color:  #c9ddf0;\n",
       "            color:  #000000;\n",
       "        }    #T_383f3ee6_c188_11ea_8078_6c40088c216arow14_col2 {\n",
       "            background-color:  #cadef0;\n",
       "            color:  #000000;\n",
       "        }    #T_383f3ee6_c188_11ea_8078_6c40088c216arow14_col4 {\n",
       "            background-color:  #d0e1f2;\n",
       "            color:  #000000;\n",
       "        }    #T_383f3ee6_c188_11ea_8078_6c40088c216arow14_col5 {\n",
       "            background-color:  #c6dbef;\n",
       "            color:  #000000;\n",
       "        }    #T_383f3ee6_c188_11ea_8078_6c40088c216arow14_col6 {\n",
       "            background-color:  #2474b7;\n",
       "            color:  #f1f1f1;\n",
       "        }    #T_383f3ee6_c188_11ea_8078_6c40088c216arow15_col0 {\n",
       "            background-color:  #d8e7f5;\n",
       "            color:  #000000;\n",
       "        }    #T_383f3ee6_c188_11ea_8078_6c40088c216arow15_col1 {\n",
       "            background-color:  #d4e4f4;\n",
       "            color:  #000000;\n",
       "        }    #T_383f3ee6_c188_11ea_8078_6c40088c216arow15_col2 {\n",
       "            background-color:  #bfd8ed;\n",
       "            color:  #000000;\n",
       "        }    #T_383f3ee6_c188_11ea_8078_6c40088c216arow15_col4 {\n",
       "            background-color:  #d0e1f2;\n",
       "            color:  #000000;\n",
       "        }    #T_383f3ee6_c188_11ea_8078_6c40088c216arow15_col5 {\n",
       "            background-color:  #c6dbef;\n",
       "            color:  #000000;\n",
       "        }    #T_383f3ee6_c188_11ea_8078_6c40088c216arow15_col6 {\n",
       "            background-color:  #1966ad;\n",
       "            color:  #f1f1f1;\n",
       "        }    #T_383f3ee6_c188_11ea_8078_6c40088c216arow16_col0 {\n",
       "            background-color:  #e4eff9;\n",
       "            color:  #000000;\n",
       "        }    #T_383f3ee6_c188_11ea_8078_6c40088c216arow16_col1 {\n",
       "            background-color:  #dfecf7;\n",
       "            color:  #000000;\n",
       "        }    #T_383f3ee6_c188_11ea_8078_6c40088c216arow16_col2 {\n",
       "            background-color:  #cadef0;\n",
       "            color:  #000000;\n",
       "        }    #T_383f3ee6_c188_11ea_8078_6c40088c216arow16_col4 {\n",
       "            background-color:  #e3eef9;\n",
       "            color:  #000000;\n",
       "        }    #T_383f3ee6_c188_11ea_8078_6c40088c216arow16_col5 {\n",
       "            background-color:  #c6dbef;\n",
       "            color:  #000000;\n",
       "        }    #T_383f3ee6_c188_11ea_8078_6c40088c216arow16_col6 {\n",
       "            background-color:  #0e59a2;\n",
       "            color:  #f1f1f1;\n",
       "        }    #T_383f3ee6_c188_11ea_8078_6c40088c216arow17_col0 {\n",
       "            background-color:  #f1f7fd;\n",
       "            color:  #000000;\n",
       "        }    #T_383f3ee6_c188_11ea_8078_6c40088c216arow17_col1 {\n",
       "            background-color:  #dfecf7;\n",
       "            color:  #000000;\n",
       "        }    #T_383f3ee6_c188_11ea_8078_6c40088c216arow17_col2 {\n",
       "            background-color:  #dceaf6;\n",
       "            color:  #000000;\n",
       "        }    #T_383f3ee6_c188_11ea_8078_6c40088c216arow17_col4 {\n",
       "            background-color:  #e3eef9;\n",
       "            color:  #000000;\n",
       "        }    #T_383f3ee6_c188_11ea_8078_6c40088c216arow17_col5 {\n",
       "            background-color:  #e7f0fa;\n",
       "            color:  #000000;\n",
       "        }    #T_383f3ee6_c188_11ea_8078_6c40088c216arow17_col6 {\n",
       "            background-color:  #084b93;\n",
       "            color:  #f1f1f1;\n",
       "        }    #T_383f3ee6_c188_11ea_8078_6c40088c216arow18_col0 {\n",
       "            background-color:  #f7fbff;\n",
       "            color:  #000000;\n",
       "        }    #T_383f3ee6_c188_11ea_8078_6c40088c216arow18_col1 {\n",
       "            background-color:  #dfecf7;\n",
       "            color:  #000000;\n",
       "        }    #T_383f3ee6_c188_11ea_8078_6c40088c216arow18_col2 {\n",
       "            background-color:  #e5eff9;\n",
       "            color:  #000000;\n",
       "        }    #T_383f3ee6_c188_11ea_8078_6c40088c216arow18_col4 {\n",
       "            background-color:  #e3eef9;\n",
       "            color:  #000000;\n",
       "        }    #T_383f3ee6_c188_11ea_8078_6c40088c216arow18_col5 {\n",
       "            background-color:  #e7f0fa;\n",
       "            color:  #000000;\n",
       "        }    #T_383f3ee6_c188_11ea_8078_6c40088c216arow18_col6 {\n",
       "            background-color:  #083d7f;\n",
       "            color:  #f1f1f1;\n",
       "        }    #T_383f3ee6_c188_11ea_8078_6c40088c216arow19_col0 {\n",
       "            background-color:  #f7fbff;\n",
       "            color:  #000000;\n",
       "        }    #T_383f3ee6_c188_11ea_8078_6c40088c216arow19_col1 {\n",
       "            background-color:  #c9ddf0;\n",
       "            color:  #000000;\n",
       "        }    #T_383f3ee6_c188_11ea_8078_6c40088c216arow19_col2 {\n",
       "            background-color:  #f7fbff;\n",
       "            color:  #000000;\n",
       "        }    #T_383f3ee6_c188_11ea_8078_6c40088c216arow19_col4 {\n",
       "            background-color:  #d0e1f2;\n",
       "            color:  #000000;\n",
       "        }    #T_383f3ee6_c188_11ea_8078_6c40088c216arow19_col5 {\n",
       "            background-color:  #f7fbff;\n",
       "            color:  #000000;\n",
       "        }    #T_383f3ee6_c188_11ea_8078_6c40088c216arow19_col6 {\n",
       "            background-color:  #08306b;\n",
       "            color:  #f1f1f1;\n",
       "        }</style><table id=\"T_383f3ee6_c188_11ea_8078_6c40088c216a\" ><thead>    <tr>        <th class=\"blank level0\" ></th>        <th class=\"col_heading level0 col0\" >City</th>        <th class=\"col_heading level0 col1\" >Avg</th>        <th class=\"col_heading level0 col2\" >high_f</th>        <th class=\"col_heading level0 col3\" >low_f</th>        <th class=\"col_heading level0 col4\" >high_c</th>        <th class=\"col_heading level0 col5\" >low_c</th>        <th class=\"col_heading level0 col6\" >rank</th>    </tr></thead><tbody>\n",
       "                <tr>\n",
       "                        <th id=\"T_383f3ee6_c188_11ea_8078_6c40088c216alevel0_row0\" class=\"row_heading level0 row0\" >0</th>\n",
       "                        <td id=\"T_383f3ee6_c188_11ea_8078_6c40088c216arow0_col0\" class=\"data row0 col0\" >77.000000</td>\n",
       "                        <td id=\"T_383f3ee6_c188_11ea_8078_6c40088c216arow0_col1\" class=\"data row0 col1\" >84</td>\n",
       "                        <td id=\"T_383f3ee6_c188_11ea_8078_6c40088c216arow0_col2\" class=\"data row0 col2\" >70</td>\n",
       "                        <td id=\"T_383f3ee6_c188_11ea_8078_6c40088c216arow0_col3\" class=\"data row0 col3\" >Miami, Florida</td>\n",
       "                        <td id=\"T_383f3ee6_c188_11ea_8078_6c40088c216arow0_col4\" class=\"data row0 col4\" >29</td>\n",
       "                        <td id=\"T_383f3ee6_c188_11ea_8078_6c40088c216arow0_col5\" class=\"data row0 col5\" >21</td>\n",
       "                        <td id=\"T_383f3ee6_c188_11ea_8078_6c40088c216arow0_col6\" class=\"data row0 col6\" >0</td>\n",
       "            </tr>\n",
       "            <tr>\n",
       "                        <th id=\"T_383f3ee6_c188_11ea_8078_6c40088c216alevel0_row1\" class=\"row_heading level0 row1\" >1</th>\n",
       "                        <td id=\"T_383f3ee6_c188_11ea_8078_6c40088c216arow1_col0\" class=\"data row1 col0\" >75.000000</td>\n",
       "                        <td id=\"T_383f3ee6_c188_11ea_8078_6c40088c216arow1_col1\" class=\"data row1 col1\" >87</td>\n",
       "                        <td id=\"T_383f3ee6_c188_11ea_8078_6c40088c216arow1_col2\" class=\"data row1 col2\" >63</td>\n",
       "                        <td id=\"T_383f3ee6_c188_11ea_8078_6c40088c216arow1_col3\" class=\"data row1 col3\" >Phoenix, Arizona</td>\n",
       "                        <td id=\"T_383f3ee6_c188_11ea_8078_6c40088c216arow1_col4\" class=\"data row1 col4\" >31</td>\n",
       "                        <td id=\"T_383f3ee6_c188_11ea_8078_6c40088c216arow1_col5\" class=\"data row1 col5\" >17</td>\n",
       "                        <td id=\"T_383f3ee6_c188_11ea_8078_6c40088c216arow1_col6\" class=\"data row1 col6\" >1</td>\n",
       "            </tr>\n",
       "            <tr>\n",
       "                        <th id=\"T_383f3ee6_c188_11ea_8078_6c40088c216alevel0_row2\" class=\"row_heading level0 row2\" >2</th>\n",
       "                        <td id=\"T_383f3ee6_c188_11ea_8078_6c40088c216arow2_col0\" class=\"data row2 col0\" >73.500000</td>\n",
       "                        <td id=\"T_383f3ee6_c188_11ea_8078_6c40088c216arow2_col1\" class=\"data row2 col1\" >82</td>\n",
       "                        <td id=\"T_383f3ee6_c188_11ea_8078_6c40088c216arow2_col2\" class=\"data row2 col2\" >65</td>\n",
       "                        <td id=\"T_383f3ee6_c188_11ea_8078_6c40088c216arow2_col3\" class=\"data row2 col3\" >Tampa, Florida</td>\n",
       "                        <td id=\"T_383f3ee6_c188_11ea_8078_6c40088c216arow2_col4\" class=\"data row2 col4\" >28</td>\n",
       "                        <td id=\"T_383f3ee6_c188_11ea_8078_6c40088c216arow2_col5\" class=\"data row2 col5\" >18</td>\n",
       "                        <td id=\"T_383f3ee6_c188_11ea_8078_6c40088c216arow2_col6\" class=\"data row2 col6\" >2</td>\n",
       "            </tr>\n",
       "            <tr>\n",
       "                        <th id=\"T_383f3ee6_c188_11ea_8078_6c40088c216alevel0_row3\" class=\"row_heading level0 row3\" >3</th>\n",
       "                        <td id=\"T_383f3ee6_c188_11ea_8078_6c40088c216arow3_col0\" class=\"data row3 col0\" >73.000000</td>\n",
       "                        <td id=\"T_383f3ee6_c188_11ea_8078_6c40088c216arow3_col1\" class=\"data row3 col1\" >83</td>\n",
       "                        <td id=\"T_383f3ee6_c188_11ea_8078_6c40088c216arow3_col2\" class=\"data row3 col2\" >63</td>\n",
       "                        <td id=\"T_383f3ee6_c188_11ea_8078_6c40088c216arow3_col3\" class=\"data row3 col3\" >Orlando, Florida</td>\n",
       "                        <td id=\"T_383f3ee6_c188_11ea_8078_6c40088c216arow3_col4\" class=\"data row3 col4\" >28</td>\n",
       "                        <td id=\"T_383f3ee6_c188_11ea_8078_6c40088c216arow3_col5\" class=\"data row3 col5\" >17</td>\n",
       "                        <td id=\"T_383f3ee6_c188_11ea_8078_6c40088c216arow3_col6\" class=\"data row3 col6\" >3</td>\n",
       "            </tr>\n",
       "            <tr>\n",
       "                        <th id=\"T_383f3ee6_c188_11ea_8078_6c40088c216alevel0_row4\" class=\"row_heading level0 row4\" >4</th>\n",
       "                        <td id=\"T_383f3ee6_c188_11ea_8078_6c40088c216arow4_col0\" class=\"data row4 col0\" >70.000000</td>\n",
       "                        <td id=\"T_383f3ee6_c188_11ea_8078_6c40088c216arow4_col1\" class=\"data row4 col1\" >80</td>\n",
       "                        <td id=\"T_383f3ee6_c188_11ea_8078_6c40088c216arow4_col2\" class=\"data row4 col2\" >60</td>\n",
       "                        <td id=\"T_383f3ee6_c188_11ea_8078_6c40088c216arow4_col3\" class=\"data row4 col3\" >Houston, Texas</td>\n",
       "                        <td id=\"T_383f3ee6_c188_11ea_8078_6c40088c216arow4_col4\" class=\"data row4 col4\" >27</td>\n",
       "                        <td id=\"T_383f3ee6_c188_11ea_8078_6c40088c216arow4_col5\" class=\"data row4 col5\" >16</td>\n",
       "                        <td id=\"T_383f3ee6_c188_11ea_8078_6c40088c216arow4_col6\" class=\"data row4 col6\" >4</td>\n",
       "            </tr>\n",
       "            <tr>\n",
       "                        <th id=\"T_383f3ee6_c188_11ea_8078_6c40088c216alevel0_row5\" class=\"row_heading level0 row5\" >5</th>\n",
       "                        <td id=\"T_383f3ee6_c188_11ea_8078_6c40088c216arow5_col0\" class=\"data row5 col0\" >69.500000</td>\n",
       "                        <td id=\"T_383f3ee6_c188_11ea_8078_6c40088c216arow5_col1\" class=\"data row5 col1\" >80</td>\n",
       "                        <td id=\"T_383f3ee6_c188_11ea_8078_6c40088c216arow5_col2\" class=\"data row5 col2\" >59</td>\n",
       "                        <td id=\"T_383f3ee6_c188_11ea_8078_6c40088c216arow5_col3\" class=\"data row5 col3\" >Austin, Texas</td>\n",
       "                        <td id=\"T_383f3ee6_c188_11ea_8078_6c40088c216arow5_col4\" class=\"data row5 col4\" >27</td>\n",
       "                        <td id=\"T_383f3ee6_c188_11ea_8078_6c40088c216arow5_col5\" class=\"data row5 col5\" >15</td>\n",
       "                        <td id=\"T_383f3ee6_c188_11ea_8078_6c40088c216arow5_col6\" class=\"data row5 col6\" >5</td>\n",
       "            </tr>\n",
       "            <tr>\n",
       "                        <th id=\"T_383f3ee6_c188_11ea_8078_6c40088c216alevel0_row6\" class=\"row_heading level0 row6\" >6</th>\n",
       "                        <td id=\"T_383f3ee6_c188_11ea_8078_6c40088c216arow6_col0\" class=\"data row6 col0\" >69.500000</td>\n",
       "                        <td id=\"T_383f3ee6_c188_11ea_8078_6c40088c216arow6_col1\" class=\"data row6 col1\" >80</td>\n",
       "                        <td id=\"T_383f3ee6_c188_11ea_8078_6c40088c216arow6_col2\" class=\"data row6 col2\" >59</td>\n",
       "                        <td id=\"T_383f3ee6_c188_11ea_8078_6c40088c216arow6_col3\" class=\"data row6 col3\" >Las Vegas, Nevada</td>\n",
       "                        <td id=\"T_383f3ee6_c188_11ea_8078_6c40088c216arow6_col4\" class=\"data row6 col4\" >27</td>\n",
       "                        <td id=\"T_383f3ee6_c188_11ea_8078_6c40088c216arow6_col5\" class=\"data row6 col5\" >15</td>\n",
       "                        <td id=\"T_383f3ee6_c188_11ea_8078_6c40088c216arow6_col6\" class=\"data row6 col6\" >6</td>\n",
       "            </tr>\n",
       "            <tr>\n",
       "                        <th id=\"T_383f3ee6_c188_11ea_8078_6c40088c216alevel0_row7\" class=\"row_heading level0 row7\" >7</th>\n",
       "                        <td id=\"T_383f3ee6_c188_11ea_8078_6c40088c216arow7_col0\" class=\"data row7 col0\" >69.500000</td>\n",
       "                        <td id=\"T_383f3ee6_c188_11ea_8078_6c40088c216arow7_col1\" class=\"data row7 col1\" >78</td>\n",
       "                        <td id=\"T_383f3ee6_c188_11ea_8078_6c40088c216arow7_col2\" class=\"data row7 col2\" >61</td>\n",
       "                        <td id=\"T_383f3ee6_c188_11ea_8078_6c40088c216arow7_col3\" class=\"data row7 col3\" >New Orleans, Louisiana</td>\n",
       "                        <td id=\"T_383f3ee6_c188_11ea_8078_6c40088c216arow7_col4\" class=\"data row7 col4\" >26</td>\n",
       "                        <td id=\"T_383f3ee6_c188_11ea_8078_6c40088c216arow7_col5\" class=\"data row7 col5\" >16</td>\n",
       "                        <td id=\"T_383f3ee6_c188_11ea_8078_6c40088c216arow7_col6\" class=\"data row7 col6\" >7</td>\n",
       "            </tr>\n",
       "            <tr>\n",
       "                        <th id=\"T_383f3ee6_c188_11ea_8078_6c40088c216alevel0_row8\" class=\"row_heading level0 row8\" >8</th>\n",
       "                        <td id=\"T_383f3ee6_c188_11ea_8078_6c40088c216arow8_col0\" class=\"data row8 col0\" >69.500000</td>\n",
       "                        <td id=\"T_383f3ee6_c188_11ea_8078_6c40088c216arow8_col1\" class=\"data row8 col1\" >80</td>\n",
       "                        <td id=\"T_383f3ee6_c188_11ea_8078_6c40088c216arow8_col2\" class=\"data row8 col2\" >59</td>\n",
       "                        <td id=\"T_383f3ee6_c188_11ea_8078_6c40088c216arow8_col3\" class=\"data row8 col3\" >San Antonio, Texas</td>\n",
       "                        <td id=\"T_383f3ee6_c188_11ea_8078_6c40088c216arow8_col4\" class=\"data row8 col4\" >27</td>\n",
       "                        <td id=\"T_383f3ee6_c188_11ea_8078_6c40088c216arow8_col5\" class=\"data row8 col5\" >15</td>\n",
       "                        <td id=\"T_383f3ee6_c188_11ea_8078_6c40088c216arow8_col6\" class=\"data row8 col6\" >8</td>\n",
       "            </tr>\n",
       "            <tr>\n",
       "                        <th id=\"T_383f3ee6_c188_11ea_8078_6c40088c216alevel0_row9\" class=\"row_heading level0 row9\" >9</th>\n",
       "                        <td id=\"T_383f3ee6_c188_11ea_8078_6c40088c216arow9_col0\" class=\"data row9 col0\" >68.500000</td>\n",
       "                        <td id=\"T_383f3ee6_c188_11ea_8078_6c40088c216arow9_col1\" class=\"data row9 col1\" >79</td>\n",
       "                        <td id=\"T_383f3ee6_c188_11ea_8078_6c40088c216arow9_col2\" class=\"data row9 col2\" >58</td>\n",
       "                        <td id=\"T_383f3ee6_c188_11ea_8078_6c40088c216arow9_col3\" class=\"data row9 col3\" >Jacksonville, Florida</td>\n",
       "                        <td id=\"T_383f3ee6_c188_11ea_8078_6c40088c216arow9_col4\" class=\"data row9 col4\" >26</td>\n",
       "                        <td id=\"T_383f3ee6_c188_11ea_8078_6c40088c216arow9_col5\" class=\"data row9 col5\" >14</td>\n",
       "                        <td id=\"T_383f3ee6_c188_11ea_8078_6c40088c216arow9_col6\" class=\"data row9 col6\" >9</td>\n",
       "            </tr>\n",
       "            <tr>\n",
       "                        <th id=\"T_383f3ee6_c188_11ea_8078_6c40088c216alevel0_row10\" class=\"row_heading level0 row10\" >10</th>\n",
       "                        <td id=\"T_383f3ee6_c188_11ea_8078_6c40088c216arow10_col0\" class=\"data row10 col0\" >67.000000</td>\n",
       "                        <td id=\"T_383f3ee6_c188_11ea_8078_6c40088c216arow10_col1\" class=\"data row10 col1\" >77</td>\n",
       "                        <td id=\"T_383f3ee6_c188_11ea_8078_6c40088c216arow10_col2\" class=\"data row10 col2\" >57</td>\n",
       "                        <td id=\"T_383f3ee6_c188_11ea_8078_6c40088c216arow10_col3\" class=\"data row10 col3\" >Dallas, Texas</td>\n",
       "                        <td id=\"T_383f3ee6_c188_11ea_8078_6c40088c216arow10_col4\" class=\"data row10 col4\" >25</td>\n",
       "                        <td id=\"T_383f3ee6_c188_11ea_8078_6c40088c216arow10_col5\" class=\"data row10 col5\" >14</td>\n",
       "                        <td id=\"T_383f3ee6_c188_11ea_8078_6c40088c216arow10_col6\" class=\"data row10 col6\" >10</td>\n",
       "            </tr>\n",
       "            <tr>\n",
       "                        <th id=\"T_383f3ee6_c188_11ea_8078_6c40088c216alevel0_row11\" class=\"row_heading level0 row11\" >11</th>\n",
       "                        <td id=\"T_383f3ee6_c188_11ea_8078_6c40088c216arow11_col0\" class=\"data row11 col0\" >67.000000</td>\n",
       "                        <td id=\"T_383f3ee6_c188_11ea_8078_6c40088c216arow11_col1\" class=\"data row11 col1\" >81</td>\n",
       "                        <td id=\"T_383f3ee6_c188_11ea_8078_6c40088c216arow11_col2\" class=\"data row11 col2\" >53</td>\n",
       "                        <td id=\"T_383f3ee6_c188_11ea_8078_6c40088c216arow11_col3\" class=\"data row11 col3\" >Riverside, California</td>\n",
       "                        <td id=\"T_383f3ee6_c188_11ea_8078_6c40088c216arow11_col4\" class=\"data row11 col4\" >27</td>\n",
       "                        <td id=\"T_383f3ee6_c188_11ea_8078_6c40088c216arow11_col5\" class=\"data row11 col5\" >11</td>\n",
       "                        <td id=\"T_383f3ee6_c188_11ea_8078_6c40088c216arow11_col6\" class=\"data row11 col6\" >11</td>\n",
       "            </tr>\n",
       "            <tr>\n",
       "                        <th id=\"T_383f3ee6_c188_11ea_8078_6c40088c216alevel0_row12\" class=\"row_heading level0 row12\" >12</th>\n",
       "                        <td id=\"T_383f3ee6_c188_11ea_8078_6c40088c216arow12_col0\" class=\"data row12 col0\" >65.500000</td>\n",
       "                        <td id=\"T_383f3ee6_c188_11ea_8078_6c40088c216arow12_col1\" class=\"data row12 col1\" >75</td>\n",
       "                        <td id=\"T_383f3ee6_c188_11ea_8078_6c40088c216arow12_col2\" class=\"data row12 col2\" >56</td>\n",
       "                        <td id=\"T_383f3ee6_c188_11ea_8078_6c40088c216arow12_col3\" class=\"data row12 col3\" >Los Angeles, California</td>\n",
       "                        <td id=\"T_383f3ee6_c188_11ea_8078_6c40088c216arow12_col4\" class=\"data row12 col4\" >24</td>\n",
       "                        <td id=\"T_383f3ee6_c188_11ea_8078_6c40088c216arow12_col5\" class=\"data row12 col5\" >13</td>\n",
       "                        <td id=\"T_383f3ee6_c188_11ea_8078_6c40088c216arow12_col6\" class=\"data row12 col6\" >12</td>\n",
       "            </tr>\n",
       "            <tr>\n",
       "                        <th id=\"T_383f3ee6_c188_11ea_8078_6c40088c216alevel0_row13\" class=\"row_heading level0 row13\" >13</th>\n",
       "                        <td id=\"T_383f3ee6_c188_11ea_8078_6c40088c216arow13_col0\" class=\"data row13 col0\" >64.000000</td>\n",
       "                        <td id=\"T_383f3ee6_c188_11ea_8078_6c40088c216arow13_col1\" class=\"data row13 col1\" >70</td>\n",
       "                        <td id=\"T_383f3ee6_c188_11ea_8078_6c40088c216arow13_col2\" class=\"data row13 col2\" >58</td>\n",
       "                        <td id=\"T_383f3ee6_c188_11ea_8078_6c40088c216arow13_col3\" class=\"data row13 col3\" >San Diego, California</td>\n",
       "                        <td id=\"T_383f3ee6_c188_11ea_8078_6c40088c216arow13_col4\" class=\"data row13 col4\" >21</td>\n",
       "                        <td id=\"T_383f3ee6_c188_11ea_8078_6c40088c216arow13_col5\" class=\"data row13 col5\" >14</td>\n",
       "                        <td id=\"T_383f3ee6_c188_11ea_8078_6c40088c216arow13_col6\" class=\"data row13 col6\" >13</td>\n",
       "            </tr>\n",
       "            <tr>\n",
       "                        <th id=\"T_383f3ee6_c188_11ea_8078_6c40088c216alevel0_row14\" class=\"row_heading level0 row14\" >14</th>\n",
       "                        <td id=\"T_383f3ee6_c188_11ea_8078_6c40088c216arow14_col0\" class=\"data row14 col0\" >63.500000</td>\n",
       "                        <td id=\"T_383f3ee6_c188_11ea_8078_6c40088c216arow14_col1\" class=\"data row14 col1\" >74</td>\n",
       "                        <td id=\"T_383f3ee6_c188_11ea_8078_6c40088c216arow14_col2\" class=\"data row14 col2\" >53</td>\n",
       "                        <td id=\"T_383f3ee6_c188_11ea_8078_6c40088c216arow14_col3\" class=\"data row14 col3\" >Birmingham, Alabama</td>\n",
       "                        <td id=\"T_383f3ee6_c188_11ea_8078_6c40088c216arow14_col4\" class=\"data row14 col4\" >23</td>\n",
       "                        <td id=\"T_383f3ee6_c188_11ea_8078_6c40088c216arow14_col5\" class=\"data row14 col5\" >12</td>\n",
       "                        <td id=\"T_383f3ee6_c188_11ea_8078_6c40088c216arow14_col6\" class=\"data row14 col6\" >14</td>\n",
       "            </tr>\n",
       "            <tr>\n",
       "                        <th id=\"T_383f3ee6_c188_11ea_8078_6c40088c216alevel0_row15\" class=\"row_heading level0 row15\" >15</th>\n",
       "                        <td id=\"T_383f3ee6_c188_11ea_8078_6c40088c216arow15_col0\" class=\"data row15 col0\" >63.500000</td>\n",
       "                        <td id=\"T_383f3ee6_c188_11ea_8078_6c40088c216arow15_col1\" class=\"data row15 col1\" >73</td>\n",
       "                        <td id=\"T_383f3ee6_c188_11ea_8078_6c40088c216arow15_col2\" class=\"data row15 col2\" >54</td>\n",
       "                        <td id=\"T_383f3ee6_c188_11ea_8078_6c40088c216arow15_col3\" class=\"data row15 col3\" >Memphis, Tennessee</td>\n",
       "                        <td id=\"T_383f3ee6_c188_11ea_8078_6c40088c216arow15_col4\" class=\"data row15 col4\" >23</td>\n",
       "                        <td id=\"T_383f3ee6_c188_11ea_8078_6c40088c216arow15_col5\" class=\"data row15 col5\" >12</td>\n",
       "                        <td id=\"T_383f3ee6_c188_11ea_8078_6c40088c216arow15_col6\" class=\"data row15 col6\" >15</td>\n",
       "            </tr>\n",
       "            <tr>\n",
       "                        <th id=\"T_383f3ee6_c188_11ea_8078_6c40088c216alevel0_row16\" class=\"row_heading level0 row16\" >16</th>\n",
       "                        <td id=\"T_383f3ee6_c188_11ea_8078_6c40088c216arow16_col0\" class=\"data row16 col0\" >62.500000</td>\n",
       "                        <td id=\"T_383f3ee6_c188_11ea_8078_6c40088c216arow16_col1\" class=\"data row16 col1\" >72</td>\n",
       "                        <td id=\"T_383f3ee6_c188_11ea_8078_6c40088c216arow16_col2\" class=\"data row16 col2\" >53</td>\n",
       "                        <td id=\"T_383f3ee6_c188_11ea_8078_6c40088c216arow16_col3\" class=\"data row16 col3\" >Atlanta, Georgia</td>\n",
       "                        <td id=\"T_383f3ee6_c188_11ea_8078_6c40088c216arow16_col4\" class=\"data row16 col4\" >22</td>\n",
       "                        <td id=\"T_383f3ee6_c188_11ea_8078_6c40088c216arow16_col5\" class=\"data row16 col5\" >12</td>\n",
       "                        <td id=\"T_383f3ee6_c188_11ea_8078_6c40088c216arow16_col6\" class=\"data row16 col6\" >16</td>\n",
       "            </tr>\n",
       "            <tr>\n",
       "                        <th id=\"T_383f3ee6_c188_11ea_8078_6c40088c216alevel0_row17\" class=\"row_heading level0 row17\" >17</th>\n",
       "                        <td id=\"T_383f3ee6_c188_11ea_8078_6c40088c216arow17_col0\" class=\"data row17 col0\" >61.500000</td>\n",
       "                        <td id=\"T_383f3ee6_c188_11ea_8078_6c40088c216arow17_col1\" class=\"data row17 col1\" >72</td>\n",
       "                        <td id=\"T_383f3ee6_c188_11ea_8078_6c40088c216arow17_col2\" class=\"data row17 col2\" >51</td>\n",
       "                        <td id=\"T_383f3ee6_c188_11ea_8078_6c40088c216arow17_col3\" class=\"data row17 col3\" >Oklahoma City, Oklahoma</td>\n",
       "                        <td id=\"T_383f3ee6_c188_11ea_8078_6c40088c216arow17_col4\" class=\"data row17 col4\" >22</td>\n",
       "                        <td id=\"T_383f3ee6_c188_11ea_8078_6c40088c216arow17_col5\" class=\"data row17 col5\" >10</td>\n",
       "                        <td id=\"T_383f3ee6_c188_11ea_8078_6c40088c216arow17_col6\" class=\"data row17 col6\" >17</td>\n",
       "            </tr>\n",
       "            <tr>\n",
       "                        <th id=\"T_383f3ee6_c188_11ea_8078_6c40088c216alevel0_row18\" class=\"row_heading level0 row18\" >18</th>\n",
       "                        <td id=\"T_383f3ee6_c188_11ea_8078_6c40088c216arow18_col0\" class=\"data row18 col0\" >61.000000</td>\n",
       "                        <td id=\"T_383f3ee6_c188_11ea_8078_6c40088c216arow18_col1\" class=\"data row18 col1\" >72</td>\n",
       "                        <td id=\"T_383f3ee6_c188_11ea_8078_6c40088c216arow18_col2\" class=\"data row18 col2\" >50</td>\n",
       "                        <td id=\"T_383f3ee6_c188_11ea_8078_6c40088c216arow18_col3\" class=\"data row18 col3\" >Raleigh, North Carolina</td>\n",
       "                        <td id=\"T_383f3ee6_c188_11ea_8078_6c40088c216arow18_col4\" class=\"data row18 col4\" >22</td>\n",
       "                        <td id=\"T_383f3ee6_c188_11ea_8078_6c40088c216arow18_col5\" class=\"data row18 col5\" >10</td>\n",
       "                        <td id=\"T_383f3ee6_c188_11ea_8078_6c40088c216arow18_col6\" class=\"data row18 col6\" >18</td>\n",
       "            </tr>\n",
       "            <tr>\n",
       "                        <th id=\"T_383f3ee6_c188_11ea_8078_6c40088c216alevel0_row19\" class=\"row_heading level0 row19\" >19</th>\n",
       "                        <td id=\"T_383f3ee6_c188_11ea_8078_6c40088c216arow19_col0\" class=\"data row19 col0\" >61.000000</td>\n",
       "                        <td id=\"T_383f3ee6_c188_11ea_8078_6c40088c216arow19_col1\" class=\"data row19 col1\" >74</td>\n",
       "                        <td id=\"T_383f3ee6_c188_11ea_8078_6c40088c216arow19_col2\" class=\"data row19 col2\" >48</td>\n",
       "                        <td id=\"T_383f3ee6_c188_11ea_8078_6c40088c216arow19_col3\" class=\"data row19 col3\" >Sacramento, California</td>\n",
       "                        <td id=\"T_383f3ee6_c188_11ea_8078_6c40088c216arow19_col4\" class=\"data row19 col4\" >23</td>\n",
       "                        <td id=\"T_383f3ee6_c188_11ea_8078_6c40088c216arow19_col5\" class=\"data row19 col5\" >9</td>\n",
       "                        <td id=\"T_383f3ee6_c188_11ea_8078_6c40088c216arow19_col6\" class=\"data row19 col6\" >19</td>\n",
       "            </tr>\n",
       "    </tbody></table>"
      ],
      "text/plain": [
       "<pandas.io.formats.style.Styler at 0x123a56400>"
      ]
     },
     "execution_count": 34,
     "metadata": {},
     "output_type": "execute_result"
    }
   ],
   "source": [
    "temperature['rank'] = temperature.index\n",
    "temperature.head(20).style.bar(color=\"teal\")\n",
    "temperature.head(20).style.background_gradient(cmap='Blues')"
   ]
  },
  {
   "cell_type": "code",
   "execution_count": 134,
   "metadata": {},
   "outputs": [
    {
     "data": {
      "application/vnd.plotly.v1+json": {
       "config": {
        "plotlyServerURL": "https://plot.ly"
       },
       "data": [
        {
         "dimensions": [
          {
           "axis": {
            "matches": true
           },
           "label": "City",
           "values": [
            77,
            75,
            73.5,
            73,
            70,
            69.5,
            69.5,
            69.5,
            69.5,
            68.5,
            67,
            67,
            65.5,
            64,
            63.5,
            63.5,
            62.5,
            61.5,
            61,
            61,
            60.5,
            60,
            60,
            59.5,
            59,
            58.5,
            58.5,
            57.5,
            57,
            57,
            56,
            55,
            55,
            54,
            54,
            53.5,
            53.5,
            53.5,
            53,
            52,
            51.5,
            51.5,
            51.5,
            50.5,
            50.5,
            50,
            50,
            48,
            48,
            48,
            46
           ]
          },
          {
           "axis": {
            "matches": true
           },
           "label": "Avg",
           "values": [
            84,
            87,
            82,
            83,
            80,
            80,
            80,
            78,
            80,
            79,
            77,
            81,
            75,
            70,
            74,
            73,
            72,
            72,
            72,
            74,
            71,
            71,
            68,
            70,
            70,
            68,
            67,
            64,
            66,
            66,
            65,
            65,
            62,
            65,
            63,
            63,
            63,
            61,
            64,
            61,
            59,
            60,
            61,
            59,
            61,
            59,
            64,
            56,
            56,
            57,
            55
           ]
          },
          {
           "axis": {
            "matches": true
           },
           "label": "high_f",
           "values": [
            70,
            63,
            65,
            63,
            60,
            59,
            59,
            61,
            59,
            58,
            57,
            53,
            56,
            58,
            53,
            54,
            53,
            51,
            50,
            48,
            50,
            49,
            52,
            49,
            48,
            49,
            50,
            51,
            48,
            48,
            47,
            45,
            48,
            43,
            45,
            44,
            44,
            46,
            42,
            43,
            44,
            43,
            42,
            42,
            40,
            41,
            36,
            40,
            40,
            39,
            37
           ]
          },
          {
           "axis": {
            "matches": true
           },
           "label": "low_f",
           "values": [
            "Miami, Florida",
            "Phoenix, Arizona",
            "Tampa, Florida",
            "Orlando, Florida",
            "Houston, Texas",
            "Austin, Texas",
            "Las Vegas, Nevada",
            "New Orleans, Louisiana",
            "San Antonio, Texas",
            "Jacksonville, Florida",
            "Dallas, Texas",
            "Riverside, California",
            "Los Angeles, California",
            "San Diego, California",
            "Birmingham, Alabama",
            "Memphis, Tennessee",
            "Atlanta, Georgia",
            "Oklahoma City, Oklahoma",
            "Raleigh, North Carolina",
            "Sacramento, California",
            "San Jose, California",
            "Charlotte, North Carolina",
            "Virginia Beach, Virginia",
            "Nashville, Tennessee",
            "Richmond, Virginia",
            "Louisville, Kentucky",
            "Washington, DC",
            "San Francisco, California",
            "Kansas City, Missouri",
            "St. Louis, Missouri",
            "Philadelphia, Pennsylvania",
            "Baltimore, Maryland",
            "New York, New York",
            "Cincinnati, Ohio",
            "Portland, Oregon",
            "Columbus, Ohio",
            "Indianapolis, Indiana",
            "Seattle, Washington",
            "Salt Lake City, Utah",
            "Providence, Rhode Island",
            "Boston, Massachusetts",
            "Cleveland, Ohio",
            "Pittsburgh, Pennsylvania",
            "Detroit, Michigan",
            "Hartford, Connecticut",
            "Chicago, Illinois",
            "Denver, Colorado",
            "Buffalo, New York",
            "Milwaukee, Wisconsin",
            "Rochester, New York",
            "Minneapolis, Minnesota"
           ]
          }
         ],
         "hovertemplate": "%{xaxis.title.text}=%{x}<br>%{yaxis.title.text}=%{y}<br>City=%{marker.color}<extra></extra>",
         "legendgroup": "",
         "marker": {
          "color": [
           77,
           75,
           73.5,
           73,
           70,
           69.5,
           69.5,
           69.5,
           69.5,
           68.5,
           67,
           67,
           65.5,
           64,
           63.5,
           63.5,
           62.5,
           61.5,
           61,
           61,
           60.5,
           60,
           60,
           59.5,
           59,
           58.5,
           58.5,
           57.5,
           57,
           57,
           56,
           55,
           55,
           54,
           54,
           53.5,
           53.5,
           53.5,
           53,
           52,
           51.5,
           51.5,
           51.5,
           50.5,
           50.5,
           50,
           50,
           48,
           48,
           48,
           46
          ],
          "coloraxis": "coloraxis",
          "symbol": "circle"
         },
         "name": "",
         "showlegend": false,
         "type": "splom"
        }
       ],
       "layout": {
        "coloraxis": {
         "colorbar": {
          "title": {
           "text": "City"
          }
         },
         "colorscale": [
          [
           0,
           "rgb(214, 249, 207)"
          ],
          [
           0.09090909090909091,
           "rgb(186, 228, 174)"
          ],
          [
           0.18181818181818182,
           "rgb(156, 209, 143)"
          ],
          [
           0.2727272727272727,
           "rgb(124, 191, 115)"
          ],
          [
           0.36363636363636365,
           "rgb(85, 174, 91)"
          ],
          [
           0.45454545454545453,
           "rgb(37, 157, 81)"
          ],
          [
           0.5454545454545454,
           "rgb(7, 138, 78)"
          ],
          [
           0.6363636363636364,
           "rgb(13, 117, 71)"
          ],
          [
           0.7272727272727273,
           "rgb(23, 95, 61)"
          ],
          [
           0.8181818181818182,
           "rgb(25, 75, 49)"
          ],
          [
           0.9090909090909091,
           "rgb(23, 55, 35)"
          ],
          [
           1,
           "rgb(17, 36, 20)"
          ]
         ]
        },
        "dragmode": "select",
        "height": 700,
        "legend": {
         "tracegroupgap": 0
        },
        "margin": {
         "t": 60
        },
        "template": {
         "data": {
          "bar": [
           {
            "error_x": {
             "color": "#2a3f5f"
            },
            "error_y": {
             "color": "#2a3f5f"
            },
            "marker": {
             "line": {
              "color": "#E5ECF6",
              "width": 0.5
             }
            },
            "type": "bar"
           }
          ],
          "barpolar": [
           {
            "marker": {
             "line": {
              "color": "#E5ECF6",
              "width": 0.5
             }
            },
            "type": "barpolar"
           }
          ],
          "carpet": [
           {
            "aaxis": {
             "endlinecolor": "#2a3f5f",
             "gridcolor": "white",
             "linecolor": "white",
             "minorgridcolor": "white",
             "startlinecolor": "#2a3f5f"
            },
            "baxis": {
             "endlinecolor": "#2a3f5f",
             "gridcolor": "white",
             "linecolor": "white",
             "minorgridcolor": "white",
             "startlinecolor": "#2a3f5f"
            },
            "type": "carpet"
           }
          ],
          "choropleth": [
           {
            "colorbar": {
             "outlinewidth": 0,
             "ticks": ""
            },
            "type": "choropleth"
           }
          ],
          "contour": [
           {
            "colorbar": {
             "outlinewidth": 0,
             "ticks": ""
            },
            "colorscale": [
             [
              0,
              "#0d0887"
             ],
             [
              0.1111111111111111,
              "#46039f"
             ],
             [
              0.2222222222222222,
              "#7201a8"
             ],
             [
              0.3333333333333333,
              "#9c179e"
             ],
             [
              0.4444444444444444,
              "#bd3786"
             ],
             [
              0.5555555555555556,
              "#d8576b"
             ],
             [
              0.6666666666666666,
              "#ed7953"
             ],
             [
              0.7777777777777778,
              "#fb9f3a"
             ],
             [
              0.8888888888888888,
              "#fdca26"
             ],
             [
              1,
              "#f0f921"
             ]
            ],
            "type": "contour"
           }
          ],
          "contourcarpet": [
           {
            "colorbar": {
             "outlinewidth": 0,
             "ticks": ""
            },
            "type": "contourcarpet"
           }
          ],
          "heatmap": [
           {
            "colorbar": {
             "outlinewidth": 0,
             "ticks": ""
            },
            "colorscale": [
             [
              0,
              "#0d0887"
             ],
             [
              0.1111111111111111,
              "#46039f"
             ],
             [
              0.2222222222222222,
              "#7201a8"
             ],
             [
              0.3333333333333333,
              "#9c179e"
             ],
             [
              0.4444444444444444,
              "#bd3786"
             ],
             [
              0.5555555555555556,
              "#d8576b"
             ],
             [
              0.6666666666666666,
              "#ed7953"
             ],
             [
              0.7777777777777778,
              "#fb9f3a"
             ],
             [
              0.8888888888888888,
              "#fdca26"
             ],
             [
              1,
              "#f0f921"
             ]
            ],
            "type": "heatmap"
           }
          ],
          "heatmapgl": [
           {
            "colorbar": {
             "outlinewidth": 0,
             "ticks": ""
            },
            "colorscale": [
             [
              0,
              "#0d0887"
             ],
             [
              0.1111111111111111,
              "#46039f"
             ],
             [
              0.2222222222222222,
              "#7201a8"
             ],
             [
              0.3333333333333333,
              "#9c179e"
             ],
             [
              0.4444444444444444,
              "#bd3786"
             ],
             [
              0.5555555555555556,
              "#d8576b"
             ],
             [
              0.6666666666666666,
              "#ed7953"
             ],
             [
              0.7777777777777778,
              "#fb9f3a"
             ],
             [
              0.8888888888888888,
              "#fdca26"
             ],
             [
              1,
              "#f0f921"
             ]
            ],
            "type": "heatmapgl"
           }
          ],
          "histogram": [
           {
            "marker": {
             "colorbar": {
              "outlinewidth": 0,
              "ticks": ""
             }
            },
            "type": "histogram"
           }
          ],
          "histogram2d": [
           {
            "colorbar": {
             "outlinewidth": 0,
             "ticks": ""
            },
            "colorscale": [
             [
              0,
              "#0d0887"
             ],
             [
              0.1111111111111111,
              "#46039f"
             ],
             [
              0.2222222222222222,
              "#7201a8"
             ],
             [
              0.3333333333333333,
              "#9c179e"
             ],
             [
              0.4444444444444444,
              "#bd3786"
             ],
             [
              0.5555555555555556,
              "#d8576b"
             ],
             [
              0.6666666666666666,
              "#ed7953"
             ],
             [
              0.7777777777777778,
              "#fb9f3a"
             ],
             [
              0.8888888888888888,
              "#fdca26"
             ],
             [
              1,
              "#f0f921"
             ]
            ],
            "type": "histogram2d"
           }
          ],
          "histogram2dcontour": [
           {
            "colorbar": {
             "outlinewidth": 0,
             "ticks": ""
            },
            "colorscale": [
             [
              0,
              "#0d0887"
             ],
             [
              0.1111111111111111,
              "#46039f"
             ],
             [
              0.2222222222222222,
              "#7201a8"
             ],
             [
              0.3333333333333333,
              "#9c179e"
             ],
             [
              0.4444444444444444,
              "#bd3786"
             ],
             [
              0.5555555555555556,
              "#d8576b"
             ],
             [
              0.6666666666666666,
              "#ed7953"
             ],
             [
              0.7777777777777778,
              "#fb9f3a"
             ],
             [
              0.8888888888888888,
              "#fdca26"
             ],
             [
              1,
              "#f0f921"
             ]
            ],
            "type": "histogram2dcontour"
           }
          ],
          "mesh3d": [
           {
            "colorbar": {
             "outlinewidth": 0,
             "ticks": ""
            },
            "type": "mesh3d"
           }
          ],
          "parcoords": [
           {
            "line": {
             "colorbar": {
              "outlinewidth": 0,
              "ticks": ""
             }
            },
            "type": "parcoords"
           }
          ],
          "pie": [
           {
            "automargin": true,
            "type": "pie"
           }
          ],
          "scatter": [
           {
            "marker": {
             "colorbar": {
              "outlinewidth": 0,
              "ticks": ""
             }
            },
            "type": "scatter"
           }
          ],
          "scatter3d": [
           {
            "line": {
             "colorbar": {
              "outlinewidth": 0,
              "ticks": ""
             }
            },
            "marker": {
             "colorbar": {
              "outlinewidth": 0,
              "ticks": ""
             }
            },
            "type": "scatter3d"
           }
          ],
          "scattercarpet": [
           {
            "marker": {
             "colorbar": {
              "outlinewidth": 0,
              "ticks": ""
             }
            },
            "type": "scattercarpet"
           }
          ],
          "scattergeo": [
           {
            "marker": {
             "colorbar": {
              "outlinewidth": 0,
              "ticks": ""
             }
            },
            "type": "scattergeo"
           }
          ],
          "scattergl": [
           {
            "marker": {
             "colorbar": {
              "outlinewidth": 0,
              "ticks": ""
             }
            },
            "type": "scattergl"
           }
          ],
          "scattermapbox": [
           {
            "marker": {
             "colorbar": {
              "outlinewidth": 0,
              "ticks": ""
             }
            },
            "type": "scattermapbox"
           }
          ],
          "scatterpolar": [
           {
            "marker": {
             "colorbar": {
              "outlinewidth": 0,
              "ticks": ""
             }
            },
            "type": "scatterpolar"
           }
          ],
          "scatterpolargl": [
           {
            "marker": {
             "colorbar": {
              "outlinewidth": 0,
              "ticks": ""
             }
            },
            "type": "scatterpolargl"
           }
          ],
          "scatterternary": [
           {
            "marker": {
             "colorbar": {
              "outlinewidth": 0,
              "ticks": ""
             }
            },
            "type": "scatterternary"
           }
          ],
          "surface": [
           {
            "colorbar": {
             "outlinewidth": 0,
             "ticks": ""
            },
            "colorscale": [
             [
              0,
              "#0d0887"
             ],
             [
              0.1111111111111111,
              "#46039f"
             ],
             [
              0.2222222222222222,
              "#7201a8"
             ],
             [
              0.3333333333333333,
              "#9c179e"
             ],
             [
              0.4444444444444444,
              "#bd3786"
             ],
             [
              0.5555555555555556,
              "#d8576b"
             ],
             [
              0.6666666666666666,
              "#ed7953"
             ],
             [
              0.7777777777777778,
              "#fb9f3a"
             ],
             [
              0.8888888888888888,
              "#fdca26"
             ],
             [
              1,
              "#f0f921"
             ]
            ],
            "type": "surface"
           }
          ],
          "table": [
           {
            "cells": {
             "fill": {
              "color": "#EBF0F8"
             },
             "line": {
              "color": "white"
             }
            },
            "header": {
             "fill": {
              "color": "#C8D4E3"
             },
             "line": {
              "color": "white"
             }
            },
            "type": "table"
           }
          ]
         },
         "layout": {
          "annotationdefaults": {
           "arrowcolor": "#2a3f5f",
           "arrowhead": 0,
           "arrowwidth": 1
          },
          "coloraxis": {
           "colorbar": {
            "outlinewidth": 0,
            "ticks": ""
           }
          },
          "colorscale": {
           "diverging": [
            [
             0,
             "#8e0152"
            ],
            [
             0.1,
             "#c51b7d"
            ],
            [
             0.2,
             "#de77ae"
            ],
            [
             0.3,
             "#f1b6da"
            ],
            [
             0.4,
             "#fde0ef"
            ],
            [
             0.5,
             "#f7f7f7"
            ],
            [
             0.6,
             "#e6f5d0"
            ],
            [
             0.7,
             "#b8e186"
            ],
            [
             0.8,
             "#7fbc41"
            ],
            [
             0.9,
             "#4d9221"
            ],
            [
             1,
             "#276419"
            ]
           ],
           "sequential": [
            [
             0,
             "#0d0887"
            ],
            [
             0.1111111111111111,
             "#46039f"
            ],
            [
             0.2222222222222222,
             "#7201a8"
            ],
            [
             0.3333333333333333,
             "#9c179e"
            ],
            [
             0.4444444444444444,
             "#bd3786"
            ],
            [
             0.5555555555555556,
             "#d8576b"
            ],
            [
             0.6666666666666666,
             "#ed7953"
            ],
            [
             0.7777777777777778,
             "#fb9f3a"
            ],
            [
             0.8888888888888888,
             "#fdca26"
            ],
            [
             1,
             "#f0f921"
            ]
           ],
           "sequentialminus": [
            [
             0,
             "#0d0887"
            ],
            [
             0.1111111111111111,
             "#46039f"
            ],
            [
             0.2222222222222222,
             "#7201a8"
            ],
            [
             0.3333333333333333,
             "#9c179e"
            ],
            [
             0.4444444444444444,
             "#bd3786"
            ],
            [
             0.5555555555555556,
             "#d8576b"
            ],
            [
             0.6666666666666666,
             "#ed7953"
            ],
            [
             0.7777777777777778,
             "#fb9f3a"
            ],
            [
             0.8888888888888888,
             "#fdca26"
            ],
            [
             1,
             "#f0f921"
            ]
           ]
          },
          "colorway": [
           "#636efa",
           "#EF553B",
           "#00cc96",
           "#ab63fa",
           "#FFA15A",
           "#19d3f3",
           "#FF6692",
           "#B6E880",
           "#FF97FF",
           "#FECB52"
          ],
          "font": {
           "color": "#2a3f5f"
          },
          "geo": {
           "bgcolor": "white",
           "lakecolor": "white",
           "landcolor": "#E5ECF6",
           "showlakes": true,
           "showland": true,
           "subunitcolor": "white"
          },
          "hoverlabel": {
           "align": "left"
          },
          "hovermode": "closest",
          "mapbox": {
           "style": "light"
          },
          "paper_bgcolor": "white",
          "plot_bgcolor": "#E5ECF6",
          "polar": {
           "angularaxis": {
            "gridcolor": "white",
            "linecolor": "white",
            "ticks": ""
           },
           "bgcolor": "#E5ECF6",
           "radialaxis": {
            "gridcolor": "white",
            "linecolor": "white",
            "ticks": ""
           }
          },
          "scene": {
           "xaxis": {
            "backgroundcolor": "#E5ECF6",
            "gridcolor": "white",
            "gridwidth": 2,
            "linecolor": "white",
            "showbackground": true,
            "ticks": "",
            "zerolinecolor": "white"
           },
           "yaxis": {
            "backgroundcolor": "#E5ECF6",
            "gridcolor": "white",
            "gridwidth": 2,
            "linecolor": "white",
            "showbackground": true,
            "ticks": "",
            "zerolinecolor": "white"
           },
           "zaxis": {
            "backgroundcolor": "#E5ECF6",
            "gridcolor": "white",
            "gridwidth": 2,
            "linecolor": "white",
            "showbackground": true,
            "ticks": "",
            "zerolinecolor": "white"
           }
          },
          "shapedefaults": {
           "line": {
            "color": "#2a3f5f"
           }
          },
          "ternary": {
           "aaxis": {
            "gridcolor": "white",
            "linecolor": "white",
            "ticks": ""
           },
           "baxis": {
            "gridcolor": "white",
            "linecolor": "white",
            "ticks": ""
           },
           "bgcolor": "#E5ECF6",
           "caxis": {
            "gridcolor": "white",
            "linecolor": "white",
            "ticks": ""
           }
          },
          "title": {
           "x": 0.05
          },
          "xaxis": {
           "automargin": true,
           "gridcolor": "white",
           "linecolor": "white",
           "ticks": "",
           "title": {
            "standoff": 15
           },
           "zerolinecolor": "white",
           "zerolinewidth": 2
          },
          "yaxis": {
           "automargin": true,
           "gridcolor": "white",
           "linecolor": "white",
           "ticks": "",
           "title": {
            "standoff": 15
           },
           "zerolinecolor": "white",
           "zerolinewidth": 2
          }
         }
        },
        "title": {
         "text": "Scatter Matrix of Major City Temperatures"
        },
        "width": 850
       }
      },
      "text/html": [
       "<div>\n",
       "        \n",
       "        \n",
       "            <div id=\"0dfdc9b7-8b60-42fe-8b86-70d913481ad8\" class=\"plotly-graph-div\" style=\"height:700px; width:850px;\"></div>\n",
       "            <script type=\"text/javascript\">\n",
       "                require([\"plotly\"], function(Plotly) {\n",
       "                    window.PLOTLYENV=window.PLOTLYENV || {};\n",
       "                    \n",
       "                if (document.getElementById(\"0dfdc9b7-8b60-42fe-8b86-70d913481ad8\")) {\n",
       "                    Plotly.newPlot(\n",
       "                        '0dfdc9b7-8b60-42fe-8b86-70d913481ad8',\n",
       "                        [{\"dimensions\": [{\"axis\": {\"matches\": true}, \"label\": \"City\", \"values\": [77.0, 75.0, 73.5, 73.0, 70.0, 69.5, 69.5, 69.5, 69.5, 68.5, 67.0, 67.0, 65.5, 64.0, 63.5, 63.5, 62.5, 61.5, 61.0, 61.0, 60.5, 60.0, 60.0, 59.5, 59.0, 58.5, 58.5, 57.5, 57.0, 57.0, 56.0, 55.0, 55.0, 54.0, 54.0, 53.5, 53.5, 53.5, 53.0, 52.0, 51.5, 51.5, 51.5, 50.5, 50.5, 50.0, 50.0, 48.0, 48.0, 48.0, 46.0]}, {\"axis\": {\"matches\": true}, \"label\": \"Avg\", \"values\": [84, 87, 82, 83, 80, 80, 80, 78, 80, 79, 77, 81, 75, 70, 74, 73, 72, 72, 72, 74, 71, 71, 68, 70, 70, 68, 67, 64, 66, 66, 65, 65, 62, 65, 63, 63, 63, 61, 64, 61, 59, 60, 61, 59, 61, 59, 64, 56, 56, 57, 55]}, {\"axis\": {\"matches\": true}, \"label\": \"high_f\", \"values\": [70, 63, 65, 63, 60, 59, 59, 61, 59, 58, 57, 53, 56, 58, 53, 54, 53, 51, 50, 48, 50, 49, 52, 49, 48, 49, 50, 51, 48, 48, 47, 45, 48, 43, 45, 44, 44, 46, 42, 43, 44, 43, 42, 42, 40, 41, 36, 40, 40, 39, 37]}, {\"axis\": {\"matches\": true}, \"label\": \"low_f\", \"values\": [\"Miami, Florida\", \"Phoenix, Arizona\", \"Tampa, Florida\", \"Orlando, Florida\", \"Houston, Texas\", \"Austin, Texas\", \"Las Vegas, Nevada\", \"New Orleans, Louisiana\", \"San Antonio, Texas\", \"Jacksonville, Florida\", \"Dallas, Texas\", \"Riverside, California\", \"Los Angeles, California\", \"San Diego, California\", \"Birmingham, Alabama\", \"Memphis, Tennessee\", \"Atlanta, Georgia\", \"Oklahoma City, Oklahoma\", \"Raleigh, North Carolina\", \"Sacramento, California\", \"San Jose, California\", \"Charlotte, North Carolina\", \"Virginia Beach, Virginia\", \"Nashville, Tennessee\", \"Richmond, Virginia\", \"Louisville, Kentucky\", \"Washington, DC\", \"San Francisco, California\", \"Kansas City, Missouri\", \"St. Louis, Missouri\", \"Philadelphia, Pennsylvania\", \"Baltimore, Maryland\", \"New York, New York\", \"Cincinnati, Ohio\", \"Portland, Oregon\", \"Columbus, Ohio\", \"Indianapolis, Indiana\", \"Seattle, Washington\", \"Salt Lake City, Utah\", \"Providence, Rhode Island\", \"Boston, Massachusetts\", \"Cleveland, Ohio\", \"Pittsburgh, Pennsylvania\", \"Detroit, Michigan\", \"Hartford, Connecticut\", \"Chicago, Illinois\", \"Denver, Colorado\", \"Buffalo, New York\", \"Milwaukee, Wisconsin\", \"Rochester, New York\", \"Minneapolis, Minnesota\"]}], \"hovertemplate\": \"%{xaxis.title.text}=%{x}<br>%{yaxis.title.text}=%{y}<br>City=%{marker.color}<extra></extra>\", \"legendgroup\": \"\", \"marker\": {\"color\": [77.0, 75.0, 73.5, 73.0, 70.0, 69.5, 69.5, 69.5, 69.5, 68.5, 67.0, 67.0, 65.5, 64.0, 63.5, 63.5, 62.5, 61.5, 61.0, 61.0, 60.5, 60.0, 60.0, 59.5, 59.0, 58.5, 58.5, 57.5, 57.0, 57.0, 56.0, 55.0, 55.0, 54.0, 54.0, 53.5, 53.5, 53.5, 53.0, 52.0, 51.5, 51.5, 51.5, 50.5, 50.5, 50.0, 50.0, 48.0, 48.0, 48.0, 46.0], \"coloraxis\": \"coloraxis\", \"symbol\": \"circle\"}, \"name\": \"\", \"showlegend\": false, \"type\": \"splom\"}],\n",
       "                        {\"coloraxis\": {\"colorbar\": {\"title\": {\"text\": \"City\"}}, \"colorscale\": [[0.0, \"rgb(214, 249, 207)\"], [0.09090909090909091, \"rgb(186, 228, 174)\"], [0.18181818181818182, \"rgb(156, 209, 143)\"], [0.2727272727272727, \"rgb(124, 191, 115)\"], [0.36363636363636365, \"rgb(85, 174, 91)\"], [0.45454545454545453, \"rgb(37, 157, 81)\"], [0.5454545454545454, \"rgb(7, 138, 78)\"], [0.6363636363636364, \"rgb(13, 117, 71)\"], [0.7272727272727273, \"rgb(23, 95, 61)\"], [0.8181818181818182, \"rgb(25, 75, 49)\"], [0.9090909090909091, \"rgb(23, 55, 35)\"], [1.0, \"rgb(17, 36, 20)\"]]}, \"dragmode\": \"select\", \"height\": 700, \"legend\": {\"tracegroupgap\": 0}, \"margin\": {\"t\": 60}, \"template\": {\"data\": {\"bar\": [{\"error_x\": {\"color\": \"#2a3f5f\"}, \"error_y\": {\"color\": \"#2a3f5f\"}, \"marker\": {\"line\": {\"color\": \"#E5ECF6\", \"width\": 0.5}}, \"type\": \"bar\"}], \"barpolar\": [{\"marker\": {\"line\": {\"color\": \"#E5ECF6\", \"width\": 0.5}}, \"type\": \"barpolar\"}], \"carpet\": [{\"aaxis\": {\"endlinecolor\": \"#2a3f5f\", \"gridcolor\": \"white\", \"linecolor\": \"white\", \"minorgridcolor\": \"white\", \"startlinecolor\": \"#2a3f5f\"}, \"baxis\": {\"endlinecolor\": \"#2a3f5f\", \"gridcolor\": \"white\", \"linecolor\": \"white\", \"minorgridcolor\": \"white\", \"startlinecolor\": \"#2a3f5f\"}, \"type\": \"carpet\"}], \"choropleth\": [{\"colorbar\": {\"outlinewidth\": 0, \"ticks\": \"\"}, \"type\": \"choropleth\"}], \"contour\": [{\"colorbar\": {\"outlinewidth\": 0, \"ticks\": \"\"}, \"colorscale\": [[0.0, \"#0d0887\"], [0.1111111111111111, \"#46039f\"], [0.2222222222222222, \"#7201a8\"], [0.3333333333333333, \"#9c179e\"], [0.4444444444444444, \"#bd3786\"], [0.5555555555555556, \"#d8576b\"], [0.6666666666666666, \"#ed7953\"], [0.7777777777777778, \"#fb9f3a\"], [0.8888888888888888, \"#fdca26\"], [1.0, \"#f0f921\"]], \"type\": \"contour\"}], \"contourcarpet\": [{\"colorbar\": {\"outlinewidth\": 0, \"ticks\": \"\"}, \"type\": \"contourcarpet\"}], \"heatmap\": [{\"colorbar\": {\"outlinewidth\": 0, \"ticks\": \"\"}, \"colorscale\": [[0.0, \"#0d0887\"], [0.1111111111111111, \"#46039f\"], [0.2222222222222222, \"#7201a8\"], [0.3333333333333333, \"#9c179e\"], [0.4444444444444444, \"#bd3786\"], [0.5555555555555556, \"#d8576b\"], [0.6666666666666666, \"#ed7953\"], [0.7777777777777778, \"#fb9f3a\"], [0.8888888888888888, \"#fdca26\"], [1.0, \"#f0f921\"]], \"type\": \"heatmap\"}], \"heatmapgl\": [{\"colorbar\": {\"outlinewidth\": 0, \"ticks\": \"\"}, \"colorscale\": [[0.0, \"#0d0887\"], [0.1111111111111111, \"#46039f\"], [0.2222222222222222, \"#7201a8\"], [0.3333333333333333, \"#9c179e\"], [0.4444444444444444, \"#bd3786\"], [0.5555555555555556, \"#d8576b\"], [0.6666666666666666, \"#ed7953\"], [0.7777777777777778, \"#fb9f3a\"], [0.8888888888888888, \"#fdca26\"], [1.0, \"#f0f921\"]], \"type\": \"heatmapgl\"}], \"histogram\": [{\"marker\": {\"colorbar\": {\"outlinewidth\": 0, \"ticks\": \"\"}}, \"type\": \"histogram\"}], \"histogram2d\": [{\"colorbar\": {\"outlinewidth\": 0, \"ticks\": \"\"}, \"colorscale\": [[0.0, \"#0d0887\"], [0.1111111111111111, \"#46039f\"], [0.2222222222222222, \"#7201a8\"], [0.3333333333333333, \"#9c179e\"], [0.4444444444444444, \"#bd3786\"], [0.5555555555555556, \"#d8576b\"], [0.6666666666666666, \"#ed7953\"], [0.7777777777777778, \"#fb9f3a\"], [0.8888888888888888, \"#fdca26\"], [1.0, \"#f0f921\"]], \"type\": \"histogram2d\"}], \"histogram2dcontour\": [{\"colorbar\": {\"outlinewidth\": 0, \"ticks\": \"\"}, \"colorscale\": [[0.0, \"#0d0887\"], [0.1111111111111111, \"#46039f\"], [0.2222222222222222, \"#7201a8\"], [0.3333333333333333, \"#9c179e\"], [0.4444444444444444, \"#bd3786\"], [0.5555555555555556, \"#d8576b\"], [0.6666666666666666, \"#ed7953\"], [0.7777777777777778, \"#fb9f3a\"], [0.8888888888888888, \"#fdca26\"], [1.0, \"#f0f921\"]], \"type\": \"histogram2dcontour\"}], \"mesh3d\": [{\"colorbar\": {\"outlinewidth\": 0, \"ticks\": \"\"}, \"type\": \"mesh3d\"}], \"parcoords\": [{\"line\": {\"colorbar\": {\"outlinewidth\": 0, \"ticks\": \"\"}}, \"type\": \"parcoords\"}], \"pie\": [{\"automargin\": true, \"type\": \"pie\"}], \"scatter\": [{\"marker\": {\"colorbar\": {\"outlinewidth\": 0, \"ticks\": \"\"}}, \"type\": \"scatter\"}], \"scatter3d\": [{\"line\": {\"colorbar\": {\"outlinewidth\": 0, \"ticks\": \"\"}}, \"marker\": {\"colorbar\": {\"outlinewidth\": 0, \"ticks\": \"\"}}, \"type\": \"scatter3d\"}], \"scattercarpet\": [{\"marker\": {\"colorbar\": {\"outlinewidth\": 0, \"ticks\": \"\"}}, \"type\": \"scattercarpet\"}], \"scattergeo\": [{\"marker\": {\"colorbar\": {\"outlinewidth\": 0, \"ticks\": \"\"}}, \"type\": \"scattergeo\"}], \"scattergl\": [{\"marker\": {\"colorbar\": {\"outlinewidth\": 0, \"ticks\": \"\"}}, \"type\": \"scattergl\"}], \"scattermapbox\": [{\"marker\": {\"colorbar\": {\"outlinewidth\": 0, \"ticks\": \"\"}}, \"type\": \"scattermapbox\"}], \"scatterpolar\": [{\"marker\": {\"colorbar\": {\"outlinewidth\": 0, \"ticks\": \"\"}}, \"type\": \"scatterpolar\"}], \"scatterpolargl\": [{\"marker\": {\"colorbar\": {\"outlinewidth\": 0, \"ticks\": \"\"}}, \"type\": \"scatterpolargl\"}], \"scatterternary\": [{\"marker\": {\"colorbar\": {\"outlinewidth\": 0, \"ticks\": \"\"}}, \"type\": \"scatterternary\"}], \"surface\": [{\"colorbar\": {\"outlinewidth\": 0, \"ticks\": \"\"}, \"colorscale\": [[0.0, \"#0d0887\"], [0.1111111111111111, \"#46039f\"], [0.2222222222222222, \"#7201a8\"], [0.3333333333333333, \"#9c179e\"], [0.4444444444444444, \"#bd3786\"], [0.5555555555555556, \"#d8576b\"], [0.6666666666666666, \"#ed7953\"], [0.7777777777777778, \"#fb9f3a\"], [0.8888888888888888, \"#fdca26\"], [1.0, \"#f0f921\"]], \"type\": \"surface\"}], \"table\": [{\"cells\": {\"fill\": {\"color\": \"#EBF0F8\"}, \"line\": {\"color\": \"white\"}}, \"header\": {\"fill\": {\"color\": \"#C8D4E3\"}, \"line\": {\"color\": \"white\"}}, \"type\": \"table\"}]}, \"layout\": {\"annotationdefaults\": {\"arrowcolor\": \"#2a3f5f\", \"arrowhead\": 0, \"arrowwidth\": 1}, \"coloraxis\": {\"colorbar\": {\"outlinewidth\": 0, \"ticks\": \"\"}}, \"colorscale\": {\"diverging\": [[0, \"#8e0152\"], [0.1, \"#c51b7d\"], [0.2, \"#de77ae\"], [0.3, \"#f1b6da\"], [0.4, \"#fde0ef\"], [0.5, \"#f7f7f7\"], [0.6, \"#e6f5d0\"], [0.7, \"#b8e186\"], [0.8, \"#7fbc41\"], [0.9, \"#4d9221\"], [1, \"#276419\"]], \"sequential\": [[0.0, \"#0d0887\"], [0.1111111111111111, \"#46039f\"], [0.2222222222222222, \"#7201a8\"], [0.3333333333333333, \"#9c179e\"], [0.4444444444444444, \"#bd3786\"], [0.5555555555555556, \"#d8576b\"], [0.6666666666666666, \"#ed7953\"], [0.7777777777777778, \"#fb9f3a\"], [0.8888888888888888, \"#fdca26\"], [1.0, \"#f0f921\"]], \"sequentialminus\": [[0.0, \"#0d0887\"], [0.1111111111111111, \"#46039f\"], [0.2222222222222222, \"#7201a8\"], [0.3333333333333333, \"#9c179e\"], [0.4444444444444444, \"#bd3786\"], [0.5555555555555556, \"#d8576b\"], [0.6666666666666666, \"#ed7953\"], [0.7777777777777778, \"#fb9f3a\"], [0.8888888888888888, \"#fdca26\"], [1.0, \"#f0f921\"]]}, \"colorway\": [\"#636efa\", \"#EF553B\", \"#00cc96\", \"#ab63fa\", \"#FFA15A\", \"#19d3f3\", \"#FF6692\", \"#B6E880\", \"#FF97FF\", \"#FECB52\"], \"font\": {\"color\": \"#2a3f5f\"}, \"geo\": {\"bgcolor\": \"white\", \"lakecolor\": \"white\", \"landcolor\": \"#E5ECF6\", \"showlakes\": true, \"showland\": true, \"subunitcolor\": \"white\"}, \"hoverlabel\": {\"align\": \"left\"}, \"hovermode\": \"closest\", \"mapbox\": {\"style\": \"light\"}, \"paper_bgcolor\": \"white\", \"plot_bgcolor\": \"#E5ECF6\", \"polar\": {\"angularaxis\": {\"gridcolor\": \"white\", \"linecolor\": \"white\", \"ticks\": \"\"}, \"bgcolor\": \"#E5ECF6\", \"radialaxis\": {\"gridcolor\": \"white\", \"linecolor\": \"white\", \"ticks\": \"\"}}, \"scene\": {\"xaxis\": {\"backgroundcolor\": \"#E5ECF6\", \"gridcolor\": \"white\", \"gridwidth\": 2, \"linecolor\": \"white\", \"showbackground\": true, \"ticks\": \"\", \"zerolinecolor\": \"white\"}, \"yaxis\": {\"backgroundcolor\": \"#E5ECF6\", \"gridcolor\": \"white\", \"gridwidth\": 2, \"linecolor\": \"white\", \"showbackground\": true, \"ticks\": \"\", \"zerolinecolor\": \"white\"}, \"zaxis\": {\"backgroundcolor\": \"#E5ECF6\", \"gridcolor\": \"white\", \"gridwidth\": 2, \"linecolor\": \"white\", \"showbackground\": true, \"ticks\": \"\", \"zerolinecolor\": \"white\"}}, \"shapedefaults\": {\"line\": {\"color\": \"#2a3f5f\"}}, \"ternary\": {\"aaxis\": {\"gridcolor\": \"white\", \"linecolor\": \"white\", \"ticks\": \"\"}, \"baxis\": {\"gridcolor\": \"white\", \"linecolor\": \"white\", \"ticks\": \"\"}, \"bgcolor\": \"#E5ECF6\", \"caxis\": {\"gridcolor\": \"white\", \"linecolor\": \"white\", \"ticks\": \"\"}}, \"title\": {\"x\": 0.05}, \"xaxis\": {\"automargin\": true, \"gridcolor\": \"white\", \"linecolor\": \"white\", \"ticks\": \"\", \"title\": {\"standoff\": 15}, \"zerolinecolor\": \"white\", \"zerolinewidth\": 2}, \"yaxis\": {\"automargin\": true, \"gridcolor\": \"white\", \"linecolor\": \"white\", \"ticks\": \"\", \"title\": {\"standoff\": 15}, \"zerolinecolor\": \"white\", \"zerolinewidth\": 2}}}, \"title\": {\"text\": \"Scatter Matrix of Major City Temperatures\"}, \"width\": 850},\n",
       "                        {\"responsive\": true}\n",
       "                    ).then(function(){\n",
       "                            \n",
       "var gd = document.getElementById('0dfdc9b7-8b60-42fe-8b86-70d913481ad8');\n",
       "var x = new MutationObserver(function (mutations, observer) {{\n",
       "        var display = window.getComputedStyle(gd).display;\n",
       "        if (!display || display === 'none') {{\n",
       "            console.log([gd, 'removed!']);\n",
       "            Plotly.purge(gd);\n",
       "            observer.disconnect();\n",
       "        }}\n",
       "}});\n",
       "\n",
       "// Listen for the removal of the full notebook cells\n",
       "var notebookContainer = gd.closest('#notebook-container');\n",
       "if (notebookContainer) {{\n",
       "    x.observe(notebookContainer, {childList: true});\n",
       "}}\n",
       "\n",
       "// Listen for the clearing of the current output cell\n",
       "var outputEl = gd.closest('.output');\n",
       "if (outputEl) {{\n",
       "    x.observe(outputEl, {childList: true});\n",
       "}}\n",
       "\n",
       "                        })\n",
       "                };\n",
       "                });\n",
       "            </script>\n",
       "        </div>"
      ]
     },
     "metadata": {},
     "output_type": "display_data"
    },
    {
     "data": {
      "application/vnd.plotly.v1+json": {
       "config": {
        "plotlyServerURL": "https://plot.ly"
       },
       "data": [
        {
         "dimensions": [
          {
           "label": "City",
           "values": [
            77,
            75,
            73.5,
            73,
            70,
            69.5,
            69.5,
            69.5,
            69.5,
            68.5,
            67,
            67,
            65.5,
            64,
            63.5,
            63.5,
            62.5,
            61.5,
            61,
            61,
            60.5,
            60,
            60,
            59.5,
            59,
            58.5,
            58.5,
            57.5,
            57,
            57,
            56,
            55,
            55,
            54,
            54,
            53.5,
            53.5,
            53.5,
            53,
            52,
            51.5,
            51.5,
            51.5,
            50.5,
            50.5,
            50,
            50,
            48,
            48,
            48,
            46
           ]
          },
          {
           "label": "Avg",
           "values": [
            84,
            87,
            82,
            83,
            80,
            80,
            80,
            78,
            80,
            79,
            77,
            81,
            75,
            70,
            74,
            73,
            72,
            72,
            72,
            74,
            71,
            71,
            68,
            70,
            70,
            68,
            67,
            64,
            66,
            66,
            65,
            65,
            62,
            65,
            63,
            63,
            63,
            61,
            64,
            61,
            59,
            60,
            61,
            59,
            61,
            59,
            64,
            56,
            56,
            57,
            55
           ]
          },
          {
           "label": "high_f",
           "values": [
            70,
            63,
            65,
            63,
            60,
            59,
            59,
            61,
            59,
            58,
            57,
            53,
            56,
            58,
            53,
            54,
            53,
            51,
            50,
            48,
            50,
            49,
            52,
            49,
            48,
            49,
            50,
            51,
            48,
            48,
            47,
            45,
            48,
            43,
            45,
            44,
            44,
            46,
            42,
            43,
            44,
            43,
            42,
            42,
            40,
            41,
            36,
            40,
            40,
            39,
            37
           ]
          },
          {
           "label": "high_c",
           "values": [
            29,
            31,
            28,
            28,
            27,
            27,
            27,
            26,
            27,
            26,
            25,
            27,
            24,
            21,
            23,
            23,
            22,
            22,
            22,
            23,
            22,
            22,
            20,
            21,
            21,
            20,
            19,
            18,
            19,
            19,
            18,
            18,
            17,
            18,
            17,
            17,
            17,
            16,
            18,
            16,
            15,
            15,
            16,
            15,
            16,
            15,
            18,
            14,
            13,
            14,
            13
           ]
          },
          {
           "label": "low_c",
           "values": [
            21,
            17,
            18,
            17,
            16,
            15,
            15,
            16,
            15,
            14,
            14,
            11,
            13,
            14,
            12,
            12,
            12,
            10,
            10,
            9,
            10,
            9,
            11,
            9,
            9,
            9,
            10,
            10,
            9,
            9,
            8,
            7,
            9,
            6,
            7,
            7,
            7,
            8,
            5,
            6,
            7,
            6,
            6,
            5,
            5,
            5,
            2,
            5,
            5,
            4,
            3
           ]
          }
         ],
         "domain": {
          "x": [
           0,
           1
          ],
          "y": [
           0,
           1
          ]
         },
         "line": {
          "color": [
           77,
           75,
           73.5,
           73,
           70,
           69.5,
           69.5,
           69.5,
           69.5,
           68.5,
           67,
           67,
           65.5,
           64,
           63.5,
           63.5,
           62.5,
           61.5,
           61,
           61,
           60.5,
           60,
           60,
           59.5,
           59,
           58.5,
           58.5,
           57.5,
           57,
           57,
           56,
           55,
           55,
           54,
           54,
           53.5,
           53.5,
           53.5,
           53,
           52,
           51.5,
           51.5,
           51.5,
           50.5,
           50.5,
           50,
           50,
           48,
           48,
           48,
           46
          ],
          "coloraxis": "coloraxis"
         },
         "name": "",
         "type": "parcats"
        }
       ],
       "layout": {
        "coloraxis": {
         "colorbar": {
          "title": {
           "text": "City"
          }
         },
         "colorscale": [
          [
           0,
           "rgb(214, 249, 207)"
          ],
          [
           0.09090909090909091,
           "rgb(186, 228, 174)"
          ],
          [
           0.18181818181818182,
           "rgb(156, 209, 143)"
          ],
          [
           0.2727272727272727,
           "rgb(124, 191, 115)"
          ],
          [
           0.36363636363636365,
           "rgb(85, 174, 91)"
          ],
          [
           0.45454545454545453,
           "rgb(37, 157, 81)"
          ],
          [
           0.5454545454545454,
           "rgb(7, 138, 78)"
          ],
          [
           0.6363636363636364,
           "rgb(13, 117, 71)"
          ],
          [
           0.7272727272727273,
           "rgb(23, 95, 61)"
          ],
          [
           0.8181818181818182,
           "rgb(25, 75, 49)"
          ],
          [
           0.9090909090909091,
           "rgb(23, 55, 35)"
          ],
          [
           1,
           "rgb(17, 36, 20)"
          ]
         ]
        },
        "height": 700,
        "legend": {
         "tracegroupgap": 0
        },
        "margin": {
         "t": 60
        },
        "template": {
         "data": {
          "bar": [
           {
            "error_x": {
             "color": "#2a3f5f"
            },
            "error_y": {
             "color": "#2a3f5f"
            },
            "marker": {
             "line": {
              "color": "#E5ECF6",
              "width": 0.5
             }
            },
            "type": "bar"
           }
          ],
          "barpolar": [
           {
            "marker": {
             "line": {
              "color": "#E5ECF6",
              "width": 0.5
             }
            },
            "type": "barpolar"
           }
          ],
          "carpet": [
           {
            "aaxis": {
             "endlinecolor": "#2a3f5f",
             "gridcolor": "white",
             "linecolor": "white",
             "minorgridcolor": "white",
             "startlinecolor": "#2a3f5f"
            },
            "baxis": {
             "endlinecolor": "#2a3f5f",
             "gridcolor": "white",
             "linecolor": "white",
             "minorgridcolor": "white",
             "startlinecolor": "#2a3f5f"
            },
            "type": "carpet"
           }
          ],
          "choropleth": [
           {
            "colorbar": {
             "outlinewidth": 0,
             "ticks": ""
            },
            "type": "choropleth"
           }
          ],
          "contour": [
           {
            "colorbar": {
             "outlinewidth": 0,
             "ticks": ""
            },
            "colorscale": [
             [
              0,
              "#0d0887"
             ],
             [
              0.1111111111111111,
              "#46039f"
             ],
             [
              0.2222222222222222,
              "#7201a8"
             ],
             [
              0.3333333333333333,
              "#9c179e"
             ],
             [
              0.4444444444444444,
              "#bd3786"
             ],
             [
              0.5555555555555556,
              "#d8576b"
             ],
             [
              0.6666666666666666,
              "#ed7953"
             ],
             [
              0.7777777777777778,
              "#fb9f3a"
             ],
             [
              0.8888888888888888,
              "#fdca26"
             ],
             [
              1,
              "#f0f921"
             ]
            ],
            "type": "contour"
           }
          ],
          "contourcarpet": [
           {
            "colorbar": {
             "outlinewidth": 0,
             "ticks": ""
            },
            "type": "contourcarpet"
           }
          ],
          "heatmap": [
           {
            "colorbar": {
             "outlinewidth": 0,
             "ticks": ""
            },
            "colorscale": [
             [
              0,
              "#0d0887"
             ],
             [
              0.1111111111111111,
              "#46039f"
             ],
             [
              0.2222222222222222,
              "#7201a8"
             ],
             [
              0.3333333333333333,
              "#9c179e"
             ],
             [
              0.4444444444444444,
              "#bd3786"
             ],
             [
              0.5555555555555556,
              "#d8576b"
             ],
             [
              0.6666666666666666,
              "#ed7953"
             ],
             [
              0.7777777777777778,
              "#fb9f3a"
             ],
             [
              0.8888888888888888,
              "#fdca26"
             ],
             [
              1,
              "#f0f921"
             ]
            ],
            "type": "heatmap"
           }
          ],
          "heatmapgl": [
           {
            "colorbar": {
             "outlinewidth": 0,
             "ticks": ""
            },
            "colorscale": [
             [
              0,
              "#0d0887"
             ],
             [
              0.1111111111111111,
              "#46039f"
             ],
             [
              0.2222222222222222,
              "#7201a8"
             ],
             [
              0.3333333333333333,
              "#9c179e"
             ],
             [
              0.4444444444444444,
              "#bd3786"
             ],
             [
              0.5555555555555556,
              "#d8576b"
             ],
             [
              0.6666666666666666,
              "#ed7953"
             ],
             [
              0.7777777777777778,
              "#fb9f3a"
             ],
             [
              0.8888888888888888,
              "#fdca26"
             ],
             [
              1,
              "#f0f921"
             ]
            ],
            "type": "heatmapgl"
           }
          ],
          "histogram": [
           {
            "marker": {
             "colorbar": {
              "outlinewidth": 0,
              "ticks": ""
             }
            },
            "type": "histogram"
           }
          ],
          "histogram2d": [
           {
            "colorbar": {
             "outlinewidth": 0,
             "ticks": ""
            },
            "colorscale": [
             [
              0,
              "#0d0887"
             ],
             [
              0.1111111111111111,
              "#46039f"
             ],
             [
              0.2222222222222222,
              "#7201a8"
             ],
             [
              0.3333333333333333,
              "#9c179e"
             ],
             [
              0.4444444444444444,
              "#bd3786"
             ],
             [
              0.5555555555555556,
              "#d8576b"
             ],
             [
              0.6666666666666666,
              "#ed7953"
             ],
             [
              0.7777777777777778,
              "#fb9f3a"
             ],
             [
              0.8888888888888888,
              "#fdca26"
             ],
             [
              1,
              "#f0f921"
             ]
            ],
            "type": "histogram2d"
           }
          ],
          "histogram2dcontour": [
           {
            "colorbar": {
             "outlinewidth": 0,
             "ticks": ""
            },
            "colorscale": [
             [
              0,
              "#0d0887"
             ],
             [
              0.1111111111111111,
              "#46039f"
             ],
             [
              0.2222222222222222,
              "#7201a8"
             ],
             [
              0.3333333333333333,
              "#9c179e"
             ],
             [
              0.4444444444444444,
              "#bd3786"
             ],
             [
              0.5555555555555556,
              "#d8576b"
             ],
             [
              0.6666666666666666,
              "#ed7953"
             ],
             [
              0.7777777777777778,
              "#fb9f3a"
             ],
             [
              0.8888888888888888,
              "#fdca26"
             ],
             [
              1,
              "#f0f921"
             ]
            ],
            "type": "histogram2dcontour"
           }
          ],
          "mesh3d": [
           {
            "colorbar": {
             "outlinewidth": 0,
             "ticks": ""
            },
            "type": "mesh3d"
           }
          ],
          "parcoords": [
           {
            "line": {
             "colorbar": {
              "outlinewidth": 0,
              "ticks": ""
             }
            },
            "type": "parcoords"
           }
          ],
          "pie": [
           {
            "automargin": true,
            "type": "pie"
           }
          ],
          "scatter": [
           {
            "marker": {
             "colorbar": {
              "outlinewidth": 0,
              "ticks": ""
             }
            },
            "type": "scatter"
           }
          ],
          "scatter3d": [
           {
            "line": {
             "colorbar": {
              "outlinewidth": 0,
              "ticks": ""
             }
            },
            "marker": {
             "colorbar": {
              "outlinewidth": 0,
              "ticks": ""
             }
            },
            "type": "scatter3d"
           }
          ],
          "scattercarpet": [
           {
            "marker": {
             "colorbar": {
              "outlinewidth": 0,
              "ticks": ""
             }
            },
            "type": "scattercarpet"
           }
          ],
          "scattergeo": [
           {
            "marker": {
             "colorbar": {
              "outlinewidth": 0,
              "ticks": ""
             }
            },
            "type": "scattergeo"
           }
          ],
          "scattergl": [
           {
            "marker": {
             "colorbar": {
              "outlinewidth": 0,
              "ticks": ""
             }
            },
            "type": "scattergl"
           }
          ],
          "scattermapbox": [
           {
            "marker": {
             "colorbar": {
              "outlinewidth": 0,
              "ticks": ""
             }
            },
            "type": "scattermapbox"
           }
          ],
          "scatterpolar": [
           {
            "marker": {
             "colorbar": {
              "outlinewidth": 0,
              "ticks": ""
             }
            },
            "type": "scatterpolar"
           }
          ],
          "scatterpolargl": [
           {
            "marker": {
             "colorbar": {
              "outlinewidth": 0,
              "ticks": ""
             }
            },
            "type": "scatterpolargl"
           }
          ],
          "scatterternary": [
           {
            "marker": {
             "colorbar": {
              "outlinewidth": 0,
              "ticks": ""
             }
            },
            "type": "scatterternary"
           }
          ],
          "surface": [
           {
            "colorbar": {
             "outlinewidth": 0,
             "ticks": ""
            },
            "colorscale": [
             [
              0,
              "#0d0887"
             ],
             [
              0.1111111111111111,
              "#46039f"
             ],
             [
              0.2222222222222222,
              "#7201a8"
             ],
             [
              0.3333333333333333,
              "#9c179e"
             ],
             [
              0.4444444444444444,
              "#bd3786"
             ],
             [
              0.5555555555555556,
              "#d8576b"
             ],
             [
              0.6666666666666666,
              "#ed7953"
             ],
             [
              0.7777777777777778,
              "#fb9f3a"
             ],
             [
              0.8888888888888888,
              "#fdca26"
             ],
             [
              1,
              "#f0f921"
             ]
            ],
            "type": "surface"
           }
          ],
          "table": [
           {
            "cells": {
             "fill": {
              "color": "#EBF0F8"
             },
             "line": {
              "color": "white"
             }
            },
            "header": {
             "fill": {
              "color": "#C8D4E3"
             },
             "line": {
              "color": "white"
             }
            },
            "type": "table"
           }
          ]
         },
         "layout": {
          "annotationdefaults": {
           "arrowcolor": "#2a3f5f",
           "arrowhead": 0,
           "arrowwidth": 1
          },
          "coloraxis": {
           "colorbar": {
            "outlinewidth": 0,
            "ticks": ""
           }
          },
          "colorscale": {
           "diverging": [
            [
             0,
             "#8e0152"
            ],
            [
             0.1,
             "#c51b7d"
            ],
            [
             0.2,
             "#de77ae"
            ],
            [
             0.3,
             "#f1b6da"
            ],
            [
             0.4,
             "#fde0ef"
            ],
            [
             0.5,
             "#f7f7f7"
            ],
            [
             0.6,
             "#e6f5d0"
            ],
            [
             0.7,
             "#b8e186"
            ],
            [
             0.8,
             "#7fbc41"
            ],
            [
             0.9,
             "#4d9221"
            ],
            [
             1,
             "#276419"
            ]
           ],
           "sequential": [
            [
             0,
             "#0d0887"
            ],
            [
             0.1111111111111111,
             "#46039f"
            ],
            [
             0.2222222222222222,
             "#7201a8"
            ],
            [
             0.3333333333333333,
             "#9c179e"
            ],
            [
             0.4444444444444444,
             "#bd3786"
            ],
            [
             0.5555555555555556,
             "#d8576b"
            ],
            [
             0.6666666666666666,
             "#ed7953"
            ],
            [
             0.7777777777777778,
             "#fb9f3a"
            ],
            [
             0.8888888888888888,
             "#fdca26"
            ],
            [
             1,
             "#f0f921"
            ]
           ],
           "sequentialminus": [
            [
             0,
             "#0d0887"
            ],
            [
             0.1111111111111111,
             "#46039f"
            ],
            [
             0.2222222222222222,
             "#7201a8"
            ],
            [
             0.3333333333333333,
             "#9c179e"
            ],
            [
             0.4444444444444444,
             "#bd3786"
            ],
            [
             0.5555555555555556,
             "#d8576b"
            ],
            [
             0.6666666666666666,
             "#ed7953"
            ],
            [
             0.7777777777777778,
             "#fb9f3a"
            ],
            [
             0.8888888888888888,
             "#fdca26"
            ],
            [
             1,
             "#f0f921"
            ]
           ]
          },
          "colorway": [
           "#636efa",
           "#EF553B",
           "#00cc96",
           "#ab63fa",
           "#FFA15A",
           "#19d3f3",
           "#FF6692",
           "#B6E880",
           "#FF97FF",
           "#FECB52"
          ],
          "font": {
           "color": "#2a3f5f"
          },
          "geo": {
           "bgcolor": "white",
           "lakecolor": "white",
           "landcolor": "#E5ECF6",
           "showlakes": true,
           "showland": true,
           "subunitcolor": "white"
          },
          "hoverlabel": {
           "align": "left"
          },
          "hovermode": "closest",
          "mapbox": {
           "style": "light"
          },
          "paper_bgcolor": "white",
          "plot_bgcolor": "#E5ECF6",
          "polar": {
           "angularaxis": {
            "gridcolor": "white",
            "linecolor": "white",
            "ticks": ""
           },
           "bgcolor": "#E5ECF6",
           "radialaxis": {
            "gridcolor": "white",
            "linecolor": "white",
            "ticks": ""
           }
          },
          "scene": {
           "xaxis": {
            "backgroundcolor": "#E5ECF6",
            "gridcolor": "white",
            "gridwidth": 2,
            "linecolor": "white",
            "showbackground": true,
            "ticks": "",
            "zerolinecolor": "white"
           },
           "yaxis": {
            "backgroundcolor": "#E5ECF6",
            "gridcolor": "white",
            "gridwidth": 2,
            "linecolor": "white",
            "showbackground": true,
            "ticks": "",
            "zerolinecolor": "white"
           },
           "zaxis": {
            "backgroundcolor": "#E5ECF6",
            "gridcolor": "white",
            "gridwidth": 2,
            "linecolor": "white",
            "showbackground": true,
            "ticks": "",
            "zerolinecolor": "white"
           }
          },
          "shapedefaults": {
           "line": {
            "color": "#2a3f5f"
           }
          },
          "ternary": {
           "aaxis": {
            "gridcolor": "white",
            "linecolor": "white",
            "ticks": ""
           },
           "baxis": {
            "gridcolor": "white",
            "linecolor": "white",
            "ticks": ""
           },
           "bgcolor": "#E5ECF6",
           "caxis": {
            "gridcolor": "white",
            "linecolor": "white",
            "ticks": ""
           }
          },
          "title": {
           "x": 0.05
          },
          "xaxis": {
           "automargin": true,
           "gridcolor": "white",
           "linecolor": "white",
           "ticks": "",
           "title": {
            "standoff": 15
           },
           "zerolinecolor": "white",
           "zerolinewidth": 2
          },
          "yaxis": {
           "automargin": true,
           "gridcolor": "white",
           "linecolor": "white",
           "ticks": "",
           "title": {
            "standoff": 15
           },
           "zerolinecolor": "white",
           "zerolinewidth": 2
          }
         }
        },
        "title": {
         "text": "Parallel Categories of Major City Temperatures"
        },
        "width": 850
       }
      },
      "text/html": [
       "<div>\n",
       "        \n",
       "        \n",
       "            <div id=\"4c1d96c0-4b11-4c18-9e0d-b591440b172d\" class=\"plotly-graph-div\" style=\"height:700px; width:850px;\"></div>\n",
       "            <script type=\"text/javascript\">\n",
       "                require([\"plotly\"], function(Plotly) {\n",
       "                    window.PLOTLYENV=window.PLOTLYENV || {};\n",
       "                    \n",
       "                if (document.getElementById(\"4c1d96c0-4b11-4c18-9e0d-b591440b172d\")) {\n",
       "                    Plotly.newPlot(\n",
       "                        '4c1d96c0-4b11-4c18-9e0d-b591440b172d',\n",
       "                        [{\"dimensions\": [{\"label\": \"City\", \"values\": [77.0, 75.0, 73.5, 73.0, 70.0, 69.5, 69.5, 69.5, 69.5, 68.5, 67.0, 67.0, 65.5, 64.0, 63.5, 63.5, 62.5, 61.5, 61.0, 61.0, 60.5, 60.0, 60.0, 59.5, 59.0, 58.5, 58.5, 57.5, 57.0, 57.0, 56.0, 55.0, 55.0, 54.0, 54.0, 53.5, 53.5, 53.5, 53.0, 52.0, 51.5, 51.5, 51.5, 50.5, 50.5, 50.0, 50.0, 48.0, 48.0, 48.0, 46.0]}, {\"label\": \"Avg\", \"values\": [84, 87, 82, 83, 80, 80, 80, 78, 80, 79, 77, 81, 75, 70, 74, 73, 72, 72, 72, 74, 71, 71, 68, 70, 70, 68, 67, 64, 66, 66, 65, 65, 62, 65, 63, 63, 63, 61, 64, 61, 59, 60, 61, 59, 61, 59, 64, 56, 56, 57, 55]}, {\"label\": \"high_f\", \"values\": [70, 63, 65, 63, 60, 59, 59, 61, 59, 58, 57, 53, 56, 58, 53, 54, 53, 51, 50, 48, 50, 49, 52, 49, 48, 49, 50, 51, 48, 48, 47, 45, 48, 43, 45, 44, 44, 46, 42, 43, 44, 43, 42, 42, 40, 41, 36, 40, 40, 39, 37]}, {\"label\": \"high_c\", \"values\": [29, 31, 28, 28, 27, 27, 27, 26, 27, 26, 25, 27, 24, 21, 23, 23, 22, 22, 22, 23, 22, 22, 20, 21, 21, 20, 19, 18, 19, 19, 18, 18, 17, 18, 17, 17, 17, 16, 18, 16, 15, 15, 16, 15, 16, 15, 18, 14, 13, 14, 13]}, {\"label\": \"low_c\", \"values\": [21, 17, 18, 17, 16, 15, 15, 16, 15, 14, 14, 11, 13, 14, 12, 12, 12, 10, 10, 9, 10, 9, 11, 9, 9, 9, 10, 10, 9, 9, 8, 7, 9, 6, 7, 7, 7, 8, 5, 6, 7, 6, 6, 5, 5, 5, 2, 5, 5, 4, 3]}], \"domain\": {\"x\": [0.0, 1.0], \"y\": [0.0, 1.0]}, \"line\": {\"color\": [77.0, 75.0, 73.5, 73.0, 70.0, 69.5, 69.5, 69.5, 69.5, 68.5, 67.0, 67.0, 65.5, 64.0, 63.5, 63.5, 62.5, 61.5, 61.0, 61.0, 60.5, 60.0, 60.0, 59.5, 59.0, 58.5, 58.5, 57.5, 57.0, 57.0, 56.0, 55.0, 55.0, 54.0, 54.0, 53.5, 53.5, 53.5, 53.0, 52.0, 51.5, 51.5, 51.5, 50.5, 50.5, 50.0, 50.0, 48.0, 48.0, 48.0, 46.0], \"coloraxis\": \"coloraxis\"}, \"name\": \"\", \"type\": \"parcats\"}],\n",
       "                        {\"coloraxis\": {\"colorbar\": {\"title\": {\"text\": \"City\"}}, \"colorscale\": [[0.0, \"rgb(214, 249, 207)\"], [0.09090909090909091, \"rgb(186, 228, 174)\"], [0.18181818181818182, \"rgb(156, 209, 143)\"], [0.2727272727272727, \"rgb(124, 191, 115)\"], [0.36363636363636365, \"rgb(85, 174, 91)\"], [0.45454545454545453, \"rgb(37, 157, 81)\"], [0.5454545454545454, \"rgb(7, 138, 78)\"], [0.6363636363636364, \"rgb(13, 117, 71)\"], [0.7272727272727273, \"rgb(23, 95, 61)\"], [0.8181818181818182, \"rgb(25, 75, 49)\"], [0.9090909090909091, \"rgb(23, 55, 35)\"], [1.0, \"rgb(17, 36, 20)\"]]}, \"height\": 700, \"legend\": {\"tracegroupgap\": 0}, \"margin\": {\"t\": 60}, \"template\": {\"data\": {\"bar\": [{\"error_x\": {\"color\": \"#2a3f5f\"}, \"error_y\": {\"color\": \"#2a3f5f\"}, \"marker\": {\"line\": {\"color\": \"#E5ECF6\", \"width\": 0.5}}, \"type\": \"bar\"}], \"barpolar\": [{\"marker\": {\"line\": {\"color\": \"#E5ECF6\", \"width\": 0.5}}, \"type\": \"barpolar\"}], \"carpet\": [{\"aaxis\": {\"endlinecolor\": \"#2a3f5f\", \"gridcolor\": \"white\", \"linecolor\": \"white\", \"minorgridcolor\": \"white\", \"startlinecolor\": \"#2a3f5f\"}, \"baxis\": {\"endlinecolor\": \"#2a3f5f\", \"gridcolor\": \"white\", \"linecolor\": \"white\", \"minorgridcolor\": \"white\", \"startlinecolor\": \"#2a3f5f\"}, \"type\": \"carpet\"}], \"choropleth\": [{\"colorbar\": {\"outlinewidth\": 0, \"ticks\": \"\"}, \"type\": \"choropleth\"}], \"contour\": [{\"colorbar\": {\"outlinewidth\": 0, \"ticks\": \"\"}, \"colorscale\": [[0.0, \"#0d0887\"], [0.1111111111111111, \"#46039f\"], [0.2222222222222222, \"#7201a8\"], [0.3333333333333333, \"#9c179e\"], [0.4444444444444444, \"#bd3786\"], [0.5555555555555556, \"#d8576b\"], [0.6666666666666666, \"#ed7953\"], [0.7777777777777778, \"#fb9f3a\"], [0.8888888888888888, \"#fdca26\"], [1.0, \"#f0f921\"]], \"type\": \"contour\"}], \"contourcarpet\": [{\"colorbar\": {\"outlinewidth\": 0, \"ticks\": \"\"}, \"type\": \"contourcarpet\"}], \"heatmap\": [{\"colorbar\": {\"outlinewidth\": 0, \"ticks\": \"\"}, \"colorscale\": [[0.0, \"#0d0887\"], [0.1111111111111111, \"#46039f\"], [0.2222222222222222, \"#7201a8\"], [0.3333333333333333, \"#9c179e\"], [0.4444444444444444, \"#bd3786\"], [0.5555555555555556, \"#d8576b\"], [0.6666666666666666, \"#ed7953\"], [0.7777777777777778, \"#fb9f3a\"], [0.8888888888888888, \"#fdca26\"], [1.0, \"#f0f921\"]], \"type\": \"heatmap\"}], \"heatmapgl\": [{\"colorbar\": {\"outlinewidth\": 0, \"ticks\": \"\"}, \"colorscale\": [[0.0, \"#0d0887\"], [0.1111111111111111, \"#46039f\"], [0.2222222222222222, \"#7201a8\"], [0.3333333333333333, \"#9c179e\"], [0.4444444444444444, \"#bd3786\"], [0.5555555555555556, \"#d8576b\"], [0.6666666666666666, \"#ed7953\"], [0.7777777777777778, \"#fb9f3a\"], [0.8888888888888888, \"#fdca26\"], [1.0, \"#f0f921\"]], \"type\": \"heatmapgl\"}], \"histogram\": [{\"marker\": {\"colorbar\": {\"outlinewidth\": 0, \"ticks\": \"\"}}, \"type\": \"histogram\"}], \"histogram2d\": [{\"colorbar\": {\"outlinewidth\": 0, \"ticks\": \"\"}, \"colorscale\": [[0.0, \"#0d0887\"], [0.1111111111111111, \"#46039f\"], [0.2222222222222222, \"#7201a8\"], [0.3333333333333333, \"#9c179e\"], [0.4444444444444444, \"#bd3786\"], [0.5555555555555556, \"#d8576b\"], [0.6666666666666666, \"#ed7953\"], [0.7777777777777778, \"#fb9f3a\"], [0.8888888888888888, \"#fdca26\"], [1.0, \"#f0f921\"]], \"type\": \"histogram2d\"}], \"histogram2dcontour\": [{\"colorbar\": {\"outlinewidth\": 0, \"ticks\": \"\"}, \"colorscale\": [[0.0, \"#0d0887\"], [0.1111111111111111, \"#46039f\"], [0.2222222222222222, \"#7201a8\"], [0.3333333333333333, \"#9c179e\"], [0.4444444444444444, \"#bd3786\"], [0.5555555555555556, \"#d8576b\"], [0.6666666666666666, \"#ed7953\"], [0.7777777777777778, \"#fb9f3a\"], [0.8888888888888888, \"#fdca26\"], [1.0, \"#f0f921\"]], \"type\": \"histogram2dcontour\"}], \"mesh3d\": [{\"colorbar\": {\"outlinewidth\": 0, \"ticks\": \"\"}, \"type\": \"mesh3d\"}], \"parcoords\": [{\"line\": {\"colorbar\": {\"outlinewidth\": 0, \"ticks\": \"\"}}, \"type\": \"parcoords\"}], \"pie\": [{\"automargin\": true, \"type\": \"pie\"}], \"scatter\": [{\"marker\": {\"colorbar\": {\"outlinewidth\": 0, \"ticks\": \"\"}}, \"type\": \"scatter\"}], \"scatter3d\": [{\"line\": {\"colorbar\": {\"outlinewidth\": 0, \"ticks\": \"\"}}, \"marker\": {\"colorbar\": {\"outlinewidth\": 0, \"ticks\": \"\"}}, \"type\": \"scatter3d\"}], \"scattercarpet\": [{\"marker\": {\"colorbar\": {\"outlinewidth\": 0, \"ticks\": \"\"}}, \"type\": \"scattercarpet\"}], \"scattergeo\": [{\"marker\": {\"colorbar\": {\"outlinewidth\": 0, \"ticks\": \"\"}}, \"type\": \"scattergeo\"}], \"scattergl\": [{\"marker\": {\"colorbar\": {\"outlinewidth\": 0, \"ticks\": \"\"}}, \"type\": \"scattergl\"}], \"scattermapbox\": [{\"marker\": {\"colorbar\": {\"outlinewidth\": 0, \"ticks\": \"\"}}, \"type\": \"scattermapbox\"}], \"scatterpolar\": [{\"marker\": {\"colorbar\": {\"outlinewidth\": 0, \"ticks\": \"\"}}, \"type\": \"scatterpolar\"}], \"scatterpolargl\": [{\"marker\": {\"colorbar\": {\"outlinewidth\": 0, \"ticks\": \"\"}}, \"type\": \"scatterpolargl\"}], \"scatterternary\": [{\"marker\": {\"colorbar\": {\"outlinewidth\": 0, \"ticks\": \"\"}}, \"type\": \"scatterternary\"}], \"surface\": [{\"colorbar\": {\"outlinewidth\": 0, \"ticks\": \"\"}, \"colorscale\": [[0.0, \"#0d0887\"], [0.1111111111111111, \"#46039f\"], [0.2222222222222222, \"#7201a8\"], [0.3333333333333333, \"#9c179e\"], [0.4444444444444444, \"#bd3786\"], [0.5555555555555556, \"#d8576b\"], [0.6666666666666666, \"#ed7953\"], [0.7777777777777778, \"#fb9f3a\"], [0.8888888888888888, \"#fdca26\"], [1.0, \"#f0f921\"]], \"type\": \"surface\"}], \"table\": [{\"cells\": {\"fill\": {\"color\": \"#EBF0F8\"}, \"line\": {\"color\": \"white\"}}, \"header\": {\"fill\": {\"color\": \"#C8D4E3\"}, \"line\": {\"color\": \"white\"}}, \"type\": \"table\"}]}, \"layout\": {\"annotationdefaults\": {\"arrowcolor\": \"#2a3f5f\", \"arrowhead\": 0, \"arrowwidth\": 1}, \"coloraxis\": {\"colorbar\": {\"outlinewidth\": 0, \"ticks\": \"\"}}, \"colorscale\": {\"diverging\": [[0, \"#8e0152\"], [0.1, \"#c51b7d\"], [0.2, \"#de77ae\"], [0.3, \"#f1b6da\"], [0.4, \"#fde0ef\"], [0.5, \"#f7f7f7\"], [0.6, \"#e6f5d0\"], [0.7, \"#b8e186\"], [0.8, \"#7fbc41\"], [0.9, \"#4d9221\"], [1, \"#276419\"]], \"sequential\": [[0.0, \"#0d0887\"], [0.1111111111111111, \"#46039f\"], [0.2222222222222222, \"#7201a8\"], [0.3333333333333333, \"#9c179e\"], [0.4444444444444444, \"#bd3786\"], [0.5555555555555556, \"#d8576b\"], [0.6666666666666666, \"#ed7953\"], [0.7777777777777778, \"#fb9f3a\"], [0.8888888888888888, \"#fdca26\"], [1.0, \"#f0f921\"]], \"sequentialminus\": [[0.0, \"#0d0887\"], [0.1111111111111111, \"#46039f\"], [0.2222222222222222, \"#7201a8\"], [0.3333333333333333, \"#9c179e\"], [0.4444444444444444, \"#bd3786\"], [0.5555555555555556, \"#d8576b\"], [0.6666666666666666, \"#ed7953\"], [0.7777777777777778, \"#fb9f3a\"], [0.8888888888888888, \"#fdca26\"], [1.0, \"#f0f921\"]]}, \"colorway\": [\"#636efa\", \"#EF553B\", \"#00cc96\", \"#ab63fa\", \"#FFA15A\", \"#19d3f3\", \"#FF6692\", \"#B6E880\", \"#FF97FF\", \"#FECB52\"], \"font\": {\"color\": \"#2a3f5f\"}, \"geo\": {\"bgcolor\": \"white\", \"lakecolor\": \"white\", \"landcolor\": \"#E5ECF6\", \"showlakes\": true, \"showland\": true, \"subunitcolor\": \"white\"}, \"hoverlabel\": {\"align\": \"left\"}, \"hovermode\": \"closest\", \"mapbox\": {\"style\": \"light\"}, \"paper_bgcolor\": \"white\", \"plot_bgcolor\": \"#E5ECF6\", \"polar\": {\"angularaxis\": {\"gridcolor\": \"white\", \"linecolor\": \"white\", \"ticks\": \"\"}, \"bgcolor\": \"#E5ECF6\", \"radialaxis\": {\"gridcolor\": \"white\", \"linecolor\": \"white\", \"ticks\": \"\"}}, \"scene\": {\"xaxis\": {\"backgroundcolor\": \"#E5ECF6\", \"gridcolor\": \"white\", \"gridwidth\": 2, \"linecolor\": \"white\", \"showbackground\": true, \"ticks\": \"\", \"zerolinecolor\": \"white\"}, \"yaxis\": {\"backgroundcolor\": \"#E5ECF6\", \"gridcolor\": \"white\", \"gridwidth\": 2, \"linecolor\": \"white\", \"showbackground\": true, \"ticks\": \"\", \"zerolinecolor\": \"white\"}, \"zaxis\": {\"backgroundcolor\": \"#E5ECF6\", \"gridcolor\": \"white\", \"gridwidth\": 2, \"linecolor\": \"white\", \"showbackground\": true, \"ticks\": \"\", \"zerolinecolor\": \"white\"}}, \"shapedefaults\": {\"line\": {\"color\": \"#2a3f5f\"}}, \"ternary\": {\"aaxis\": {\"gridcolor\": \"white\", \"linecolor\": \"white\", \"ticks\": \"\"}, \"baxis\": {\"gridcolor\": \"white\", \"linecolor\": \"white\", \"ticks\": \"\"}, \"bgcolor\": \"#E5ECF6\", \"caxis\": {\"gridcolor\": \"white\", \"linecolor\": \"white\", \"ticks\": \"\"}}, \"title\": {\"x\": 0.05}, \"xaxis\": {\"automargin\": true, \"gridcolor\": \"white\", \"linecolor\": \"white\", \"ticks\": \"\", \"title\": {\"standoff\": 15}, \"zerolinecolor\": \"white\", \"zerolinewidth\": 2}, \"yaxis\": {\"automargin\": true, \"gridcolor\": \"white\", \"linecolor\": \"white\", \"ticks\": \"\", \"title\": {\"standoff\": 15}, \"zerolinecolor\": \"white\", \"zerolinewidth\": 2}}}, \"title\": {\"text\": \"Parallel Categories of Major City Temperatures\"}, \"width\": 850},\n",
       "                        {\"responsive\": true}\n",
       "                    ).then(function(){\n",
       "                            \n",
       "var gd = document.getElementById('4c1d96c0-4b11-4c18-9e0d-b591440b172d');\n",
       "var x = new MutationObserver(function (mutations, observer) {{\n",
       "        var display = window.getComputedStyle(gd).display;\n",
       "        if (!display || display === 'none') {{\n",
       "            console.log([gd, 'removed!']);\n",
       "            Plotly.purge(gd);\n",
       "            observer.disconnect();\n",
       "        }}\n",
       "}});\n",
       "\n",
       "// Listen for the removal of the full notebook cells\n",
       "var notebookContainer = gd.closest('#notebook-container');\n",
       "if (notebookContainer) {{\n",
       "    x.observe(notebookContainer, {childList: true});\n",
       "}}\n",
       "\n",
       "// Listen for the clearing of the current output cell\n",
       "var outputEl = gd.closest('.output');\n",
       "if (outputEl) {{\n",
       "    x.observe(outputEl, {childList: true});\n",
       "}}\n",
       "\n",
       "                        })\n",
       "                };\n",
       "                });\n",
       "            </script>\n",
       "        </div>"
      ]
     },
     "metadata": {},
     "output_type": "display_data"
    }
   ],
   "source": [
    "fig5 = px.scatter_matrix(temperature, \n",
    "                         dimensions=[\"City\"\n",
    "                                     , \"Avg\"\n",
    "                                     , \"high_f\"\n",
    "                                     , \"low_f\"]\n",
    "                         , color=\"City\"\n",
    "                         , color_continuous_scale=px.colors.sequential.algae)\n",
    "\n",
    "fig5['layout'].update(height=700, width=850, title='Scatter Matrix of Major City Temperatures')\n",
    "fig5.show()\n",
    "\n",
    "fig6 = px.parallel_categories(temperature\n",
    "                              , color=\"City\"\n",
    "                              , color_continuous_scale=px.colors.sequential.algae)\n",
    "\n",
    "fig6['layout'].update(height=700, width=850, title='Parallel Categories of Major City Temperatures')\n",
    "fig6.show()\n",
    "\n"
   ]
  },
  {
   "cell_type": "code",
   "execution_count": 126,
   "metadata": {
    "scrolled": false
   },
   "outputs": [
    {
     "name": "stdout",
     "output_type": "stream",
     "text": [
      "Layout({\n",
      "    'height': 1000,\n",
      "    'template': '...',\n",
      "    'title': {'text': 'Stacked Subplots with Non-Shared X-Axes'},\n",
      "    'width': 850,\n",
      "    'xaxis': {'anchor': 'y', 'domain': [0.0, 0.45]},\n",
      "    'xaxis2': {'anchor': 'y2', 'domain': [0.55, 1.0]},\n",
      "    'xaxis3': {'anchor': 'y3', 'domain': [0.0, 0.45]},\n",
      "    'xaxis4': {'anchor': 'y4', 'domain': [0.55, 1.0]},\n",
      "    'xaxis5': {'anchor': 'y5', 'domain': [0.0, 0.45]},\n",
      "    'xaxis6': {'anchor': 'y6', 'domain': [0.55, 1.0]},\n",
      "    'yaxis': {'anchor': 'x', 'domain': [0.7, 1.0]},\n",
      "    'yaxis2': {'anchor': 'x2', 'domain': [0.7, 1.0]},\n",
      "    'yaxis3': {'anchor': 'x3', 'domain': [0.35, 0.6499999999999999]},\n",
      "    'yaxis4': {'anchor': 'x4', 'domain': [0.35, 0.6499999999999999]},\n",
      "    'yaxis5': {'anchor': 'x5', 'domain': [0.0, 0.3]},\n",
      "    'yaxis6': {'anchor': 'x6', 'domain': [0.0, 0.3]}\n",
      "})\n"
     ]
    },
    {
     "data": {
      "application/vnd.plotly.v1+json": {
       "config": {
        "plotlyServerURL": "https://plot.ly"
       },
       "data": [
        {
         "alignmentgroup": "True",
         "customdata": [
          [
           77
          ],
          [
           75
          ],
          [
           73.5
          ],
          [
           73
          ],
          [
           70
          ],
          [
           69.5
          ],
          [
           69.5
          ],
          [
           69.5
          ],
          [
           69.5
          ],
          [
           68.5
          ],
          [
           67
          ],
          [
           67
          ],
          [
           65.5
          ],
          [
           64
          ],
          [
           63.5
          ],
          [
           63.5
          ],
          [
           62.5
          ],
          [
           61.5
          ],
          [
           61
          ],
          [
           61
          ],
          [
           60.5
          ],
          [
           60
          ],
          [
           60
          ],
          [
           59.5
          ],
          [
           59
          ],
          [
           58.5
          ],
          [
           58.5
          ],
          [
           57.5
          ],
          [
           57
          ],
          [
           57
          ],
          [
           56
          ],
          [
           55
          ],
          [
           55
          ],
          [
           54
          ],
          [
           54
          ],
          [
           53.5
          ],
          [
           53.5
          ],
          [
           53.5
          ],
          [
           53
          ],
          [
           52
          ],
          [
           51.5
          ],
          [
           51.5
          ],
          [
           51.5
          ],
          [
           50.5
          ],
          [
           50.5
          ],
          [
           50
          ],
          [
           50
          ],
          [
           48
          ],
          [
           48
          ],
          [
           48
          ],
          [
           46
          ]
         ],
         "hovertemplate": "City=%{marker.color}<br>Avg=%{y}<extra></extra>",
         "legendgroup": "",
         "marker": {
          "color": [
           77,
           75,
           73.5,
           73,
           70,
           69.5,
           69.5,
           69.5,
           69.5,
           68.5,
           67,
           67,
           65.5,
           64,
           63.5,
           63.5,
           62.5,
           61.5,
           61,
           61,
           60.5,
           60,
           60,
           59.5,
           59,
           58.5,
           58.5,
           57.5,
           57,
           57,
           56,
           55,
           55,
           54,
           54,
           53.5,
           53.5,
           53.5,
           53,
           52,
           51.5,
           51.5,
           51.5,
           50.5,
           50.5,
           50,
           50,
           48,
           48,
           48,
           46
          ],
          "coloraxis": "coloraxis"
         },
         "name": "",
         "offsetgroup": "",
         "orientation": "v",
         "showlegend": false,
         "textposition": "auto",
         "type": "bar",
         "x": [
          77,
          75,
          73.5,
          73,
          70,
          69.5,
          69.5,
          69.5,
          69.5,
          68.5,
          67,
          67,
          65.5,
          64,
          63.5,
          63.5,
          62.5,
          61.5,
          61,
          61,
          60.5,
          60,
          60,
          59.5,
          59,
          58.5,
          58.5,
          57.5,
          57,
          57,
          56,
          55,
          55,
          54,
          54,
          53.5,
          53.5,
          53.5,
          53,
          52,
          51.5,
          51.5,
          51.5,
          50.5,
          50.5,
          50,
          50,
          48,
          48,
          48,
          46
         ],
         "xaxis": "x2",
         "y": [
          84,
          87,
          82,
          83,
          80,
          80,
          80,
          78,
          80,
          79,
          77,
          81,
          75,
          70,
          74,
          73,
          72,
          72,
          72,
          74,
          71,
          71,
          68,
          70,
          70,
          68,
          67,
          64,
          66,
          66,
          65,
          65,
          62,
          65,
          63,
          63,
          63,
          61,
          64,
          61,
          59,
          60,
          61,
          59,
          61,
          59,
          64,
          56,
          56,
          57,
          55
         ],
         "yaxis": "y2"
        },
        {
         "alignmentgroup": "True",
         "customdata": [
          [
           77
          ],
          [
           75
          ],
          [
           73.5
          ],
          [
           73
          ],
          [
           70
          ],
          [
           69.5
          ],
          [
           69.5
          ],
          [
           69.5
          ],
          [
           69.5
          ],
          [
           68.5
          ],
          [
           67
          ],
          [
           67
          ],
          [
           65.5
          ],
          [
           64
          ],
          [
           63.5
          ],
          [
           63.5
          ],
          [
           62.5
          ],
          [
           61.5
          ],
          [
           61
          ],
          [
           61
          ],
          [
           60.5
          ],
          [
           60
          ],
          [
           60
          ],
          [
           59.5
          ],
          [
           59
          ],
          [
           58.5
          ],
          [
           58.5
          ],
          [
           57.5
          ],
          [
           57
          ],
          [
           57
          ],
          [
           56
          ],
          [
           55
          ],
          [
           55
          ],
          [
           54
          ],
          [
           54
          ],
          [
           53.5
          ],
          [
           53.5
          ],
          [
           53.5
          ],
          [
           53
          ],
          [
           52
          ],
          [
           51.5
          ],
          [
           51.5
          ],
          [
           51.5
          ],
          [
           50.5
          ],
          [
           50.5
          ],
          [
           50
          ],
          [
           50
          ],
          [
           48
          ],
          [
           48
          ],
          [
           48
          ],
          [
           46
          ]
         ],
         "hovertemplate": "high_f=%{x}<br>low_f=%{y}<br>City=%{marker.color}<extra></extra>",
         "legendgroup": "",
         "marker": {
          "color": [
           77,
           75,
           73.5,
           73,
           70,
           69.5,
           69.5,
           69.5,
           69.5,
           68.5,
           67,
           67,
           65.5,
           64,
           63.5,
           63.5,
           62.5,
           61.5,
           61,
           61,
           60.5,
           60,
           60,
           59.5,
           59,
           58.5,
           58.5,
           57.5,
           57,
           57,
           56,
           55,
           55,
           54,
           54,
           53.5,
           53.5,
           53.5,
           53,
           52,
           51.5,
           51.5,
           51.5,
           50.5,
           50.5,
           50,
           50,
           48,
           48,
           48,
           46
          ],
          "coloraxis": "coloraxis"
         },
         "name": "",
         "offsetgroup": "",
         "orientation": "v",
         "showlegend": false,
         "textposition": "auto",
         "type": "bar",
         "x": [
          70,
          63,
          65,
          63,
          60,
          59,
          59,
          61,
          59,
          58,
          57,
          53,
          56,
          58,
          53,
          54,
          53,
          51,
          50,
          48,
          50,
          49,
          52,
          49,
          48,
          49,
          50,
          51,
          48,
          48,
          47,
          45,
          48,
          43,
          45,
          44,
          44,
          46,
          42,
          43,
          44,
          43,
          42,
          42,
          40,
          41,
          36,
          40,
          40,
          39,
          37
         ],
         "xaxis": "x",
         "y": [
          "Miami, Florida",
          "Phoenix, Arizona",
          "Tampa, Florida",
          "Orlando, Florida",
          "Houston, Texas",
          "Austin, Texas",
          "Las Vegas, Nevada",
          "New Orleans, Louisiana",
          "San Antonio, Texas",
          "Jacksonville, Florida",
          "Dallas, Texas",
          "Riverside, California",
          "Los Angeles, California",
          "San Diego, California",
          "Birmingham, Alabama",
          "Memphis, Tennessee",
          "Atlanta, Georgia",
          "Oklahoma City, Oklahoma",
          "Raleigh, North Carolina",
          "Sacramento, California",
          "San Jose, California",
          "Charlotte, North Carolina",
          "Virginia Beach, Virginia",
          "Nashville, Tennessee",
          "Richmond, Virginia",
          "Louisville, Kentucky",
          "Washington, DC",
          "San Francisco, California",
          "Kansas City, Missouri",
          "St. Louis, Missouri",
          "Philadelphia, Pennsylvania",
          "Baltimore, Maryland",
          "New York, New York",
          "Cincinnati, Ohio",
          "Portland, Oregon",
          "Columbus, Ohio",
          "Indianapolis, Indiana",
          "Seattle, Washington",
          "Salt Lake City, Utah",
          "Providence, Rhode Island",
          "Boston, Massachusetts",
          "Cleveland, Ohio",
          "Pittsburgh, Pennsylvania",
          "Detroit, Michigan",
          "Hartford, Connecticut",
          "Chicago, Illinois",
          "Denver, Colorado",
          "Buffalo, New York",
          "Milwaukee, Wisconsin",
          "Rochester, New York",
          "Minneapolis, Minnesota"
         ],
         "yaxis": "y"
        },
        {
         "customdata": [
          [
           77
          ],
          [
           75
          ],
          [
           73.5
          ],
          [
           73
          ],
          [
           70
          ],
          [
           69.5
          ],
          [
           69.5
          ],
          [
           69.5
          ],
          [
           69.5
          ],
          [
           68.5
          ],
          [
           67
          ],
          [
           67
          ],
          [
           65.5
          ],
          [
           64
          ],
          [
           63.5
          ],
          [
           63.5
          ],
          [
           62.5
          ],
          [
           61.5
          ],
          [
           61
          ],
          [
           61
          ],
          [
           60.5
          ],
          [
           60
          ],
          [
           60
          ],
          [
           59.5
          ],
          [
           59
          ],
          [
           58.5
          ],
          [
           58.5
          ],
          [
           57.5
          ],
          [
           57
          ],
          [
           57
          ],
          [
           56
          ],
          [
           55
          ],
          [
           55
          ],
          [
           54
          ],
          [
           54
          ],
          [
           53.5
          ],
          [
           53.5
          ],
          [
           53.5
          ],
          [
           53
          ],
          [
           52
          ],
          [
           51.5
          ],
          [
           51.5
          ],
          [
           51.5
          ],
          [
           50.5
          ],
          [
           50.5
          ],
          [
           50
          ],
          [
           50
          ],
          [
           48
          ],
          [
           48
          ],
          [
           48
          ],
          [
           46
          ]
         ],
         "hovertemplate": "high_f=%{x}<br>low_f=%{y}<br>Avg=%{marker.size}<br>City=%{marker.color}<extra></extra>",
         "legendgroup": "",
         "marker": {
          "color": [
           77,
           75,
           73.5,
           73,
           70,
           69.5,
           69.5,
           69.5,
           69.5,
           68.5,
           67,
           67,
           65.5,
           64,
           63.5,
           63.5,
           62.5,
           61.5,
           61,
           61,
           60.5,
           60,
           60,
           59.5,
           59,
           58.5,
           58.5,
           57.5,
           57,
           57,
           56,
           55,
           55,
           54,
           54,
           53.5,
           53.5,
           53.5,
           53,
           52,
           51.5,
           51.5,
           51.5,
           50.5,
           50.5,
           50,
           50,
           48,
           48,
           48,
           46
          ],
          "coloraxis": "coloraxis",
          "size": [
           84,
           87,
           82,
           83,
           80,
           80,
           80,
           78,
           80,
           79,
           77,
           81,
           75,
           70,
           74,
           73,
           72,
           72,
           72,
           74,
           71,
           71,
           68,
           70,
           70,
           68,
           67,
           64,
           66,
           66,
           65,
           65,
           62,
           65,
           63,
           63,
           63,
           61,
           64,
           61,
           59,
           60,
           61,
           59,
           61,
           59,
           64,
           56,
           56,
           57,
           55
          ],
          "sizemode": "area",
          "sizeref": 0.2175,
          "symbol": "circle"
         },
         "mode": "markers",
         "name": "",
         "showlegend": false,
         "type": "scatter",
         "x": [
          70,
          63,
          65,
          63,
          60,
          59,
          59,
          61,
          59,
          58,
          57,
          53,
          56,
          58,
          53,
          54,
          53,
          51,
          50,
          48,
          50,
          49,
          52,
          49,
          48,
          49,
          50,
          51,
          48,
          48,
          47,
          45,
          48,
          43,
          45,
          44,
          44,
          46,
          42,
          43,
          44,
          43,
          42,
          42,
          40,
          41,
          36,
          40,
          40,
          39,
          37
         ],
         "xaxis": "x3",
         "y": [
          "Miami, Florida",
          "Phoenix, Arizona",
          "Tampa, Florida",
          "Orlando, Florida",
          "Houston, Texas",
          "Austin, Texas",
          "Las Vegas, Nevada",
          "New Orleans, Louisiana",
          "San Antonio, Texas",
          "Jacksonville, Florida",
          "Dallas, Texas",
          "Riverside, California",
          "Los Angeles, California",
          "San Diego, California",
          "Birmingham, Alabama",
          "Memphis, Tennessee",
          "Atlanta, Georgia",
          "Oklahoma City, Oklahoma",
          "Raleigh, North Carolina",
          "Sacramento, California",
          "San Jose, California",
          "Charlotte, North Carolina",
          "Virginia Beach, Virginia",
          "Nashville, Tennessee",
          "Richmond, Virginia",
          "Louisville, Kentucky",
          "Washington, DC",
          "San Francisco, California",
          "Kansas City, Missouri",
          "St. Louis, Missouri",
          "Philadelphia, Pennsylvania",
          "Baltimore, Maryland",
          "New York, New York",
          "Cincinnati, Ohio",
          "Portland, Oregon",
          "Columbus, Ohio",
          "Indianapolis, Indiana",
          "Seattle, Washington",
          "Salt Lake City, Utah",
          "Providence, Rhode Island",
          "Boston, Massachusetts",
          "Cleveland, Ohio",
          "Pittsburgh, Pennsylvania",
          "Detroit, Michigan",
          "Hartford, Connecticut",
          "Chicago, Illinois",
          "Denver, Colorado",
          "Buffalo, New York",
          "Milwaukee, Wisconsin",
          "Rochester, New York",
          "Minneapolis, Minnesota"
         ],
         "yaxis": "y3"
        },
        {
         "alignmentgroup": "True",
         "customdata": [
          [
           77
          ],
          [
           75
          ],
          [
           73.5
          ],
          [
           73
          ],
          [
           70
          ],
          [
           69.5
          ],
          [
           69.5
          ],
          [
           69.5
          ],
          [
           69.5
          ],
          [
           68.5
          ],
          [
           67
          ],
          [
           67
          ],
          [
           65.5
          ],
          [
           64
          ],
          [
           63.5
          ],
          [
           63.5
          ],
          [
           62.5
          ],
          [
           61.5
          ],
          [
           61
          ],
          [
           61
          ],
          [
           60.5
          ],
          [
           60
          ],
          [
           60
          ],
          [
           59.5
          ],
          [
           59
          ],
          [
           58.5
          ],
          [
           58.5
          ],
          [
           57.5
          ],
          [
           57
          ],
          [
           57
          ],
          [
           56
          ],
          [
           55
          ],
          [
           55
          ],
          [
           54
          ],
          [
           54
          ],
          [
           53.5
          ],
          [
           53.5
          ],
          [
           53.5
          ],
          [
           53
          ],
          [
           52
          ],
          [
           51.5
          ],
          [
           51.5
          ],
          [
           51.5
          ],
          [
           50.5
          ],
          [
           50.5
          ],
          [
           50
          ],
          [
           50
          ],
          [
           48
          ],
          [
           48
          ],
          [
           48
          ],
          [
           46
          ]
         ],
         "hovertemplate": "City=%{marker.color}<br>Avg=%{y}<extra></extra>",
         "legendgroup": "",
         "marker": {
          "color": [
           77,
           75,
           73.5,
           73,
           70,
           69.5,
           69.5,
           69.5,
           69.5,
           68.5,
           67,
           67,
           65.5,
           64,
           63.5,
           63.5,
           62.5,
           61.5,
           61,
           61,
           60.5,
           60,
           60,
           59.5,
           59,
           58.5,
           58.5,
           57.5,
           57,
           57,
           56,
           55,
           55,
           54,
           54,
           53.5,
           53.5,
           53.5,
           53,
           52,
           51.5,
           51.5,
           51.5,
           50.5,
           50.5,
           50,
           50,
           48,
           48,
           48,
           46
          ],
          "coloraxis": "coloraxis"
         },
         "name": "",
         "offsetgroup": "",
         "orientation": "v",
         "showlegend": false,
         "textposition": "auto",
         "type": "bar",
         "x": [
          77,
          75,
          73.5,
          73,
          70,
          69.5,
          69.5,
          69.5,
          69.5,
          68.5,
          67,
          67,
          65.5,
          64,
          63.5,
          63.5,
          62.5,
          61.5,
          61,
          61,
          60.5,
          60,
          60,
          59.5,
          59,
          58.5,
          58.5,
          57.5,
          57,
          57,
          56,
          55,
          55,
          54,
          54,
          53.5,
          53.5,
          53.5,
          53,
          52,
          51.5,
          51.5,
          51.5,
          50.5,
          50.5,
          50,
          50,
          48,
          48,
          48,
          46
         ],
         "xaxis": "x5",
         "y": [
          84,
          87,
          82,
          83,
          80,
          80,
          80,
          78,
          80,
          79,
          77,
          81,
          75,
          70,
          74,
          73,
          72,
          72,
          72,
          74,
          71,
          71,
          68,
          70,
          70,
          68,
          67,
          64,
          66,
          66,
          65,
          65,
          62,
          65,
          63,
          63,
          63,
          61,
          64,
          61,
          59,
          60,
          61,
          59,
          61,
          59,
          64,
          56,
          56,
          57,
          55
         ],
         "yaxis": "y5"
        }
       ],
       "layout": {
        "height": 1000,
        "template": {
         "data": {
          "bar": [
           {
            "error_x": {
             "color": "#2a3f5f"
            },
            "error_y": {
             "color": "#2a3f5f"
            },
            "marker": {
             "line": {
              "color": "#E5ECF6",
              "width": 0.5
             }
            },
            "type": "bar"
           }
          ],
          "barpolar": [
           {
            "marker": {
             "line": {
              "color": "#E5ECF6",
              "width": 0.5
             }
            },
            "type": "barpolar"
           }
          ],
          "carpet": [
           {
            "aaxis": {
             "endlinecolor": "#2a3f5f",
             "gridcolor": "white",
             "linecolor": "white",
             "minorgridcolor": "white",
             "startlinecolor": "#2a3f5f"
            },
            "baxis": {
             "endlinecolor": "#2a3f5f",
             "gridcolor": "white",
             "linecolor": "white",
             "minorgridcolor": "white",
             "startlinecolor": "#2a3f5f"
            },
            "type": "carpet"
           }
          ],
          "choropleth": [
           {
            "colorbar": {
             "outlinewidth": 0,
             "ticks": ""
            },
            "type": "choropleth"
           }
          ],
          "contour": [
           {
            "colorbar": {
             "outlinewidth": 0,
             "ticks": ""
            },
            "colorscale": [
             [
              0,
              "#0d0887"
             ],
             [
              0.1111111111111111,
              "#46039f"
             ],
             [
              0.2222222222222222,
              "#7201a8"
             ],
             [
              0.3333333333333333,
              "#9c179e"
             ],
             [
              0.4444444444444444,
              "#bd3786"
             ],
             [
              0.5555555555555556,
              "#d8576b"
             ],
             [
              0.6666666666666666,
              "#ed7953"
             ],
             [
              0.7777777777777778,
              "#fb9f3a"
             ],
             [
              0.8888888888888888,
              "#fdca26"
             ],
             [
              1,
              "#f0f921"
             ]
            ],
            "type": "contour"
           }
          ],
          "contourcarpet": [
           {
            "colorbar": {
             "outlinewidth": 0,
             "ticks": ""
            },
            "type": "contourcarpet"
           }
          ],
          "heatmap": [
           {
            "colorbar": {
             "outlinewidth": 0,
             "ticks": ""
            },
            "colorscale": [
             [
              0,
              "#0d0887"
             ],
             [
              0.1111111111111111,
              "#46039f"
             ],
             [
              0.2222222222222222,
              "#7201a8"
             ],
             [
              0.3333333333333333,
              "#9c179e"
             ],
             [
              0.4444444444444444,
              "#bd3786"
             ],
             [
              0.5555555555555556,
              "#d8576b"
             ],
             [
              0.6666666666666666,
              "#ed7953"
             ],
             [
              0.7777777777777778,
              "#fb9f3a"
             ],
             [
              0.8888888888888888,
              "#fdca26"
             ],
             [
              1,
              "#f0f921"
             ]
            ],
            "type": "heatmap"
           }
          ],
          "heatmapgl": [
           {
            "colorbar": {
             "outlinewidth": 0,
             "ticks": ""
            },
            "colorscale": [
             [
              0,
              "#0d0887"
             ],
             [
              0.1111111111111111,
              "#46039f"
             ],
             [
              0.2222222222222222,
              "#7201a8"
             ],
             [
              0.3333333333333333,
              "#9c179e"
             ],
             [
              0.4444444444444444,
              "#bd3786"
             ],
             [
              0.5555555555555556,
              "#d8576b"
             ],
             [
              0.6666666666666666,
              "#ed7953"
             ],
             [
              0.7777777777777778,
              "#fb9f3a"
             ],
             [
              0.8888888888888888,
              "#fdca26"
             ],
             [
              1,
              "#f0f921"
             ]
            ],
            "type": "heatmapgl"
           }
          ],
          "histogram": [
           {
            "marker": {
             "colorbar": {
              "outlinewidth": 0,
              "ticks": ""
             }
            },
            "type": "histogram"
           }
          ],
          "histogram2d": [
           {
            "colorbar": {
             "outlinewidth": 0,
             "ticks": ""
            },
            "colorscale": [
             [
              0,
              "#0d0887"
             ],
             [
              0.1111111111111111,
              "#46039f"
             ],
             [
              0.2222222222222222,
              "#7201a8"
             ],
             [
              0.3333333333333333,
              "#9c179e"
             ],
             [
              0.4444444444444444,
              "#bd3786"
             ],
             [
              0.5555555555555556,
              "#d8576b"
             ],
             [
              0.6666666666666666,
              "#ed7953"
             ],
             [
              0.7777777777777778,
              "#fb9f3a"
             ],
             [
              0.8888888888888888,
              "#fdca26"
             ],
             [
              1,
              "#f0f921"
             ]
            ],
            "type": "histogram2d"
           }
          ],
          "histogram2dcontour": [
           {
            "colorbar": {
             "outlinewidth": 0,
             "ticks": ""
            },
            "colorscale": [
             [
              0,
              "#0d0887"
             ],
             [
              0.1111111111111111,
              "#46039f"
             ],
             [
              0.2222222222222222,
              "#7201a8"
             ],
             [
              0.3333333333333333,
              "#9c179e"
             ],
             [
              0.4444444444444444,
              "#bd3786"
             ],
             [
              0.5555555555555556,
              "#d8576b"
             ],
             [
              0.6666666666666666,
              "#ed7953"
             ],
             [
              0.7777777777777778,
              "#fb9f3a"
             ],
             [
              0.8888888888888888,
              "#fdca26"
             ],
             [
              1,
              "#f0f921"
             ]
            ],
            "type": "histogram2dcontour"
           }
          ],
          "mesh3d": [
           {
            "colorbar": {
             "outlinewidth": 0,
             "ticks": ""
            },
            "type": "mesh3d"
           }
          ],
          "parcoords": [
           {
            "line": {
             "colorbar": {
              "outlinewidth": 0,
              "ticks": ""
             }
            },
            "type": "parcoords"
           }
          ],
          "pie": [
           {
            "automargin": true,
            "type": "pie"
           }
          ],
          "scatter": [
           {
            "marker": {
             "colorbar": {
              "outlinewidth": 0,
              "ticks": ""
             }
            },
            "type": "scatter"
           }
          ],
          "scatter3d": [
           {
            "line": {
             "colorbar": {
              "outlinewidth": 0,
              "ticks": ""
             }
            },
            "marker": {
             "colorbar": {
              "outlinewidth": 0,
              "ticks": ""
             }
            },
            "type": "scatter3d"
           }
          ],
          "scattercarpet": [
           {
            "marker": {
             "colorbar": {
              "outlinewidth": 0,
              "ticks": ""
             }
            },
            "type": "scattercarpet"
           }
          ],
          "scattergeo": [
           {
            "marker": {
             "colorbar": {
              "outlinewidth": 0,
              "ticks": ""
             }
            },
            "type": "scattergeo"
           }
          ],
          "scattergl": [
           {
            "marker": {
             "colorbar": {
              "outlinewidth": 0,
              "ticks": ""
             }
            },
            "type": "scattergl"
           }
          ],
          "scattermapbox": [
           {
            "marker": {
             "colorbar": {
              "outlinewidth": 0,
              "ticks": ""
             }
            },
            "type": "scattermapbox"
           }
          ],
          "scatterpolar": [
           {
            "marker": {
             "colorbar": {
              "outlinewidth": 0,
              "ticks": ""
             }
            },
            "type": "scatterpolar"
           }
          ],
          "scatterpolargl": [
           {
            "marker": {
             "colorbar": {
              "outlinewidth": 0,
              "ticks": ""
             }
            },
            "type": "scatterpolargl"
           }
          ],
          "scatterternary": [
           {
            "marker": {
             "colorbar": {
              "outlinewidth": 0,
              "ticks": ""
             }
            },
            "type": "scatterternary"
           }
          ],
          "surface": [
           {
            "colorbar": {
             "outlinewidth": 0,
             "ticks": ""
            },
            "colorscale": [
             [
              0,
              "#0d0887"
             ],
             [
              0.1111111111111111,
              "#46039f"
             ],
             [
              0.2222222222222222,
              "#7201a8"
             ],
             [
              0.3333333333333333,
              "#9c179e"
             ],
             [
              0.4444444444444444,
              "#bd3786"
             ],
             [
              0.5555555555555556,
              "#d8576b"
             ],
             [
              0.6666666666666666,
              "#ed7953"
             ],
             [
              0.7777777777777778,
              "#fb9f3a"
             ],
             [
              0.8888888888888888,
              "#fdca26"
             ],
             [
              1,
              "#f0f921"
             ]
            ],
            "type": "surface"
           }
          ],
          "table": [
           {
            "cells": {
             "fill": {
              "color": "#EBF0F8"
             },
             "line": {
              "color": "white"
             }
            },
            "header": {
             "fill": {
              "color": "#C8D4E3"
             },
             "line": {
              "color": "white"
             }
            },
            "type": "table"
           }
          ]
         },
         "layout": {
          "annotationdefaults": {
           "arrowcolor": "#2a3f5f",
           "arrowhead": 0,
           "arrowwidth": 1
          },
          "coloraxis": {
           "colorbar": {
            "outlinewidth": 0,
            "ticks": ""
           }
          },
          "colorscale": {
           "diverging": [
            [
             0,
             "#8e0152"
            ],
            [
             0.1,
             "#c51b7d"
            ],
            [
             0.2,
             "#de77ae"
            ],
            [
             0.3,
             "#f1b6da"
            ],
            [
             0.4,
             "#fde0ef"
            ],
            [
             0.5,
             "#f7f7f7"
            ],
            [
             0.6,
             "#e6f5d0"
            ],
            [
             0.7,
             "#b8e186"
            ],
            [
             0.8,
             "#7fbc41"
            ],
            [
             0.9,
             "#4d9221"
            ],
            [
             1,
             "#276419"
            ]
           ],
           "sequential": [
            [
             0,
             "#0d0887"
            ],
            [
             0.1111111111111111,
             "#46039f"
            ],
            [
             0.2222222222222222,
             "#7201a8"
            ],
            [
             0.3333333333333333,
             "#9c179e"
            ],
            [
             0.4444444444444444,
             "#bd3786"
            ],
            [
             0.5555555555555556,
             "#d8576b"
            ],
            [
             0.6666666666666666,
             "#ed7953"
            ],
            [
             0.7777777777777778,
             "#fb9f3a"
            ],
            [
             0.8888888888888888,
             "#fdca26"
            ],
            [
             1,
             "#f0f921"
            ]
           ],
           "sequentialminus": [
            [
             0,
             "#0d0887"
            ],
            [
             0.1111111111111111,
             "#46039f"
            ],
            [
             0.2222222222222222,
             "#7201a8"
            ],
            [
             0.3333333333333333,
             "#9c179e"
            ],
            [
             0.4444444444444444,
             "#bd3786"
            ],
            [
             0.5555555555555556,
             "#d8576b"
            ],
            [
             0.6666666666666666,
             "#ed7953"
            ],
            [
             0.7777777777777778,
             "#fb9f3a"
            ],
            [
             0.8888888888888888,
             "#fdca26"
            ],
            [
             1,
             "#f0f921"
            ]
           ]
          },
          "colorway": [
           "#636efa",
           "#EF553B",
           "#00cc96",
           "#ab63fa",
           "#FFA15A",
           "#19d3f3",
           "#FF6692",
           "#B6E880",
           "#FF97FF",
           "#FECB52"
          ],
          "font": {
           "color": "#2a3f5f"
          },
          "geo": {
           "bgcolor": "white",
           "lakecolor": "white",
           "landcolor": "#E5ECF6",
           "showlakes": true,
           "showland": true,
           "subunitcolor": "white"
          },
          "hoverlabel": {
           "align": "left"
          },
          "hovermode": "closest",
          "mapbox": {
           "style": "light"
          },
          "paper_bgcolor": "white",
          "plot_bgcolor": "#E5ECF6",
          "polar": {
           "angularaxis": {
            "gridcolor": "white",
            "linecolor": "white",
            "ticks": ""
           },
           "bgcolor": "#E5ECF6",
           "radialaxis": {
            "gridcolor": "white",
            "linecolor": "white",
            "ticks": ""
           }
          },
          "scene": {
           "xaxis": {
            "backgroundcolor": "#E5ECF6",
            "gridcolor": "white",
            "gridwidth": 2,
            "linecolor": "white",
            "showbackground": true,
            "ticks": "",
            "zerolinecolor": "white"
           },
           "yaxis": {
            "backgroundcolor": "#E5ECF6",
            "gridcolor": "white",
            "gridwidth": 2,
            "linecolor": "white",
            "showbackground": true,
            "ticks": "",
            "zerolinecolor": "white"
           },
           "zaxis": {
            "backgroundcolor": "#E5ECF6",
            "gridcolor": "white",
            "gridwidth": 2,
            "linecolor": "white",
            "showbackground": true,
            "ticks": "",
            "zerolinecolor": "white"
           }
          },
          "shapedefaults": {
           "line": {
            "color": "#2a3f5f"
           }
          },
          "ternary": {
           "aaxis": {
            "gridcolor": "white",
            "linecolor": "white",
            "ticks": ""
           },
           "baxis": {
            "gridcolor": "white",
            "linecolor": "white",
            "ticks": ""
           },
           "bgcolor": "#E5ECF6",
           "caxis": {
            "gridcolor": "white",
            "linecolor": "white",
            "ticks": ""
           }
          },
          "title": {
           "x": 0.05
          },
          "xaxis": {
           "automargin": true,
           "gridcolor": "white",
           "linecolor": "white",
           "ticks": "",
           "title": {
            "standoff": 15
           },
           "zerolinecolor": "white",
           "zerolinewidth": 2
          },
          "yaxis": {
           "automargin": true,
           "gridcolor": "white",
           "linecolor": "white",
           "ticks": "",
           "title": {
            "standoff": 15
           },
           "zerolinecolor": "white",
           "zerolinewidth": 2
          }
         }
        },
        "title": {
         "text": "Stacked Subplots with Non-Shared X-Axes"
        },
        "width": 850,
        "xaxis": {
         "anchor": "y",
         "domain": [
          0,
          0.45
         ]
        },
        "xaxis2": {
         "anchor": "y2",
         "domain": [
          0.55,
          1
         ]
        },
        "xaxis3": {
         "anchor": "y3",
         "domain": [
          0,
          0.45
         ]
        },
        "xaxis4": {
         "anchor": "y4",
         "domain": [
          0.55,
          1
         ]
        },
        "xaxis5": {
         "anchor": "y5",
         "domain": [
          0,
          0.45
         ]
        },
        "xaxis6": {
         "anchor": "y6",
         "domain": [
          0.55,
          1
         ]
        },
        "yaxis": {
         "anchor": "x",
         "domain": [
          0.7,
          1
         ]
        },
        "yaxis2": {
         "anchor": "x2",
         "domain": [
          0.7,
          1
         ]
        },
        "yaxis3": {
         "anchor": "x3",
         "domain": [
          0.35,
          0.6499999999999999
         ]
        },
        "yaxis4": {
         "anchor": "x4",
         "domain": [
          0.35,
          0.6499999999999999
         ]
        },
        "yaxis5": {
         "anchor": "x5",
         "domain": [
          0,
          0.3
         ]
        },
        "yaxis6": {
         "anchor": "x6",
         "domain": [
          0,
          0.3
         ]
        }
       }
      },
      "text/html": [
       "<div>\n",
       "        \n",
       "        \n",
       "            <div id=\"47b98fe8-a048-4eb4-b152-720ec1722b55\" class=\"plotly-graph-div\" style=\"height:1000px; width:850px;\"></div>\n",
       "            <script type=\"text/javascript\">\n",
       "                require([\"plotly\"], function(Plotly) {\n",
       "                    window.PLOTLYENV=window.PLOTLYENV || {};\n",
       "                    \n",
       "                if (document.getElementById(\"47b98fe8-a048-4eb4-b152-720ec1722b55\")) {\n",
       "                    Plotly.newPlot(\n",
       "                        '47b98fe8-a048-4eb4-b152-720ec1722b55',\n",
       "                        [{\"alignmentgroup\": \"True\", \"customdata\": [[77.0], [75.0], [73.5], [73.0], [70.0], [69.5], [69.5], [69.5], [69.5], [68.5], [67.0], [67.0], [65.5], [64.0], [63.5], [63.5], [62.5], [61.5], [61.0], [61.0], [60.5], [60.0], [60.0], [59.5], [59.0], [58.5], [58.5], [57.5], [57.0], [57.0], [56.0], [55.0], [55.0], [54.0], [54.0], [53.5], [53.5], [53.5], [53.0], [52.0], [51.5], [51.5], [51.5], [50.5], [50.5], [50.0], [50.0], [48.0], [48.0], [48.0], [46.0]], \"hovertemplate\": \"City=%{marker.color}<br>Avg=%{y}<extra></extra>\", \"legendgroup\": \"\", \"marker\": {\"color\": [77.0, 75.0, 73.5, 73.0, 70.0, 69.5, 69.5, 69.5, 69.5, 68.5, 67.0, 67.0, 65.5, 64.0, 63.5, 63.5, 62.5, 61.5, 61.0, 61.0, 60.5, 60.0, 60.0, 59.5, 59.0, 58.5, 58.5, 57.5, 57.0, 57.0, 56.0, 55.0, 55.0, 54.0, 54.0, 53.5, 53.5, 53.5, 53.0, 52.0, 51.5, 51.5, 51.5, 50.5, 50.5, 50.0, 50.0, 48.0, 48.0, 48.0, 46.0], \"coloraxis\": \"coloraxis\"}, \"name\": \"\", \"offsetgroup\": \"\", \"orientation\": \"v\", \"showlegend\": false, \"textposition\": \"auto\", \"type\": \"bar\", \"x\": [77.0, 75.0, 73.5, 73.0, 70.0, 69.5, 69.5, 69.5, 69.5, 68.5, 67.0, 67.0, 65.5, 64.0, 63.5, 63.5, 62.5, 61.5, 61.0, 61.0, 60.5, 60.0, 60.0, 59.5, 59.0, 58.5, 58.5, 57.5, 57.0, 57.0, 56.0, 55.0, 55.0, 54.0, 54.0, 53.5, 53.5, 53.5, 53.0, 52.0, 51.5, 51.5, 51.5, 50.5, 50.5, 50.0, 50.0, 48.0, 48.0, 48.0, 46.0], \"xaxis\": \"x2\", \"y\": [84, 87, 82, 83, 80, 80, 80, 78, 80, 79, 77, 81, 75, 70, 74, 73, 72, 72, 72, 74, 71, 71, 68, 70, 70, 68, 67, 64, 66, 66, 65, 65, 62, 65, 63, 63, 63, 61, 64, 61, 59, 60, 61, 59, 61, 59, 64, 56, 56, 57, 55], \"yaxis\": \"y2\"}, {\"alignmentgroup\": \"True\", \"customdata\": [[77.0], [75.0], [73.5], [73.0], [70.0], [69.5], [69.5], [69.5], [69.5], [68.5], [67.0], [67.0], [65.5], [64.0], [63.5], [63.5], [62.5], [61.5], [61.0], [61.0], [60.5], [60.0], [60.0], [59.5], [59.0], [58.5], [58.5], [57.5], [57.0], [57.0], [56.0], [55.0], [55.0], [54.0], [54.0], [53.5], [53.5], [53.5], [53.0], [52.0], [51.5], [51.5], [51.5], [50.5], [50.5], [50.0], [50.0], [48.0], [48.0], [48.0], [46.0]], \"hovertemplate\": \"high_f=%{x}<br>low_f=%{y}<br>City=%{marker.color}<extra></extra>\", \"legendgroup\": \"\", \"marker\": {\"color\": [77.0, 75.0, 73.5, 73.0, 70.0, 69.5, 69.5, 69.5, 69.5, 68.5, 67.0, 67.0, 65.5, 64.0, 63.5, 63.5, 62.5, 61.5, 61.0, 61.0, 60.5, 60.0, 60.0, 59.5, 59.0, 58.5, 58.5, 57.5, 57.0, 57.0, 56.0, 55.0, 55.0, 54.0, 54.0, 53.5, 53.5, 53.5, 53.0, 52.0, 51.5, 51.5, 51.5, 50.5, 50.5, 50.0, 50.0, 48.0, 48.0, 48.0, 46.0], \"coloraxis\": \"coloraxis\"}, \"name\": \"\", \"offsetgroup\": \"\", \"orientation\": \"v\", \"showlegend\": false, \"textposition\": \"auto\", \"type\": \"bar\", \"x\": [70, 63, 65, 63, 60, 59, 59, 61, 59, 58, 57, 53, 56, 58, 53, 54, 53, 51, 50, 48, 50, 49, 52, 49, 48, 49, 50, 51, 48, 48, 47, 45, 48, 43, 45, 44, 44, 46, 42, 43, 44, 43, 42, 42, 40, 41, 36, 40, 40, 39, 37], \"xaxis\": \"x\", \"y\": [\"Miami, Florida\", \"Phoenix, Arizona\", \"Tampa, Florida\", \"Orlando, Florida\", \"Houston, Texas\", \"Austin, Texas\", \"Las Vegas, Nevada\", \"New Orleans, Louisiana\", \"San Antonio, Texas\", \"Jacksonville, Florida\", \"Dallas, Texas\", \"Riverside, California\", \"Los Angeles, California\", \"San Diego, California\", \"Birmingham, Alabama\", \"Memphis, Tennessee\", \"Atlanta, Georgia\", \"Oklahoma City, Oklahoma\", \"Raleigh, North Carolina\", \"Sacramento, California\", \"San Jose, California\", \"Charlotte, North Carolina\", \"Virginia Beach, Virginia\", \"Nashville, Tennessee\", \"Richmond, Virginia\", \"Louisville, Kentucky\", \"Washington, DC\", \"San Francisco, California\", \"Kansas City, Missouri\", \"St. Louis, Missouri\", \"Philadelphia, Pennsylvania\", \"Baltimore, Maryland\", \"New York, New York\", \"Cincinnati, Ohio\", \"Portland, Oregon\", \"Columbus, Ohio\", \"Indianapolis, Indiana\", \"Seattle, Washington\", \"Salt Lake City, Utah\", \"Providence, Rhode Island\", \"Boston, Massachusetts\", \"Cleveland, Ohio\", \"Pittsburgh, Pennsylvania\", \"Detroit, Michigan\", \"Hartford, Connecticut\", \"Chicago, Illinois\", \"Denver, Colorado\", \"Buffalo, New York\", \"Milwaukee, Wisconsin\", \"Rochester, New York\", \"Minneapolis, Minnesota\"], \"yaxis\": \"y\"}, {\"customdata\": [[77.0], [75.0], [73.5], [73.0], [70.0], [69.5], [69.5], [69.5], [69.5], [68.5], [67.0], [67.0], [65.5], [64.0], [63.5], [63.5], [62.5], [61.5], [61.0], [61.0], [60.5], [60.0], [60.0], [59.5], [59.0], [58.5], [58.5], [57.5], [57.0], [57.0], [56.0], [55.0], [55.0], [54.0], [54.0], [53.5], [53.5], [53.5], [53.0], [52.0], [51.5], [51.5], [51.5], [50.5], [50.5], [50.0], [50.0], [48.0], [48.0], [48.0], [46.0]], \"hovertemplate\": \"high_f=%{x}<br>low_f=%{y}<br>Avg=%{marker.size}<br>City=%{marker.color}<extra></extra>\", \"legendgroup\": \"\", \"marker\": {\"color\": [77.0, 75.0, 73.5, 73.0, 70.0, 69.5, 69.5, 69.5, 69.5, 68.5, 67.0, 67.0, 65.5, 64.0, 63.5, 63.5, 62.5, 61.5, 61.0, 61.0, 60.5, 60.0, 60.0, 59.5, 59.0, 58.5, 58.5, 57.5, 57.0, 57.0, 56.0, 55.0, 55.0, 54.0, 54.0, 53.5, 53.5, 53.5, 53.0, 52.0, 51.5, 51.5, 51.5, 50.5, 50.5, 50.0, 50.0, 48.0, 48.0, 48.0, 46.0], \"coloraxis\": \"coloraxis\", \"size\": [84, 87, 82, 83, 80, 80, 80, 78, 80, 79, 77, 81, 75, 70, 74, 73, 72, 72, 72, 74, 71, 71, 68, 70, 70, 68, 67, 64, 66, 66, 65, 65, 62, 65, 63, 63, 63, 61, 64, 61, 59, 60, 61, 59, 61, 59, 64, 56, 56, 57, 55], \"sizemode\": \"area\", \"sizeref\": 0.2175, \"symbol\": \"circle\"}, \"mode\": \"markers\", \"name\": \"\", \"showlegend\": false, \"type\": \"scatter\", \"x\": [70, 63, 65, 63, 60, 59, 59, 61, 59, 58, 57, 53, 56, 58, 53, 54, 53, 51, 50, 48, 50, 49, 52, 49, 48, 49, 50, 51, 48, 48, 47, 45, 48, 43, 45, 44, 44, 46, 42, 43, 44, 43, 42, 42, 40, 41, 36, 40, 40, 39, 37], \"xaxis\": \"x3\", \"y\": [\"Miami, Florida\", \"Phoenix, Arizona\", \"Tampa, Florida\", \"Orlando, Florida\", \"Houston, Texas\", \"Austin, Texas\", \"Las Vegas, Nevada\", \"New Orleans, Louisiana\", \"San Antonio, Texas\", \"Jacksonville, Florida\", \"Dallas, Texas\", \"Riverside, California\", \"Los Angeles, California\", \"San Diego, California\", \"Birmingham, Alabama\", \"Memphis, Tennessee\", \"Atlanta, Georgia\", \"Oklahoma City, Oklahoma\", \"Raleigh, North Carolina\", \"Sacramento, California\", \"San Jose, California\", \"Charlotte, North Carolina\", \"Virginia Beach, Virginia\", \"Nashville, Tennessee\", \"Richmond, Virginia\", \"Louisville, Kentucky\", \"Washington, DC\", \"San Francisco, California\", \"Kansas City, Missouri\", \"St. Louis, Missouri\", \"Philadelphia, Pennsylvania\", \"Baltimore, Maryland\", \"New York, New York\", \"Cincinnati, Ohio\", \"Portland, Oregon\", \"Columbus, Ohio\", \"Indianapolis, Indiana\", \"Seattle, Washington\", \"Salt Lake City, Utah\", \"Providence, Rhode Island\", \"Boston, Massachusetts\", \"Cleveland, Ohio\", \"Pittsburgh, Pennsylvania\", \"Detroit, Michigan\", \"Hartford, Connecticut\", \"Chicago, Illinois\", \"Denver, Colorado\", \"Buffalo, New York\", \"Milwaukee, Wisconsin\", \"Rochester, New York\", \"Minneapolis, Minnesota\"], \"yaxis\": \"y3\"}, {\"alignmentgroup\": \"True\", \"customdata\": [[77.0], [75.0], [73.5], [73.0], [70.0], [69.5], [69.5], [69.5], [69.5], [68.5], [67.0], [67.0], [65.5], [64.0], [63.5], [63.5], [62.5], [61.5], [61.0], [61.0], [60.5], [60.0], [60.0], [59.5], [59.0], [58.5], [58.5], [57.5], [57.0], [57.0], [56.0], [55.0], [55.0], [54.0], [54.0], [53.5], [53.5], [53.5], [53.0], [52.0], [51.5], [51.5], [51.5], [50.5], [50.5], [50.0], [50.0], [48.0], [48.0], [48.0], [46.0]], \"hovertemplate\": \"City=%{marker.color}<br>Avg=%{y}<extra></extra>\", \"legendgroup\": \"\", \"marker\": {\"color\": [77.0, 75.0, 73.5, 73.0, 70.0, 69.5, 69.5, 69.5, 69.5, 68.5, 67.0, 67.0, 65.5, 64.0, 63.5, 63.5, 62.5, 61.5, 61.0, 61.0, 60.5, 60.0, 60.0, 59.5, 59.0, 58.5, 58.5, 57.5, 57.0, 57.0, 56.0, 55.0, 55.0, 54.0, 54.0, 53.5, 53.5, 53.5, 53.0, 52.0, 51.5, 51.5, 51.5, 50.5, 50.5, 50.0, 50.0, 48.0, 48.0, 48.0, 46.0], \"coloraxis\": \"coloraxis\"}, \"name\": \"\", \"offsetgroup\": \"\", \"orientation\": \"v\", \"showlegend\": false, \"textposition\": \"auto\", \"type\": \"bar\", \"x\": [77.0, 75.0, 73.5, 73.0, 70.0, 69.5, 69.5, 69.5, 69.5, 68.5, 67.0, 67.0, 65.5, 64.0, 63.5, 63.5, 62.5, 61.5, 61.0, 61.0, 60.5, 60.0, 60.0, 59.5, 59.0, 58.5, 58.5, 57.5, 57.0, 57.0, 56.0, 55.0, 55.0, 54.0, 54.0, 53.5, 53.5, 53.5, 53.0, 52.0, 51.5, 51.5, 51.5, 50.5, 50.5, 50.0, 50.0, 48.0, 48.0, 48.0, 46.0], \"xaxis\": \"x5\", \"y\": [84, 87, 82, 83, 80, 80, 80, 78, 80, 79, 77, 81, 75, 70, 74, 73, 72, 72, 72, 74, 71, 71, 68, 70, 70, 68, 67, 64, 66, 66, 65, 65, 62, 65, 63, 63, 63, 61, 64, 61, 59, 60, 61, 59, 61, 59, 64, 56, 56, 57, 55], \"yaxis\": \"y5\"}],\n",
       "                        {\"height\": 1000, \"template\": {\"data\": {\"bar\": [{\"error_x\": {\"color\": \"#2a3f5f\"}, \"error_y\": {\"color\": \"#2a3f5f\"}, \"marker\": {\"line\": {\"color\": \"#E5ECF6\", \"width\": 0.5}}, \"type\": \"bar\"}], \"barpolar\": [{\"marker\": {\"line\": {\"color\": \"#E5ECF6\", \"width\": 0.5}}, \"type\": \"barpolar\"}], \"carpet\": [{\"aaxis\": {\"endlinecolor\": \"#2a3f5f\", \"gridcolor\": \"white\", \"linecolor\": \"white\", \"minorgridcolor\": \"white\", \"startlinecolor\": \"#2a3f5f\"}, \"baxis\": {\"endlinecolor\": \"#2a3f5f\", \"gridcolor\": \"white\", \"linecolor\": \"white\", \"minorgridcolor\": \"white\", \"startlinecolor\": \"#2a3f5f\"}, \"type\": \"carpet\"}], \"choropleth\": [{\"colorbar\": {\"outlinewidth\": 0, \"ticks\": \"\"}, \"type\": \"choropleth\"}], \"contour\": [{\"colorbar\": {\"outlinewidth\": 0, \"ticks\": \"\"}, \"colorscale\": [[0.0, \"#0d0887\"], [0.1111111111111111, \"#46039f\"], [0.2222222222222222, \"#7201a8\"], [0.3333333333333333, \"#9c179e\"], [0.4444444444444444, \"#bd3786\"], [0.5555555555555556, \"#d8576b\"], [0.6666666666666666, \"#ed7953\"], [0.7777777777777778, \"#fb9f3a\"], [0.8888888888888888, \"#fdca26\"], [1.0, \"#f0f921\"]], \"type\": \"contour\"}], \"contourcarpet\": [{\"colorbar\": {\"outlinewidth\": 0, \"ticks\": \"\"}, \"type\": \"contourcarpet\"}], \"heatmap\": [{\"colorbar\": {\"outlinewidth\": 0, \"ticks\": \"\"}, \"colorscale\": [[0.0, \"#0d0887\"], [0.1111111111111111, \"#46039f\"], [0.2222222222222222, \"#7201a8\"], [0.3333333333333333, \"#9c179e\"], [0.4444444444444444, \"#bd3786\"], [0.5555555555555556, \"#d8576b\"], [0.6666666666666666, \"#ed7953\"], [0.7777777777777778, \"#fb9f3a\"], [0.8888888888888888, \"#fdca26\"], [1.0, \"#f0f921\"]], \"type\": \"heatmap\"}], \"heatmapgl\": [{\"colorbar\": {\"outlinewidth\": 0, \"ticks\": \"\"}, \"colorscale\": [[0.0, \"#0d0887\"], [0.1111111111111111, \"#46039f\"], [0.2222222222222222, \"#7201a8\"], [0.3333333333333333, \"#9c179e\"], [0.4444444444444444, \"#bd3786\"], [0.5555555555555556, \"#d8576b\"], [0.6666666666666666, \"#ed7953\"], [0.7777777777777778, \"#fb9f3a\"], [0.8888888888888888, \"#fdca26\"], [1.0, \"#f0f921\"]], \"type\": \"heatmapgl\"}], \"histogram\": [{\"marker\": {\"colorbar\": {\"outlinewidth\": 0, \"ticks\": \"\"}}, \"type\": \"histogram\"}], \"histogram2d\": [{\"colorbar\": {\"outlinewidth\": 0, \"ticks\": \"\"}, \"colorscale\": [[0.0, \"#0d0887\"], [0.1111111111111111, \"#46039f\"], [0.2222222222222222, \"#7201a8\"], [0.3333333333333333, \"#9c179e\"], [0.4444444444444444, \"#bd3786\"], [0.5555555555555556, \"#d8576b\"], [0.6666666666666666, \"#ed7953\"], [0.7777777777777778, \"#fb9f3a\"], [0.8888888888888888, \"#fdca26\"], [1.0, \"#f0f921\"]], \"type\": \"histogram2d\"}], \"histogram2dcontour\": [{\"colorbar\": {\"outlinewidth\": 0, \"ticks\": \"\"}, \"colorscale\": [[0.0, \"#0d0887\"], [0.1111111111111111, \"#46039f\"], [0.2222222222222222, \"#7201a8\"], [0.3333333333333333, \"#9c179e\"], [0.4444444444444444, \"#bd3786\"], [0.5555555555555556, \"#d8576b\"], [0.6666666666666666, \"#ed7953\"], [0.7777777777777778, \"#fb9f3a\"], [0.8888888888888888, \"#fdca26\"], [1.0, \"#f0f921\"]], \"type\": \"histogram2dcontour\"}], \"mesh3d\": [{\"colorbar\": {\"outlinewidth\": 0, \"ticks\": \"\"}, \"type\": \"mesh3d\"}], \"parcoords\": [{\"line\": {\"colorbar\": {\"outlinewidth\": 0, \"ticks\": \"\"}}, \"type\": \"parcoords\"}], \"pie\": [{\"automargin\": true, \"type\": \"pie\"}], \"scatter\": [{\"marker\": {\"colorbar\": {\"outlinewidth\": 0, \"ticks\": \"\"}}, \"type\": \"scatter\"}], \"scatter3d\": [{\"line\": {\"colorbar\": {\"outlinewidth\": 0, \"ticks\": \"\"}}, \"marker\": {\"colorbar\": {\"outlinewidth\": 0, \"ticks\": \"\"}}, \"type\": \"scatter3d\"}], \"scattercarpet\": [{\"marker\": {\"colorbar\": {\"outlinewidth\": 0, \"ticks\": \"\"}}, \"type\": \"scattercarpet\"}], \"scattergeo\": [{\"marker\": {\"colorbar\": {\"outlinewidth\": 0, \"ticks\": \"\"}}, \"type\": \"scattergeo\"}], \"scattergl\": [{\"marker\": {\"colorbar\": {\"outlinewidth\": 0, \"ticks\": \"\"}}, \"type\": \"scattergl\"}], \"scattermapbox\": [{\"marker\": {\"colorbar\": {\"outlinewidth\": 0, \"ticks\": \"\"}}, \"type\": \"scattermapbox\"}], \"scatterpolar\": [{\"marker\": {\"colorbar\": {\"outlinewidth\": 0, \"ticks\": \"\"}}, \"type\": \"scatterpolar\"}], \"scatterpolargl\": [{\"marker\": {\"colorbar\": {\"outlinewidth\": 0, \"ticks\": \"\"}}, \"type\": \"scatterpolargl\"}], \"scatterternary\": [{\"marker\": {\"colorbar\": {\"outlinewidth\": 0, \"ticks\": \"\"}}, \"type\": \"scatterternary\"}], \"surface\": [{\"colorbar\": {\"outlinewidth\": 0, \"ticks\": \"\"}, \"colorscale\": [[0.0, \"#0d0887\"], [0.1111111111111111, \"#46039f\"], [0.2222222222222222, \"#7201a8\"], [0.3333333333333333, \"#9c179e\"], [0.4444444444444444, \"#bd3786\"], [0.5555555555555556, \"#d8576b\"], [0.6666666666666666, \"#ed7953\"], [0.7777777777777778, \"#fb9f3a\"], [0.8888888888888888, \"#fdca26\"], [1.0, \"#f0f921\"]], \"type\": \"surface\"}], \"table\": [{\"cells\": {\"fill\": {\"color\": \"#EBF0F8\"}, \"line\": {\"color\": \"white\"}}, \"header\": {\"fill\": {\"color\": \"#C8D4E3\"}, \"line\": {\"color\": \"white\"}}, \"type\": \"table\"}]}, \"layout\": {\"annotationdefaults\": {\"arrowcolor\": \"#2a3f5f\", \"arrowhead\": 0, \"arrowwidth\": 1}, \"coloraxis\": {\"colorbar\": {\"outlinewidth\": 0, \"ticks\": \"\"}}, \"colorscale\": {\"diverging\": [[0, \"#8e0152\"], [0.1, \"#c51b7d\"], [0.2, \"#de77ae\"], [0.3, \"#f1b6da\"], [0.4, \"#fde0ef\"], [0.5, \"#f7f7f7\"], [0.6, \"#e6f5d0\"], [0.7, \"#b8e186\"], [0.8, \"#7fbc41\"], [0.9, \"#4d9221\"], [1, \"#276419\"]], \"sequential\": [[0.0, \"#0d0887\"], [0.1111111111111111, \"#46039f\"], [0.2222222222222222, \"#7201a8\"], [0.3333333333333333, \"#9c179e\"], [0.4444444444444444, \"#bd3786\"], [0.5555555555555556, \"#d8576b\"], [0.6666666666666666, \"#ed7953\"], [0.7777777777777778, \"#fb9f3a\"], [0.8888888888888888, \"#fdca26\"], [1.0, \"#f0f921\"]], \"sequentialminus\": [[0.0, \"#0d0887\"], [0.1111111111111111, \"#46039f\"], [0.2222222222222222, \"#7201a8\"], [0.3333333333333333, \"#9c179e\"], [0.4444444444444444, \"#bd3786\"], [0.5555555555555556, \"#d8576b\"], [0.6666666666666666, \"#ed7953\"], [0.7777777777777778, \"#fb9f3a\"], [0.8888888888888888, \"#fdca26\"], [1.0, \"#f0f921\"]]}, \"colorway\": [\"#636efa\", \"#EF553B\", \"#00cc96\", \"#ab63fa\", \"#FFA15A\", \"#19d3f3\", \"#FF6692\", \"#B6E880\", \"#FF97FF\", \"#FECB52\"], \"font\": {\"color\": \"#2a3f5f\"}, \"geo\": {\"bgcolor\": \"white\", \"lakecolor\": \"white\", \"landcolor\": \"#E5ECF6\", \"showlakes\": true, \"showland\": true, \"subunitcolor\": \"white\"}, \"hoverlabel\": {\"align\": \"left\"}, \"hovermode\": \"closest\", \"mapbox\": {\"style\": \"light\"}, \"paper_bgcolor\": \"white\", \"plot_bgcolor\": \"#E5ECF6\", \"polar\": {\"angularaxis\": {\"gridcolor\": \"white\", \"linecolor\": \"white\", \"ticks\": \"\"}, \"bgcolor\": \"#E5ECF6\", \"radialaxis\": {\"gridcolor\": \"white\", \"linecolor\": \"white\", \"ticks\": \"\"}}, \"scene\": {\"xaxis\": {\"backgroundcolor\": \"#E5ECF6\", \"gridcolor\": \"white\", \"gridwidth\": 2, \"linecolor\": \"white\", \"showbackground\": true, \"ticks\": \"\", \"zerolinecolor\": \"white\"}, \"yaxis\": {\"backgroundcolor\": \"#E5ECF6\", \"gridcolor\": \"white\", \"gridwidth\": 2, \"linecolor\": \"white\", \"showbackground\": true, \"ticks\": \"\", \"zerolinecolor\": \"white\"}, \"zaxis\": {\"backgroundcolor\": \"#E5ECF6\", \"gridcolor\": \"white\", \"gridwidth\": 2, \"linecolor\": \"white\", \"showbackground\": true, \"ticks\": \"\", \"zerolinecolor\": \"white\"}}, \"shapedefaults\": {\"line\": {\"color\": \"#2a3f5f\"}}, \"ternary\": {\"aaxis\": {\"gridcolor\": \"white\", \"linecolor\": \"white\", \"ticks\": \"\"}, \"baxis\": {\"gridcolor\": \"white\", \"linecolor\": \"white\", \"ticks\": \"\"}, \"bgcolor\": \"#E5ECF6\", \"caxis\": {\"gridcolor\": \"white\", \"linecolor\": \"white\", \"ticks\": \"\"}}, \"title\": {\"x\": 0.05}, \"xaxis\": {\"automargin\": true, \"gridcolor\": \"white\", \"linecolor\": \"white\", \"ticks\": \"\", \"title\": {\"standoff\": 15}, \"zerolinecolor\": \"white\", \"zerolinewidth\": 2}, \"yaxis\": {\"automargin\": true, \"gridcolor\": \"white\", \"linecolor\": \"white\", \"ticks\": \"\", \"title\": {\"standoff\": 15}, \"zerolinecolor\": \"white\", \"zerolinewidth\": 2}}}, \"title\": {\"text\": \"Stacked Subplots with Non-Shared X-Axes\"}, \"width\": 850, \"xaxis\": {\"anchor\": \"y\", \"domain\": [0.0, 0.45]}, \"xaxis2\": {\"anchor\": \"y2\", \"domain\": [0.55, 1.0]}, \"xaxis3\": {\"anchor\": \"y3\", \"domain\": [0.0, 0.45]}, \"xaxis4\": {\"anchor\": \"y4\", \"domain\": [0.55, 1.0]}, \"xaxis5\": {\"anchor\": \"y5\", \"domain\": [0.0, 0.45]}, \"xaxis6\": {\"anchor\": \"y6\", \"domain\": [0.55, 1.0]}, \"yaxis\": {\"anchor\": \"x\", \"domain\": [0.7, 1.0]}, \"yaxis2\": {\"anchor\": \"x2\", \"domain\": [0.7, 1.0]}, \"yaxis3\": {\"anchor\": \"x3\", \"domain\": [0.35, 0.6499999999999999]}, \"yaxis4\": {\"anchor\": \"x4\", \"domain\": [0.35, 0.6499999999999999]}, \"yaxis5\": {\"anchor\": \"x5\", \"domain\": [0.0, 0.3]}, \"yaxis6\": {\"anchor\": \"x6\", \"domain\": [0.0, 0.3]}},\n",
       "                        {\"responsive\": true}\n",
       "                    ).then(function(){\n",
       "                            \n",
       "var gd = document.getElementById('47b98fe8-a048-4eb4-b152-720ec1722b55');\n",
       "var x = new MutationObserver(function (mutations, observer) {{\n",
       "        var display = window.getComputedStyle(gd).display;\n",
       "        if (!display || display === 'none') {{\n",
       "            console.log([gd, 'removed!']);\n",
       "            Plotly.purge(gd);\n",
       "            observer.disconnect();\n",
       "        }}\n",
       "}});\n",
       "\n",
       "// Listen for the removal of the full notebook cells\n",
       "var notebookContainer = gd.closest('#notebook-container');\n",
       "if (notebookContainer) {{\n",
       "    x.observe(notebookContainer, {childList: true});\n",
       "}}\n",
       "\n",
       "// Listen for the clearing of the current output cell\n",
       "var outputEl = gd.closest('.output');\n",
       "if (outputEl) {{\n",
       "    x.observe(outputEl, {childList: true});\n",
       "}}\n",
       "\n",
       "                        })\n",
       "                };\n",
       "                });\n",
       "            </script>\n",
       "        </div>"
      ]
     },
     "metadata": {},
     "output_type": "display_data"
    }
   ],
   "source": [
    "import plotly.express as px\n",
    "from plotly.subplots import make_subplots\n",
    "import plotly.graph_objects as go\n",
    "import matplotlib.pyplot as plt\n",
    "\n",
    "# # Initialize figure with subplots\n",
    "fig3 = px.scatter(temperature, x=\"high_f\", y=\"low_f\", color=\"City\",\n",
    "                 size='Avg', hover_data=['City'])\n",
    "# fig1.show()\n",
    "\n",
    "fig2 = px.bar(temperature, x=\"high_f\", y=\"low_f\", color=\"City\",\n",
    "             hover_data=['City'])\n",
    "# fig2.show()\n",
    "\n",
    "fig1 = px.bar(temperature, x=\"City\", y=\"Avg\", color=\"City\",\n",
    "             hover_data=['City'])\n",
    "# fig3.show()\n",
    "\n",
    "fig4 = px.bar(temperature, x=\"City\", y=\"Avg\", color=\"City\",\n",
    "             hover_data=['City'])\n",
    "# fig4.show()\n",
    "\n",
    "#add traces\n",
    "trace1 = fig1['data'][0]\n",
    "trace2 = fig2['data'][0]\n",
    "trace3 = fig3['data'][0]\n",
    "trace4 = fig4['data'][0]\n",
    "\n",
    "fig = make_subplots(rows=3\n",
    "                    ,cols=2\n",
    "                    ,shared_xaxes=False\n",
    "                    ,row_heights=[9., 9., 9.]\n",
    "                    ,column_widths=[.1, .1]\n",
    "#                     ,specs=[[{\"type\": \"scatter\", \"rowspan\": 1}],\n",
    "#                             [{\"type\": \"bar\", \"rowspan\": 1}],\n",
    "#                             [{\"type\": \"bar\", \"rowspan\": 1}],\n",
    "#                             [{\"type\": \"bar\", \"rowspan\": 1}]\n",
    "#                            ]\n",
    "                    ,shared_yaxes=False\n",
    "                    ,vertical_spacing=0.05\n",
    "                   )\n",
    "\n",
    "fig.add_trace(trace1, row=1, col=2)\n",
    "fig.add_trace(trace2, row=1, col=1)\n",
    "fig.add_trace(trace3, row=2, col=1)\n",
    "fig.add_trace(trace4, row=3, col=1)\n",
    "\n",
    "fig['layout'].update(height=1000, width=850, title='Stacked Subplots with Non-Shared X-Axes')\n",
    "\n",
    "print(fig.layout)\n",
    "\n",
    "fig.show()\n"
   ]
  },
  {
   "cell_type": "code",
   "execution_count": 40,
   "metadata": {},
   "outputs": [
    {
     "data": {
      "text/html": [
       "<style  type=\"text/css\" >\n",
       "    #T_f8671ba8_c188_11ea_9877_6c40088c216arow0_col0 {\n",
       "            background-color:  #cbeac4;\n",
       "            color:  #000000;\n",
       "        }    #T_f8671ba8_c188_11ea_9877_6c40088c216arow0_col2 {\n",
       "            background-color:  #00441b;\n",
       "            color:  #f1f1f1;\n",
       "        }    #T_f8671ba8_c188_11ea_9877_6c40088c216arow0_col3 {\n",
       "            background-color:  #00441b;\n",
       "            color:  #f1f1f1;\n",
       "        }    #T_f8671ba8_c188_11ea_9877_6c40088c216arow1_col0 {\n",
       "            background-color:  #60ba6c;\n",
       "            color:  #000000;\n",
       "        }    #T_f8671ba8_c188_11ea_9877_6c40088c216arow1_col2 {\n",
       "            background-color:  #005120;\n",
       "            color:  #f1f1f1;\n",
       "        }    #T_f8671ba8_c188_11ea_9877_6c40088c216arow1_col3 {\n",
       "            background-color:  #005020;\n",
       "            color:  #f1f1f1;\n",
       "        }    #T_f8671ba8_c188_11ea_9877_6c40088c216arow2_col0 {\n",
       "            background-color:  #c2e7bb;\n",
       "            color:  #000000;\n",
       "        }    #T_f8671ba8_c188_11ea_9877_6c40088c216arow2_col2 {\n",
       "            background-color:  #5db96b;\n",
       "            color:  #000000;\n",
       "        }    #T_f8671ba8_c188_11ea_9877_6c40088c216arow2_col3 {\n",
       "            background-color:  #5db96b;\n",
       "            color:  #000000;\n",
       "        }    #T_f8671ba8_c188_11ea_9877_6c40088c216arow3_col0 {\n",
       "            background-color:  #e5f5e0;\n",
       "            color:  #000000;\n",
       "        }    #T_f8671ba8_c188_11ea_9877_6c40088c216arow3_col2 {\n",
       "            background-color:  #5db96b;\n",
       "            color:  #000000;\n",
       "        }    #T_f8671ba8_c188_11ea_9877_6c40088c216arow3_col3 {\n",
       "            background-color:  #5eb96b;\n",
       "            color:  #000000;\n",
       "        }    #T_f8671ba8_c188_11ea_9877_6c40088c216arow4_col0 {\n",
       "            background-color:  #ceecc8;\n",
       "            color:  #000000;\n",
       "        }    #T_f8671ba8_c188_11ea_9877_6c40088c216arow4_col2 {\n",
       "            background-color:  #76c578;\n",
       "            color:  #000000;\n",
       "        }    #T_f8671ba8_c188_11ea_9877_6c40088c216arow4_col3 {\n",
       "            background-color:  #76c578;\n",
       "            color:  #000000;\n",
       "        }    #T_f8671ba8_c188_11ea_9877_6c40088c216arow5_col0 {\n",
       "            background-color:  #c2e7bb;\n",
       "            color:  #000000;\n",
       "        }    #T_f8671ba8_c188_11ea_9877_6c40088c216arow5_col2 {\n",
       "            background-color:  #95d391;\n",
       "            color:  #000000;\n",
       "        }    #T_f8671ba8_c188_11ea_9877_6c40088c216arow5_col3 {\n",
       "            background-color:  #94d390;\n",
       "            color:  #000000;\n",
       "        }    #T_f8671ba8_c188_11ea_9877_6c40088c216arow6_col0 {\n",
       "            background-color:  #aadda4;\n",
       "            color:  #000000;\n",
       "        }    #T_f8671ba8_c188_11ea_9877_6c40088c216arow6_col2 {\n",
       "            background-color:  #a3da9d;\n",
       "            color:  #000000;\n",
       "        }    #T_f8671ba8_c188_11ea_9877_6c40088c216arow6_col3 {\n",
       "            background-color:  #a3da9d;\n",
       "            color:  #000000;\n",
       "        }    #T_f8671ba8_c188_11ea_9877_6c40088c216arow7_col0 {\n",
       "            background-color:  #eef8ea;\n",
       "            color:  #000000;\n",
       "        }    #T_f8671ba8_c188_11ea_9877_6c40088c216arow7_col2 {\n",
       "            background-color:  #a4da9e;\n",
       "            color:  #000000;\n",
       "        }    #T_f8671ba8_c188_11ea_9877_6c40088c216arow7_col3 {\n",
       "            background-color:  #a5db9f;\n",
       "            color:  #000000;\n",
       "        }    #T_f8671ba8_c188_11ea_9877_6c40088c216arow8_col0 {\n",
       "            background-color:  #d2edcc;\n",
       "            color:  #000000;\n",
       "        }    #T_f8671ba8_c188_11ea_9877_6c40088c216arow8_col2 {\n",
       "            background-color:  #a5db9f;\n",
       "            color:  #000000;\n",
       "        }    #T_f8671ba8_c188_11ea_9877_6c40088c216arow8_col3 {\n",
       "            background-color:  #a5db9f;\n",
       "            color:  #000000;\n",
       "        }    #T_f8671ba8_c188_11ea_9877_6c40088c216arow9_col0 {\n",
       "            background-color:  #b8e3b2;\n",
       "            color:  #000000;\n",
       "        }    #T_f8671ba8_c188_11ea_9877_6c40088c216arow9_col2 {\n",
       "            background-color:  #caeac3;\n",
       "            color:  #000000;\n",
       "        }    #T_f8671ba8_c188_11ea_9877_6c40088c216arow9_col3 {\n",
       "            background-color:  #cbeac4;\n",
       "            color:  #000000;\n",
       "        }    #T_f8671ba8_c188_11ea_9877_6c40088c216arow10_col0 {\n",
       "            background-color:  #9bd696;\n",
       "            color:  #000000;\n",
       "        }    #T_f8671ba8_c188_11ea_9877_6c40088c216arow10_col2 {\n",
       "            background-color:  #cbeac4;\n",
       "            color:  #000000;\n",
       "        }    #T_f8671ba8_c188_11ea_9877_6c40088c216arow10_col3 {\n",
       "            background-color:  #cbebc5;\n",
       "            color:  #000000;\n",
       "        }    #T_f8671ba8_c188_11ea_9877_6c40088c216arow11_col0 {\n",
       "            background-color:  #c2e7bb;\n",
       "            color:  #000000;\n",
       "        }    #T_f8671ba8_c188_11ea_9877_6c40088c216arow11_col2 {\n",
       "            background-color:  #d3eecd;\n",
       "            color:  #000000;\n",
       "        }    #T_f8671ba8_c188_11ea_9877_6c40088c216arow11_col3 {\n",
       "            background-color:  #d3eecd;\n",
       "            color:  #000000;\n",
       "        }    #T_f8671ba8_c188_11ea_9877_6c40088c216arow12_col0 {\n",
       "            background-color:  #ecf8e8;\n",
       "            color:  #000000;\n",
       "        }    #T_f8671ba8_c188_11ea_9877_6c40088c216arow12_col2 {\n",
       "            background-color:  #d5efcf;\n",
       "            color:  #000000;\n",
       "        }    #T_f8671ba8_c188_11ea_9877_6c40088c216arow12_col3 {\n",
       "            background-color:  #d6efd0;\n",
       "            color:  #000000;\n",
       "        }    #T_f8671ba8_c188_11ea_9877_6c40088c216arow13_col0 {\n",
       "            background-color:  #f7fcf5;\n",
       "            color:  #000000;\n",
       "        }    #T_f8671ba8_c188_11ea_9877_6c40088c216arow13_col2 {\n",
       "            background-color:  #d9f0d3;\n",
       "            color:  #000000;\n",
       "        }    #T_f8671ba8_c188_11ea_9877_6c40088c216arow13_col3 {\n",
       "            background-color:  #d9f0d3;\n",
       "            color:  #000000;\n",
       "        }    #T_f8671ba8_c188_11ea_9877_6c40088c216arow14_col0 {\n",
       "            background-color:  #7fc97f;\n",
       "            color:  #000000;\n",
       "        }    #T_f8671ba8_c188_11ea_9877_6c40088c216arow14_col2 {\n",
       "            background-color:  #daf0d4;\n",
       "            color:  #000000;\n",
       "        }    #T_f8671ba8_c188_11ea_9877_6c40088c216arow14_col3 {\n",
       "            background-color:  #dbf1d5;\n",
       "            color:  #000000;\n",
       "        }    #T_f8671ba8_c188_11ea_9877_6c40088c216arow15_col0 {\n",
       "            background-color:  #a5db9f;\n",
       "            color:  #000000;\n",
       "        }    #T_f8671ba8_c188_11ea_9877_6c40088c216arow15_col2 {\n",
       "            background-color:  #e5f5e1;\n",
       "            color:  #000000;\n",
       "        }    #T_f8671ba8_c188_11ea_9877_6c40088c216arow15_col3 {\n",
       "            background-color:  #e5f5e1;\n",
       "            color:  #000000;\n",
       "        }    #T_f8671ba8_c188_11ea_9877_6c40088c216arow16_col0 {\n",
       "            background-color:  #95d391;\n",
       "            color:  #000000;\n",
       "        }    #T_f8671ba8_c188_11ea_9877_6c40088c216arow16_col2 {\n",
       "            background-color:  #edf8ea;\n",
       "            color:  #000000;\n",
       "        }    #T_f8671ba8_c188_11ea_9877_6c40088c216arow16_col3 {\n",
       "            background-color:  #eef8ea;\n",
       "            color:  #000000;\n",
       "        }    #T_f8671ba8_c188_11ea_9877_6c40088c216arow17_col0 {\n",
       "            background-color:  #ceecc8;\n",
       "            color:  #000000;\n",
       "        }    #T_f8671ba8_c188_11ea_9877_6c40088c216arow17_col2 {\n",
       "            background-color:  #eff9eb;\n",
       "            color:  #000000;\n",
       "        }    #T_f8671ba8_c188_11ea_9877_6c40088c216arow17_col3 {\n",
       "            background-color:  #eff9ec;\n",
       "            color:  #000000;\n",
       "        }    #T_f8671ba8_c188_11ea_9877_6c40088c216arow18_col0 {\n",
       "            background-color:  #00441b;\n",
       "            color:  #f1f1f1;\n",
       "        }    #T_f8671ba8_c188_11ea_9877_6c40088c216arow18_col2 {\n",
       "            background-color:  #f0f9ec;\n",
       "            color:  #000000;\n",
       "        }    #T_f8671ba8_c188_11ea_9877_6c40088c216arow18_col3 {\n",
       "            background-color:  #f0f9ed;\n",
       "            color:  #000000;\n",
       "        }    #T_f8671ba8_c188_11ea_9877_6c40088c216arow19_col0 {\n",
       "            background-color:  #84cc83;\n",
       "            color:  #000000;\n",
       "        }    #T_f8671ba8_c188_11ea_9877_6c40088c216arow19_col2 {\n",
       "            background-color:  #f7fcf5;\n",
       "            color:  #000000;\n",
       "        }    #T_f8671ba8_c188_11ea_9877_6c40088c216arow19_col3 {\n",
       "            background-color:  #f7fcf5;\n",
       "            color:  #000000;\n",
       "        }</style><table id=\"T_f8671ba8_c188_11ea_9877_6c40088c216a\" ><thead>    <tr>        <th class=\"blank level0\" ></th>        <th class=\"col_heading level0 col0\" >Days</th>        <th class=\"col_heading level0 col1\" >City</th>        <th class=\"col_heading level0 col2\" >Inches</th>        <th class=\"col_heading level0 col3\" >Milli_metres</th>    </tr></thead><tbody>\n",
       "                <tr>\n",
       "                        <th id=\"T_f8671ba8_c188_11ea_9877_6c40088c216alevel0_row0\" class=\"row_heading level0 row0\" >0</th>\n",
       "                        <td id=\"T_f8671ba8_c188_11ea_9877_6c40088c216arow0_col0\" class=\"data row0 col0\" >115.000000</td>\n",
       "                        <td id=\"T_f8671ba8_c188_11ea_9877_6c40088c216arow0_col1\" class=\"data row0 col1\" >New Orleans, Louisiana</td>\n",
       "                        <td id=\"T_f8671ba8_c188_11ea_9877_6c40088c216arow0_col2\" class=\"data row0 col2\" >62.700000</td>\n",
       "                        <td id=\"T_f8671ba8_c188_11ea_9877_6c40088c216arow0_col3\" class=\"data row0 col3\" >1592.000000</td>\n",
       "            </tr>\n",
       "            <tr>\n",
       "                        <th id=\"T_f8671ba8_c188_11ea_9877_6c40088c216alevel0_row1\" class=\"row_heading level0 row1\" >1</th>\n",
       "                        <td id=\"T_f8671ba8_c188_11ea_9877_6c40088c216arow1_col0\" class=\"data row1 col0\" >135.000000</td>\n",
       "                        <td id=\"T_f8671ba8_c188_11ea_9877_6c40088c216arow1_col1\" class=\"data row1 col1\" >Miami, Florida</td>\n",
       "                        <td id=\"T_f8671ba8_c188_11ea_9877_6c40088c216arow1_col2\" class=\"data row1 col2\" >61.900000</td>\n",
       "                        <td id=\"T_f8671ba8_c188_11ea_9877_6c40088c216arow1_col3\" class=\"data row1 col3\" >1572.000000</td>\n",
       "            </tr>\n",
       "            <tr>\n",
       "                        <th id=\"T_f8671ba8_c188_11ea_9877_6c40088c216alevel0_row2\" class=\"row_heading level0 row2\" >2</th>\n",
       "                        <td id=\"T_f8671ba8_c188_11ea_9877_6c40088c216arow2_col0\" class=\"data row2 col0\" >117.000000</td>\n",
       "                        <td id=\"T_f8671ba8_c188_11ea_9877_6c40088c216arow2_col1\" class=\"data row2 col1\" >Birmingham, Alabama</td>\n",
       "                        <td id=\"T_f8671ba8_c188_11ea_9877_6c40088c216arow2_col2\" class=\"data row2 col2\" >53.700000</td>\n",
       "                        <td id=\"T_f8671ba8_c188_11ea_9877_6c40088c216arow2_col3\" class=\"data row2 col3\" >1364.000000</td>\n",
       "            </tr>\n",
       "            <tr>\n",
       "                        <th id=\"T_f8671ba8_c188_11ea_9877_6c40088c216alevel0_row3\" class=\"row_heading level0 row3\" >3</th>\n",
       "                        <td id=\"T_f8671ba8_c188_11ea_9877_6c40088c216arow3_col0\" class=\"data row3 col0\" >108.000000</td>\n",
       "                        <td id=\"T_f8671ba8_c188_11ea_9877_6c40088c216arow3_col1\" class=\"data row3 col1\" >Memphis, Tennessee</td>\n",
       "                        <td id=\"T_f8671ba8_c188_11ea_9877_6c40088c216arow3_col2\" class=\"data row3 col2\" >53.700000</td>\n",
       "                        <td id=\"T_f8671ba8_c188_11ea_9877_6c40088c216arow3_col3\" class=\"data row3 col3\" >1363.000000</td>\n",
       "            </tr>\n",
       "            <tr>\n",
       "                        <th id=\"T_f8671ba8_c188_11ea_9877_6c40088c216alevel0_row4\" class=\"row_heading level0 row4\" >4</th>\n",
       "                        <td id=\"T_f8671ba8_c188_11ea_9877_6c40088c216arow4_col0\" class=\"data row4 col0\" >114.000000</td>\n",
       "                        <td id=\"T_f8671ba8_c188_11ea_9877_6c40088c216arow4_col1\" class=\"data row4 col1\" >Jacksonville, Florida</td>\n",
       "                        <td id=\"T_f8671ba8_c188_11ea_9877_6c40088c216arow4_col2\" class=\"data row4 col2\" >52.400000</td>\n",
       "                        <td id=\"T_f8671ba8_c188_11ea_9877_6c40088c216arow4_col3\" class=\"data row4 col3\" >1331.000000</td>\n",
       "            </tr>\n",
       "            <tr>\n",
       "                        <th id=\"T_f8671ba8_c188_11ea_9877_6c40088c216alevel0_row5\" class=\"row_heading level0 row5\" >5</th>\n",
       "                        <td id=\"T_f8671ba8_c188_11ea_9877_6c40088c216arow5_col0\" class=\"data row5 col0\" >117.000000</td>\n",
       "                        <td id=\"T_f8671ba8_c188_11ea_9877_6c40088c216arow5_col1\" class=\"data row5 col1\" >Orlando, Florida</td>\n",
       "                        <td id=\"T_f8671ba8_c188_11ea_9877_6c40088c216arow5_col2\" class=\"data row5 col2\" >50.700000</td>\n",
       "                        <td id=\"T_f8671ba8_c188_11ea_9877_6c40088c216arow5_col3\" class=\"data row5 col3\" >1289.000000</td>\n",
       "            </tr>\n",
       "            <tr>\n",
       "                        <th id=\"T_f8671ba8_c188_11ea_9877_6c40088c216alevel0_row6\" class=\"row_heading level0 row6\" >6</th>\n",
       "                        <td id=\"T_f8671ba8_c188_11ea_9877_6c40088c216arow6_col0\" class=\"data row6 col0\" >122.000000</td>\n",
       "                        <td id=\"T_f8671ba8_c188_11ea_9877_6c40088c216arow6_col1\" class=\"data row6 col1\" >New York, New York</td>\n",
       "                        <td id=\"T_f8671ba8_c188_11ea_9877_6c40088c216arow6_col2\" class=\"data row6 col2\" >49.900000</td>\n",
       "                        <td id=\"T_f8671ba8_c188_11ea_9877_6c40088c216arow6_col3\" class=\"data row6 col3\" >1268.000000</td>\n",
       "            </tr>\n",
       "            <tr>\n",
       "                        <th id=\"T_f8671ba8_c188_11ea_9877_6c40088c216alevel0_row7\" class=\"row_heading level0 row7\" >7</th>\n",
       "                        <td id=\"T_f8671ba8_c188_11ea_9877_6c40088c216arow7_col0\" class=\"data row7 col0\" >104.000000</td>\n",
       "                        <td id=\"T_f8671ba8_c188_11ea_9877_6c40088c216arow7_col1\" class=\"data row7 col1\" >Houston, Texas</td>\n",
       "                        <td id=\"T_f8671ba8_c188_11ea_9877_6c40088c216arow7_col2\" class=\"data row7 col2\" >49.800000</td>\n",
       "                        <td id=\"T_f8671ba8_c188_11ea_9877_6c40088c216arow7_col3\" class=\"data row7 col3\" >1264.000000</td>\n",
       "            </tr>\n",
       "            <tr>\n",
       "                        <th id=\"T_f8671ba8_c188_11ea_9877_6c40088c216alevel0_row8\" class=\"row_heading level0 row8\" >8</th>\n",
       "                        <td id=\"T_f8671ba8_c188_11ea_9877_6c40088c216arow8_col0\" class=\"data row8 col0\" >113.000000</td>\n",
       "                        <td id=\"T_f8671ba8_c188_11ea_9877_6c40088c216arow8_col1\" class=\"data row8 col1\" >Atlanta, Georgia</td>\n",
       "                        <td id=\"T_f8671ba8_c188_11ea_9877_6c40088c216arow8_col2\" class=\"data row8 col2\" >49.700000</td>\n",
       "                        <td id=\"T_f8671ba8_c188_11ea_9877_6c40088c216arow8_col3\" class=\"data row8 col3\" >1263.000000</td>\n",
       "            </tr>\n",
       "            <tr>\n",
       "                        <th id=\"T_f8671ba8_c188_11ea_9877_6c40088c216alevel0_row9\" class=\"row_heading level0 row9\" >9</th>\n",
       "                        <td id=\"T_f8671ba8_c188_11ea_9877_6c40088c216arow9_col0\" class=\"data row9 col0\" >119.000000</td>\n",
       "                        <td id=\"T_f8671ba8_c188_11ea_9877_6c40088c216arow9_col1\" class=\"data row9 col1\" >Nashville, Tennessee</td>\n",
       "                        <td id=\"T_f8671ba8_c188_11ea_9877_6c40088c216arow9_col2\" class=\"data row9 col2\" >47.300000</td>\n",
       "                        <td id=\"T_f8671ba8_c188_11ea_9877_6c40088c216arow9_col3\" class=\"data row9 col3\" >1200.000000</td>\n",
       "            </tr>\n",
       "            <tr>\n",
       "                        <th id=\"T_f8671ba8_c188_11ea_9877_6c40088c216alevel0_row10\" class=\"row_heading level0 row10\" >10</th>\n",
       "                        <td id=\"T_f8671ba8_c188_11ea_9877_6c40088c216arow10_col0\" class=\"data row10 col0\" >125.000000</td>\n",
       "                        <td id=\"T_f8671ba8_c188_11ea_9877_6c40088c216arow10_col1\" class=\"data row10 col1\" >Providence, Rhode Island</td>\n",
       "                        <td id=\"T_f8671ba8_c188_11ea_9877_6c40088c216arow10_col2\" class=\"data row10 col2\" >47.200000</td>\n",
       "                        <td id=\"T_f8671ba8_c188_11ea_9877_6c40088c216arow10_col3\" class=\"data row10 col3\" >1198.000000</td>\n",
       "            </tr>\n",
       "            <tr>\n",
       "                        <th id=\"T_f8671ba8_c188_11ea_9877_6c40088c216alevel0_row11\" class=\"row_heading level0 row11\" >11</th>\n",
       "                        <td id=\"T_f8671ba8_c188_11ea_9877_6c40088c216arow11_col0\" class=\"data row11 col0\" >117.000000</td>\n",
       "                        <td id=\"T_f8671ba8_c188_11ea_9877_6c40088c216arow11_col1\" class=\"data row11 col1\" >Virginia Beach, Virginia</td>\n",
       "                        <td id=\"T_f8671ba8_c188_11ea_9877_6c40088c216arow11_col2\" class=\"data row11 col2\" >46.500000</td>\n",
       "                        <td id=\"T_f8671ba8_c188_11ea_9877_6c40088c216arow11_col3\" class=\"data row11 col3\" >1182.000000</td>\n",
       "            </tr>\n",
       "            <tr>\n",
       "                        <th id=\"T_f8671ba8_c188_11ea_9877_6c40088c216alevel0_row12\" class=\"row_heading level0 row12\" >12</th>\n",
       "                        <td id=\"T_f8671ba8_c188_11ea_9877_6c40088c216arow12_col0\" class=\"data row12 col0\" >105.000000</td>\n",
       "                        <td id=\"T_f8671ba8_c188_11ea_9877_6c40088c216arow12_col1\" class=\"data row12 col1\" >Tampa, Florida</td>\n",
       "                        <td id=\"T_f8671ba8_c188_11ea_9877_6c40088c216arow12_col2\" class=\"data row12 col2\" >46.300000</td>\n",
       "                        <td id=\"T_f8671ba8_c188_11ea_9877_6c40088c216arow12_col3\" class=\"data row12 col3\" >1176.000000</td>\n",
       "            </tr>\n",
       "            <tr>\n",
       "                        <th id=\"T_f8671ba8_c188_11ea_9877_6c40088c216alevel0_row13\" class=\"row_heading level0 row13\" >13</th>\n",
       "                        <td id=\"T_f8671ba8_c188_11ea_9877_6c40088c216arow13_col0\" class=\"data row13 col0\" >100.000000</td>\n",
       "                        <td id=\"T_f8671ba8_c188_11ea_9877_6c40088c216arow13_col1\" class=\"data row13 col1\" >Raleigh, North Carolina</td>\n",
       "                        <td id=\"T_f8671ba8_c188_11ea_9877_6c40088c216arow13_col2\" class=\"data row13 col2\" >46.000000</td>\n",
       "                        <td id=\"T_f8671ba8_c188_11ea_9877_6c40088c216arow13_col3\" class=\"data row13 col3\" >1169.000000</td>\n",
       "            </tr>\n",
       "            <tr>\n",
       "                        <th id=\"T_f8671ba8_c188_11ea_9877_6c40088c216alevel0_row14\" class=\"row_heading level0 row14\" >14</th>\n",
       "                        <td id=\"T_f8671ba8_c188_11ea_9877_6c40088c216arow14_col0\" class=\"data row14 col0\" >130.000000</td>\n",
       "                        <td id=\"T_f8671ba8_c188_11ea_9877_6c40088c216arow14_col1\" class=\"data row14 col1\" >Hartford, Connecticut</td>\n",
       "                        <td id=\"T_f8671ba8_c188_11ea_9877_6c40088c216arow14_col2\" class=\"data row14 col2\" >45.900000</td>\n",
       "                        <td id=\"T_f8671ba8_c188_11ea_9877_6c40088c216arow14_col3\" class=\"data row14 col3\" >1165.000000</td>\n",
       "            </tr>\n",
       "            <tr>\n",
       "                        <th id=\"T_f8671ba8_c188_11ea_9877_6c40088c216alevel0_row15\" class=\"row_heading level0 row15\" >15</th>\n",
       "                        <td id=\"T_f8671ba8_c188_11ea_9877_6c40088c216arow15_col0\" class=\"data row15 col0\" >123.000000</td>\n",
       "                        <td id=\"T_f8671ba8_c188_11ea_9877_6c40088c216arow15_col1\" class=\"data row15 col1\" >Louisville, Kentucky</td>\n",
       "                        <td id=\"T_f8671ba8_c188_11ea_9877_6c40088c216arow15_col2\" class=\"data row15 col2\" >44.900000</td>\n",
       "                        <td id=\"T_f8671ba8_c188_11ea_9877_6c40088c216arow15_col3\" class=\"data row15 col3\" >1141.000000</td>\n",
       "            </tr>\n",
       "            <tr>\n",
       "                        <th id=\"T_f8671ba8_c188_11ea_9877_6c40088c216alevel0_row16\" class=\"row_heading level0 row16\" >16</th>\n",
       "                        <td id=\"T_f8671ba8_c188_11ea_9877_6c40088c216arow16_col0\" class=\"data row16 col0\" >126.000000</td>\n",
       "                        <td id=\"T_f8671ba8_c188_11ea_9877_6c40088c216arow16_col1\" class=\"data row16 col1\" >Boston, Massachusetts</td>\n",
       "                        <td id=\"T_f8671ba8_c188_11ea_9877_6c40088c216arow16_col2\" class=\"data row16 col2\" >43.800000</td>\n",
       "                        <td id=\"T_f8671ba8_c188_11ea_9877_6c40088c216arow16_col3\" class=\"data row16 col3\" >1112.000000</td>\n",
       "            </tr>\n",
       "            <tr>\n",
       "                        <th id=\"T_f8671ba8_c188_11ea_9877_6c40088c216alevel0_row17\" class=\"row_heading level0 row17\" >17</th>\n",
       "                        <td id=\"T_f8671ba8_c188_11ea_9877_6c40088c216arow17_col0\" class=\"data row17 col0\" >114.000000</td>\n",
       "                        <td id=\"T_f8671ba8_c188_11ea_9877_6c40088c216arow17_col1\" class=\"data row17 col1\" >Richmond, Virginia</td>\n",
       "                        <td id=\"T_f8671ba8_c188_11ea_9877_6c40088c216arow17_col2\" class=\"data row17 col2\" >43.600000</td>\n",
       "                        <td id=\"T_f8671ba8_c188_11ea_9877_6c40088c216arow17_col3\" class=\"data row17 col3\" >1107.000000</td>\n",
       "            </tr>\n",
       "            <tr>\n",
       "                        <th id=\"T_f8671ba8_c188_11ea_9877_6c40088c216alevel0_row18\" class=\"row_heading level0 row18\" >18</th>\n",
       "                        <td id=\"T_f8671ba8_c188_11ea_9877_6c40088c216arow18_col0\" class=\"data row18 col0\" >164.000000</td>\n",
       "                        <td id=\"T_f8671ba8_c188_11ea_9877_6c40088c216arow18_col1\" class=\"data row18 col1\" >Portland, Oregon</td>\n",
       "                        <td id=\"T_f8671ba8_c188_11ea_9877_6c40088c216arow18_col2\" class=\"data row18 col2\" >43.500000</td>\n",
       "                        <td id=\"T_f8671ba8_c188_11ea_9877_6c40088c216arow18_col3\" class=\"data row18 col3\" >1104.000000</td>\n",
       "            </tr>\n",
       "            <tr>\n",
       "                        <th id=\"T_f8671ba8_c188_11ea_9877_6c40088c216alevel0_row19\" class=\"row_heading level0 row19\" >19</th>\n",
       "                        <td id=\"T_f8671ba8_c188_11ea_9877_6c40088c216arow19_col0\" class=\"data row19 col0\" >129.000000</td>\n",
       "                        <td id=\"T_f8671ba8_c188_11ea_9877_6c40088c216arow19_col1\" class=\"data row19 col1\" >Indianapolis, Indiana</td>\n",
       "                        <td id=\"T_f8671ba8_c188_11ea_9877_6c40088c216arow19_col2\" class=\"data row19 col2\" >42.400000</td>\n",
       "                        <td id=\"T_f8671ba8_c188_11ea_9877_6c40088c216arow19_col3\" class=\"data row19 col3\" >1078.000000</td>\n",
       "            </tr>\n",
       "    </tbody></table>"
      ],
      "text/plain": [
       "<pandas.io.formats.style.Styler at 0x1226128d0>"
      ]
     },
     "execution_count": 40,
     "metadata": {},
     "output_type": "execute_result"
    }
   ],
   "source": [
    "precipitation.head(20).style.background_gradient(cmap='Greens')"
   ]
  },
  {
   "cell_type": "code",
   "execution_count": null,
   "metadata": {},
   "outputs": [],
   "source": [
    "from plotly.subplots import make_subplots\n",
    "import plotly.graph_objects as go\n",
    "\n",
    "# Initialize figure with subplots\n",
    "fig = make_subplots(\n",
    "    rows=2, cols=2, subplot_titles=(\"Plot 1\", \"Plot 2\", \"Plot 3\", \"Plot 4\")\n",
    ")\n",
    "\n",
    "# Add traces\n",
    "fig.add_trace(go.Scatter(x=[1, 2, 3], y=[4, 5, 6]), row=1, col=1)\n",
    "fig.add_trace(go.Scatter(x=[20, 30, 40], y=[50, 60, 70]), row=1, col=2)\n",
    "fig.add_trace(go.Scatter(x=[300, 400, 500], y=[600, 700, 800]), row=2, col=1)\n",
    "fig.add_trace(go.Scatter(x=[4000, 5000, 6000], y=[7000, 8000, 9000]), row=2, col=2)\n",
    "\n",
    "# Update xaxis properties\n",
    "fig.update_xaxes(title_text=\"xaxis 1 title\", row=1, col=1)\n",
    "fig.update_xaxes(title_text=\"xaxis 2 title\", range=[10, 50], row=1, col=2)\n",
    "fig.update_xaxes(title_text=\"xaxis 3 title\", showgrid=False, row=2, col=1)\n",
    "fig.update_xaxes(title_text=\"xaxis 4 title\", type=\"log\", row=2, col=2)\n",
    "\n",
    "# Update yaxis properties\n",
    "fig.update_yaxes(title_text=\"yaxis 1 title\", row=1, col=1)\n",
    "fig.update_yaxes(title_text=\"yaxis 2 title\", range=[40, 80], row=1, col=2)\n",
    "fig.update_yaxes(title_text=\"yaxis 3 title\", showgrid=False, row=2, col=1)\n",
    "fig.update_yaxes(title_text=\"yaxis 4 title\", row=2, col=2)\n",
    "\n",
    "# Update title and height\n",
    "fig.update_layout(title_text=\"Customizing Subplot Axes\", height=700)\n",
    "\n",
    "\n",
    "\n",
    "fig.show()"
   ]
  }
 ],
 "metadata": {
  "kernelspec": {
   "display_name": "Python 3",
   "language": "python",
   "name": "python3"
  },
  "language_info": {
   "codemirror_mode": {
    "name": "ipython",
    "version": 3
   },
   "file_extension": ".py",
   "mimetype": "text/x-python",
   "name": "python",
   "nbconvert_exporter": "python",
   "pygments_lexer": "ipython3",
   "version": "3.6.2"
  }
 },
 "nbformat": 4,
 "nbformat_minor": 4
}
